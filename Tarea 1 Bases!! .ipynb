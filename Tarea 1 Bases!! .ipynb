{
 "cells": [
  {
   "cell_type": "markdown",
   "metadata": {},
   "source": [
    "Esta tarea está dividida en 3 partes: \n",
    "\n",
    "1. Uso básico de Julia. Operaciones básicas con escalares, vectores y matrices.\n",
    "- Gráficas con Plots. \n",
    "- Estimaciones de complejidad computacional. "
   ]
  },
  {
   "cell_type": "markdown",
   "metadata": {},
   "source": [
    "# Uso básico de Julia\n",
    "\n",
    "## Funciones\n",
    "\n",
    "[1] Usando la ley de radiación del cuerpo negro y datos experimentales, se llega a que para una temperatura dada, el espectro de energía como función de la frecuencia de luz radiada sigue la siguiente ecuación.\n",
    "\n",
    "$$ \\frac{\\nu^3}{e^{\\nu/3} - 1} = U(\\nu) $$\n",
    "\n",
    " Se mide una energía $U(\\nu) = 5$, ¿a qué frecuencia corresponde?  \n",
    " \n",
    "Cómo se trata de una ecuación trasendental, es casi siempre necesario utilizar métodos numéricos. Si conoces el método de Newton Raphson, aplícalo, si no lo conoces, sigue los siguientes pasos: \n",
    "\n",
    "i) Haz una función en JULIA para calcular $U(\\nu)-5$.\n",
    "\n",
    "ii) Calcula la derivada (de forma analítica) de la función y haz una función en JULIA que calcule $\\frac{d U}{d\\nu}(\\nu)$. (Puedes usar wolfram alpha)\n",
    "\n",
    "iii) Haz una función ($f(m, x_0, y_0)$) que calcule la intersección de una recta ($y(x) = m(x-x_0)+y_0$), y el eje $x$. \n",
    "\n",
    "iv) Haz una adivinanza inicia de qué valor debe de tener $\\nu$. Tu adivinanza ($\\nu_0$) y $U(\\nu_0)-5$ serán $x_0$ y $y_0$. La pendiente será $m= \\frac{d U}{d\\nu}(\\nu_0)$. Una segunda buena adivinanza sería $\\nu_1 = f(m, \\nu_0, U(\\nu_0))$. \n",
    "\n",
    "v) Haz una función que calcule de forma recursiva (utilizando el ciclo while) el valor de $\\nu_i$ utilizando la idea del inciso anterior. Para hacer el ciclo, mide qué tan lejano de $U(\\nu) = 0$ está tu valor de $\\nu_i$ en cada paso. Si la distancia es menor que una cierta tolerancia (por ejemplo $\\Delta = 0.00001$), el ciclo se detiene. No olvides poner un contador al hacer pruebas. Finalmente, obten el valor de $\\nu$.\n",
    "\n",
    "Acabas de utilizar el método de Newton Rapshon para calcular el valor de $\\nu$!\n"
   ]
  },
  {
   "cell_type": "code",
   "execution_count": 1,
   "metadata": {},
   "outputs": [
    {
     "name": "stdout",
     "output_type": "stream",
     "text": [
      "\u001b[32m\u001b[1m  Updating\u001b[22m\u001b[39m registry at `~/.julia/registries/General`\n",
      "\u001b[32m\u001b[1m  Updating\u001b[22m\u001b[39m git-repo `https://github.com/JuliaRegistries/General.git`\n",
      "\u001b[?25l\u001b[2K\u001b[?25h\u001b[32m\u001b[1m Resolving\u001b[22m\u001b[39m package versions...\n",
      "\u001b[32m\u001b[1m  Updating\u001b[22m\u001b[39m `~/.julia/environments/v1.0/Project.toml`\n",
      "\u001b[90m [no changes]\u001b[39m\n",
      "\u001b[32m\u001b[1m  Updating\u001b[22m\u001b[39m `~/.julia/environments/v1.0/Manifest.toml`\n",
      "\u001b[90m [no changes]\u001b[39m\n"
     ]
    }
   ],
   "source": [
    "using Pkg\n",
    "Pkg.add(\"Plots\")"
   ]
  },
  {
   "cell_type": "code",
   "execution_count": 3,
   "metadata": {},
   "outputs": [],
   "source": [
    "using Plots"
   ]
  },
  {
   "cell_type": "code",
   "execution_count": 4,
   "metadata": {
    "scrolled": true
   },
   "outputs": [
    {
     "data": {
      "text/plain": [
       "Plots.GRBackend()"
      ]
     },
     "execution_count": 4,
     "metadata": {},
     "output_type": "execute_result"
    }
   ],
   "source": [
    "gr()"
   ]
  },
  {
   "cell_type": "code",
   "execution_count": 101,
   "metadata": {
    "scrolled": true
   },
   "outputs": [],
   "source": [
    "import Distributions: Uniform \n",
    "using LinearAlgebra"
   ]
  },
  {
   "cell_type": "code",
   "execution_count": 7,
   "metadata": {},
   "outputs": [
    {
     "name": "stdout",
     "output_type": "stream",
     "text": [
      "Las raices del polinomio son"
     ]
    },
    {
     "data": {
      "image/svg+xml": [
       "<?xml version=\"1.0\" encoding=\"utf-8\"?>\n",
       "<svg xmlns=\"http://www.w3.org/2000/svg\" xmlns:xlink=\"http://www.w3.org/1999/xlink\" width=\"600\" height=\"400\" viewBox=\"0 0 2400 1600\">\n",
       "<defs>\n",
       "  <clipPath id=\"clip4700\">\n",
       "    <rect x=\"0\" y=\"0\" width=\"2000\" height=\"2000\"/>\n",
       "  </clipPath>\n",
       "</defs>\n",
       "<defs>\n",
       "  <clipPath id=\"clip4701\">\n",
       "    <rect x=\"0\" y=\"0\" width=\"2400\" height=\"1600\"/>\n",
       "  </clipPath>\n",
       "</defs>\n",
       "<polygon clip-path=\"url(#clip4701)\" points=\"\n",
       "0,1600 2400,1600 2400,0 0,0 \n",
       "  \" fill=\"#ffffff\" fill-rule=\"evenodd\" fill-opacity=\"1\"/>\n",
       "<defs>\n",
       "  <clipPath id=\"clip4702\">\n",
       "    <rect x=\"480\" y=\"0\" width=\"1681\" height=\"1600\"/>\n",
       "  </clipPath>\n",
       "</defs>\n",
       "<polygon clip-path=\"url(#clip4701)\" points=\"\n",
       "148.013,1503.47 2321.26,1503.47 2321.26,47.2441 148.013,47.2441 \n",
       "  \" fill=\"#ffffff\" fill-rule=\"evenodd\" fill-opacity=\"1\"/>\n",
       "<defs>\n",
       "  <clipPath id=\"clip4703\">\n",
       "    <rect x=\"148\" y=\"47\" width=\"2174\" height=\"1457\"/>\n",
       "  </clipPath>\n",
       "</defs>\n",
       "<polyline clip-path=\"url(#clip4703)\" style=\"stroke:#000000; stroke-width:2; stroke-opacity:0.1; fill:none\" points=\"\n",
       "  450.724,1503.47 450.724,47.2441 \n",
       "  \"/>\n",
       "<polyline clip-path=\"url(#clip4703)\" style=\"stroke:#000000; stroke-width:2; stroke-opacity:0.1; fill:none\" points=\"\n",
       "  1053.73,1503.47 1053.73,47.2441 \n",
       "  \"/>\n",
       "<polyline clip-path=\"url(#clip4703)\" style=\"stroke:#000000; stroke-width:2; stroke-opacity:0.1; fill:none\" points=\"\n",
       "  1656.74,1503.47 1656.74,47.2441 \n",
       "  \"/>\n",
       "<polyline clip-path=\"url(#clip4703)\" style=\"stroke:#000000; stroke-width:2; stroke-opacity:0.1; fill:none\" points=\"\n",
       "  2259.75,1503.47 2259.75,47.2441 \n",
       "  \"/>\n",
       "<polyline clip-path=\"url(#clip4703)\" style=\"stroke:#000000; stroke-width:2; stroke-opacity:0.1; fill:none\" points=\"\n",
       "  148.013,1383.66 2321.26,1383.66 \n",
       "  \"/>\n",
       "<polyline clip-path=\"url(#clip4703)\" style=\"stroke:#000000; stroke-width:2; stroke-opacity:0.1; fill:none\" points=\"\n",
       "  148.013,1067.41 2321.26,1067.41 \n",
       "  \"/>\n",
       "<polyline clip-path=\"url(#clip4703)\" style=\"stroke:#000000; stroke-width:2; stroke-opacity:0.1; fill:none\" points=\"\n",
       "  148.013,751.154 2321.26,751.154 \n",
       "  \"/>\n",
       "<polyline clip-path=\"url(#clip4703)\" style=\"stroke:#000000; stroke-width:2; stroke-opacity:0.1; fill:none\" points=\"\n",
       "  148.013,434.899 2321.26,434.899 \n",
       "  \"/>\n",
       "<polyline clip-path=\"url(#clip4703)\" style=\"stroke:#000000; stroke-width:2; stroke-opacity:0.1; fill:none\" points=\"\n",
       "  148.013,118.644 2321.26,118.644 \n",
       "  \"/>\n",
       "<polyline clip-path=\"url(#clip4701)\" style=\"stroke:#000000; stroke-width:4; stroke-opacity:1; fill:none\" points=\"\n",
       "  148.013,1503.47 2321.26,1503.47 \n",
       "  \"/>\n",
       "<polyline clip-path=\"url(#clip4701)\" style=\"stroke:#000000; stroke-width:4; stroke-opacity:1; fill:none\" points=\"\n",
       "  148.013,1503.47 148.013,47.2441 \n",
       "  \"/>\n",
       "<polyline clip-path=\"url(#clip4701)\" style=\"stroke:#000000; stroke-width:4; stroke-opacity:1; fill:none\" points=\"\n",
       "  450.724,1503.47 450.724,1481.63 \n",
       "  \"/>\n",
       "<polyline clip-path=\"url(#clip4701)\" style=\"stroke:#000000; stroke-width:4; stroke-opacity:1; fill:none\" points=\"\n",
       "  1053.73,1503.47 1053.73,1481.63 \n",
       "  \"/>\n",
       "<polyline clip-path=\"url(#clip4701)\" style=\"stroke:#000000; stroke-width:4; stroke-opacity:1; fill:none\" points=\"\n",
       "  1656.74,1503.47 1656.74,1481.63 \n",
       "  \"/>\n",
       "<polyline clip-path=\"url(#clip4701)\" style=\"stroke:#000000; stroke-width:4; stroke-opacity:1; fill:none\" points=\"\n",
       "  2259.75,1503.47 2259.75,1481.63 \n",
       "  \"/>\n",
       "<polyline clip-path=\"url(#clip4701)\" style=\"stroke:#000000; stroke-width:4; stroke-opacity:1; fill:none\" points=\"\n",
       "  148.013,1383.66 180.612,1383.66 \n",
       "  \"/>\n",
       "<polyline clip-path=\"url(#clip4701)\" style=\"stroke:#000000; stroke-width:4; stroke-opacity:1; fill:none\" points=\"\n",
       "  148.013,1067.41 180.612,1067.41 \n",
       "  \"/>\n",
       "<polyline clip-path=\"url(#clip4701)\" style=\"stroke:#000000; stroke-width:4; stroke-opacity:1; fill:none\" points=\"\n",
       "  148.013,751.154 180.612,751.154 \n",
       "  \"/>\n",
       "<polyline clip-path=\"url(#clip4701)\" style=\"stroke:#000000; stroke-width:4; stroke-opacity:1; fill:none\" points=\"\n",
       "  148.013,434.899 180.612,434.899 \n",
       "  \"/>\n",
       "<polyline clip-path=\"url(#clip4701)\" style=\"stroke:#000000; stroke-width:4; stroke-opacity:1; fill:none\" points=\"\n",
       "  148.013,118.644 180.612,118.644 \n",
       "  \"/>\n",
       "<g clip-path=\"url(#clip4701)\">\n",
       "<text style=\"fill:#000000; fill-opacity:1; font-family:Arial,Helvetica Neue,Helvetica,sans-serif; font-size:48px; text-anchor:middle;\" transform=\"rotate(0, 450.724, 1557.47)\" x=\"450.724\" y=\"1557.47\">0</text>\n",
       "</g>\n",
       "<g clip-path=\"url(#clip4701)\">\n",
       "<text style=\"fill:#000000; fill-opacity:1; font-family:Arial,Helvetica Neue,Helvetica,sans-serif; font-size:48px; text-anchor:middle;\" transform=\"rotate(0, 1053.73, 1557.47)\" x=\"1053.73\" y=\"1557.47\">10</text>\n",
       "</g>\n",
       "<g clip-path=\"url(#clip4701)\">\n",
       "<text style=\"fill:#000000; fill-opacity:1; font-family:Arial,Helvetica Neue,Helvetica,sans-serif; font-size:48px; text-anchor:middle;\" transform=\"rotate(0, 1656.74, 1557.47)\" x=\"1656.74\" y=\"1557.47\">20</text>\n",
       "</g>\n",
       "<g clip-path=\"url(#clip4701)\">\n",
       "<text style=\"fill:#000000; fill-opacity:1; font-family:Arial,Helvetica Neue,Helvetica,sans-serif; font-size:48px; text-anchor:middle;\" transform=\"rotate(0, 2259.75, 1557.47)\" x=\"2259.75\" y=\"1557.47\">30</text>\n",
       "</g>\n",
       "<g clip-path=\"url(#clip4701)\">\n",
       "<text style=\"fill:#000000; fill-opacity:1; font-family:Arial,Helvetica Neue,Helvetica,sans-serif; font-size:48px; text-anchor:end;\" transform=\"rotate(0, 124.013, 1401.16)\" x=\"124.013\" y=\"1401.16\">0</text>\n",
       "</g>\n",
       "<g clip-path=\"url(#clip4701)\">\n",
       "<text style=\"fill:#000000; fill-opacity:1; font-family:Arial,Helvetica Neue,Helvetica,sans-serif; font-size:48px; text-anchor:end;\" transform=\"rotate(0, 124.013, 1084.91)\" x=\"124.013\" y=\"1084.91\">20</text>\n",
       "</g>\n",
       "<g clip-path=\"url(#clip4701)\">\n",
       "<text style=\"fill:#000000; fill-opacity:1; font-family:Arial,Helvetica Neue,Helvetica,sans-serif; font-size:48px; text-anchor:end;\" transform=\"rotate(0, 124.013, 768.654)\" x=\"124.013\" y=\"768.654\">40</text>\n",
       "</g>\n",
       "<g clip-path=\"url(#clip4701)\">\n",
       "<text style=\"fill:#000000; fill-opacity:1; font-family:Arial,Helvetica Neue,Helvetica,sans-serif; font-size:48px; text-anchor:end;\" transform=\"rotate(0, 124.013, 452.399)\" x=\"124.013\" y=\"452.399\">60</text>\n",
       "</g>\n",
       "<g clip-path=\"url(#clip4701)\">\n",
       "<text style=\"fill:#000000; fill-opacity:1; font-family:Arial,Helvetica Neue,Helvetica,sans-serif; font-size:48px; text-anchor:end;\" transform=\"rotate(0, 124.013, 136.144)\" x=\"124.013\" y=\"136.144\">80</text>\n",
       "</g>\n",
       "<polyline clip-path=\"url(#clip4703)\" style=\"stroke:#009af9; stroke-width:4; stroke-opacity:1; fill:none\" points=\"\n",
       "  209.52,88.4582 215.55,173.329 221.58,254.652 227.61,332.509 233.64,406.984 239.67,478.158 245.7,546.111 251.731,610.924 257.761,672.676 263.791,731.446 \n",
       "  269.821,787.312 275.851,840.35 281.881,890.636 287.911,938.247 293.941,983.257 299.971,1025.74 306.001,1065.77 312.032,1103.41 318.062,1138.74 324.092,1171.83 \n",
       "  330.122,1202.75 336.152,1231.56 342.182,1258.33 348.212,1283.14 354.242,1306.04 360.272,1327.09 366.302,1346.37 372.332,1363.94 378.363,1379.85 384.393,1394.16 \n",
       "  390.423,1406.94 396.453,1418.25 402.483,1428.14 408.513,1436.67 414.543,1443.88 420.573,1449.85 426.603,1454.62 432.633,1458.24 438.664,1460.77 444.694,1462.24 \n",
       "  \n",
       "  \"/>\n",
       "<polyline clip-path=\"url(#clip4703)\" style=\"stroke:#009af9; stroke-width:4; stroke-opacity:1; fill:none\" points=\"\n",
       "  456.754,1462.26 462.784,1460.89 468.814,1458.67 474.844,1455.63 480.874,1451.83 486.904,1447.3 492.934,1442.09 498.965,1436.24 504.995,1429.78 511.025,1422.76 \n",
       "  517.055,1415.21 523.085,1407.17 529.115,1398.68 535.145,1389.76 541.175,1380.46 547.205,1370.8 553.235,1360.83 559.265,1350.55 565.296,1340.02 571.326,1329.25 \n",
       "  577.356,1318.27 583.386,1307.11 589.416,1295.8 595.446,1284.36 601.476,1272.81 607.506,1261.18 613.536,1249.49 619.566,1237.76 625.597,1226.01 631.627,1214.26 \n",
       "  637.657,1202.52 643.687,1190.83 649.717,1179.19 655.747,1167.61 661.777,1156.13 667.807,1144.74 673.837,1133.47 679.867,1122.33 685.898,1111.33 691.928,1100.47 \n",
       "  697.958,1089.79 703.988,1079.27 710.018,1068.94 716.048,1058.8 722.078,1048.87 728.108,1039.14 734.138,1029.63 740.168,1020.34 746.198,1011.29 752.229,1002.46 \n",
       "  758.259,993.885 764.289,985.551 770.319,977.466 776.349,969.636 782.379,962.062 788.409,954.748 794.439,947.697 800.469,940.909 806.499,934.388 812.53,928.133 \n",
       "  818.56,922.146 824.59,916.428 830.62,910.978 836.65,905.796 842.68,900.883 848.71,896.236 854.74,891.855 860.77,887.739 866.8,883.886 872.831,880.294 \n",
       "  878.861,876.961 884.891,873.884 890.921,871.062 896.951,868.492 902.981,866.17 909.011,864.093 915.041,862.259 921.071,860.663 927.101,859.303 933.132,858.174 \n",
       "  939.162,857.273 945.192,856.596 951.222,856.139 957.252,855.897 963.282,855.867 969.312,856.044 975.342,856.424 981.372,857.002 987.402,857.775 993.432,858.736 \n",
       "  999.463,859.883 1005.49,861.21 1011.52,862.712 1017.55,864.385 1023.58,866.225 1029.61,868.227 1035.64,870.385 1041.67,872.696 1047.7,875.154 1053.73,877.755 \n",
       "  1059.76,880.495 1065.79,883.368 1071.82,886.371 1077.85,889.498 1083.88,892.745 1089.91,896.108 1095.94,899.582 1101.97,903.163 1108,906.846 1114.03,910.627 \n",
       "  1120.06,914.502 1126.09,918.467 1132.12,922.517 1138.15,926.648 1144.18,930.857 1150.21,935.14 1156.25,939.491 1162.28,943.909 1168.31,948.388 1174.34,952.926 \n",
       "  1180.37,957.518 1186.4,962.161 1192.43,966.851 1198.46,971.586 1204.49,976.361 1210.52,981.174 1216.55,986.022 1222.58,990.9 1228.61,995.806 1234.64,1000.74 \n",
       "  1240.67,1005.69 1246.7,1010.66 1252.73,1015.65 1258.76,1020.66 1264.79,1025.67 1270.82,1030.7 1276.85,1035.73 1282.88,1040.76 1288.91,1045.8 1294.94,1050.83 \n",
       "  1300.97,1055.86 1307,1060.89 1313.03,1065.91 1319.06,1070.92 1325.09,1075.92 1331.12,1080.91 1337.15,1085.88 1343.18,1090.84 1349.21,1095.78 1355.24,1100.7 \n",
       "  1361.27,1105.6 1367.3,1110.47 1373.33,1115.32 1379.36,1120.15 1385.39,1124.95 1391.42,1129.72 1397.45,1134.46 1403.48,1139.18 1409.51,1143.86 1415.54,1148.51 \n",
       "  1421.57,1153.13 1427.6,1157.71 1433.63,1162.25 1439.66,1166.77 1445.69,1171.24 1451.72,1175.68 1457.75,1180.08 1463.78,1184.44 1469.81,1188.76 1475.84,1193.04 \n",
       "  1481.87,1197.28 1487.9,1201.48 1493.93,1205.64 1499.96,1209.76 1505.99,1213.84 1512.02,1217.87 1518.05,1221.86 1524.08,1225.81 1530.11,1229.71 1536.14,1233.57 \n",
       "  1542.17,1237.39 1548.2,1241.16 1554.23,1244.89 1560.26,1248.57 1566.29,1252.21 1572.32,1255.81 1578.35,1259.36 1584.38,1262.87 1590.41,1266.33 1596.44,1269.75 \n",
       "  1602.47,1273.12 1608.5,1276.45 1614.53,1279.74 1620.56,1282.98 1626.59,1286.18 1632.62,1289.34 1638.65,1292.45 1644.68,1295.52 1650.71,1298.55 1656.74,1301.53 \n",
       "  1662.77,1304.47 1668.8,1307.37 1674.83,1310.23 1680.86,1313.04 1686.89,1315.81 1692.92,1318.55 1698.95,1321.24 1704.98,1323.89 1711.01,1326.5 1717.04,1329.07 \n",
       "  1723.07,1331.6 1729.1,1334.09 1735.13,1336.54 1741.16,1338.95 1747.19,1341.33 1753.22,1343.67 1759.25,1345.96 1765.28,1348.23 1771.31,1350.45 1777.35,1352.64 \n",
       "  1783.38,1354.79 1789.41,1356.91 1795.44,1358.99 1801.47,1361.04 1807.5,1363.05 1813.53,1365.03 1819.56,1366.98 1825.59,1368.89 1831.62,1370.76 1837.65,1372.61 \n",
       "  1843.68,1374.42 1849.71,1376.21 1855.74,1377.96 1861.77,1379.68 1867.8,1381.37 1873.83,1383.03 1879.86,1384.66 1885.89,1386.26 1891.92,1387.83 1897.95,1389.37 \n",
       "  1903.98,1390.89 1910.01,1392.37 1916.04,1393.83 1922.07,1395.27 1928.1,1396.67 1934.13,1398.06 1940.16,1399.41 1946.19,1400.74 1952.22,1402.04 1958.25,1403.32 \n",
       "  1964.28,1404.58 1970.31,1405.81 1976.34,1407.02 1982.37,1408.2 1988.4,1409.37 1994.43,1410.51 2000.46,1411.63 2006.49,1412.72 2012.52,1413.8 2018.55,1414.85 \n",
       "  2024.58,1415.88 2030.61,1416.9 2036.64,1417.89 2042.67,1418.86 2048.7,1419.82 2054.73,1420.75 2060.76,1421.67 2066.79,1422.57 2072.82,1423.45 2078.85,1424.31 \n",
       "  2084.88,1425.16 2090.91,1425.99 2096.94,1426.8 2102.97,1427.59 2109,1428.37 2115.03,1429.13 2121.06,1429.88 2127.09,1430.61 2133.12,1431.33 2139.15,1432.03 \n",
       "  2145.18,1432.72 2151.21,1433.39 2157.24,1434.05 2163.27,1434.69 2169.3,1435.33 2175.33,1435.94 2181.36,1436.55 2187.39,1437.14 2193.42,1437.72 2199.45,1438.29 \n",
       "  2205.48,1438.85 2211.51,1439.39 2217.54,1439.92 2223.57,1440.44 2229.6,1440.95 2235.63,1441.45 2241.66,1441.94 2247.69,1442.42 2253.72,1442.89 2259.75,1443.34 \n",
       "  \n",
       "  \"/>\n",
       "<polygon clip-path=\"url(#clip4701)\" points=\"\n",
       "1958.43,251.724 2249.26,251.724 2249.26,130.764 1958.43,130.764 \n",
       "  \" fill=\"#ffffff\" fill-rule=\"evenodd\" fill-opacity=\"1\"/>\n",
       "<polyline clip-path=\"url(#clip4701)\" style=\"stroke:#000000; stroke-width:4; stroke-opacity:1; fill:none\" points=\"\n",
       "  1958.43,251.724 2249.26,251.724 2249.26,130.764 1958.43,130.764 1958.43,251.724 \n",
       "  \"/>\n",
       "<polyline clip-path=\"url(#clip4701)\" style=\"stroke:#009af9; stroke-width:4; stroke-opacity:1; fill:none\" points=\"\n",
       "  1982.43,191.244 2126.43,191.244 \n",
       "  \"/>\n",
       "<g clip-path=\"url(#clip4701)\">\n",
       "<text style=\"fill:#000000; fill-opacity:1; font-family:Arial,Helvetica Neue,Helvetica,sans-serif; font-size:48px; text-anchor:start;\" transform=\"rotate(0, 2150.43, 208.744)\" x=\"2150.43\" y=\"208.744\">y1</text>\n",
       "</g>\n",
       "</svg>\n"
      ]
     },
     "execution_count": 7,
     "metadata": {},
     "output_type": "execute_result"
    }
   ],
   "source": [
    "function NR(f,f′)\n",
    "    num_rand = 1000\n",
    "    A = rand(-20.0:20.0, num_rand, 1)\n",
    "    \n",
    "    C = [0.0]\n",
    "    interval = 1:num_rand\n",
    "    for i in interval\n",
    "        for j in 1:100\n",
    "            A[i] = A[i] - f(A[i])/f′(A[i])\n",
    "        end\n",
    "        contador = 0\n",
    "        for k in 1:length(C)\n",
    "            if round(A[i]) == round(C[k])  \n",
    "            contador += 1  \n",
    "            end\n",
    "           # @show A, A[i], C[k],C\n",
    "        end\n",
    "        if (contador < 1) && (A[i] != NaN)\n",
    "            push!(C,A[i])\n",
    "        end  \n",
    "    end\n",
    "    deleteat!(C,1)\n",
    "    print(\"Las raices del polinomio son\")\n",
    "    return C\n",
    "    \n",
    "end\n",
    "f(x) = (x^3)/(exp(x/3) - 1) - 5\n",
    "f′(x) = -((9 + exp(x/3)*(-9 + x))*x^2)/(3*(-1 + exp(x/3))^2)\n",
    "NR(f, f′)\n",
    "\n",
    "intervalo = -4:0.1:30\n",
    "plot(intervalo, f.(intervalo))\n"
   ]
  },
  {
   "cell_type": "markdown",
   "metadata": {},
   "source": [
    "[2] Usa BigFloat para resolver la misma ecuación que la anterior, compara el resultado y el tiempo de cómputo (recomendamos usar BenchmarkTools con @btime)."
   ]
  },
  {
   "cell_type": "markdown",
   "metadata": {},
   "source": [
    "## Recordatorio de álgebra (geometría) vectorial\n",
    "\n",
    "[3]  En el curso, el uso de vectores será más que común. Por eso necesitas tener algo de práctica con ellos y debes saber calcular las cantidades básicas. \n",
    "\n",
    "    i) Calcula la distancia entre 2 vectores dados en 2D. \n",
    "    \n",
    "    ii) Calcula la proyección de un vector sobre el otro. \n",
    "    \n",
    "    iii) Calcula el área que forma el rombo producido por ambos vectores.\n",
    "    \n",
    "    iv) Calcula el vector ortonormal a ambos vectores (si lo hiciste bien, debes obtener (0,0,1) o bien (0,0,-1))."
   ]
  },
  {
   "cell_type": "markdown",
   "metadata": {},
   "source": [
    "i) Calcula la distancia entre 2 vectores dados en 2D."
   ]
  },
  {
   "cell_type": "code",
   "execution_count": 42,
   "metadata": {},
   "outputs": [
    {
     "data": {
      "text/plain": [
       "0.3035049314503375"
      ]
     },
     "execution_count": 42,
     "metadata": {},
     "output_type": "execute_result"
    }
   ],
   "source": [
    "u = rand(2)\n",
    "v = rand(2)\n",
    "w = u .- v\n",
    "distancia = norm(w)"
   ]
  },
  {
   "cell_type": "markdown",
   "metadata": {},
   "source": [
    "ii) Calcula la proyección de un vector sobre el otro."
   ]
  },
  {
   "cell_type": "code",
   "execution_count": 152,
   "metadata": {
    "scrolled": true
   },
   "outputs": [
    {
     "data": {
      "text/plain": [
       "2-element Array{Float64,1}:\n",
       " 3.0\n",
       " 0.0"
      ]
     },
     "execution_count": 152,
     "metadata": {},
     "output_type": "execute_result"
    }
   ],
   "source": [
    "v = [6,0]\n",
    "u = [3,0]\n",
    "proyeccion = (dot(u,v)/dot(v,v))*v\n"
   ]
  },
  {
   "cell_type": "markdown",
   "metadata": {},
   "source": [
    "iii) Calcula el área que forma el rombo producido por ambos vectores."
   ]
  },
  {
   "cell_type": "code",
   "execution_count": 155,
   "metadata": {},
   "outputs": [
    {
     "data": {
      "text/plain": [
       "0.08696463747817636"
      ]
     },
     "execution_count": 155,
     "metadata": {},
     "output_type": "execute_result"
    }
   ],
   "source": [
    "u_3d = rand(3)\n",
    "v_3d = rand(3)\n",
    "area = norm(u_3d×v_3d)"
   ]
  },
  {
   "cell_type": "markdown",
   "metadata": {},
   "source": [
    "iv) Calcula el vector ortonormal a ambos vectores (si lo hiciste bien, debes obtener (0,0,1) o bien (0,0,-1))."
   ]
  },
  {
   "cell_type": "code",
   "execution_count": 174,
   "metadata": {},
   "outputs": [
    {
     "data": {
      "text/plain": [
       "3-element Array{Float64,1}:\n",
       "  0.0\n",
       "  0.0\n",
       " -1.0"
      ]
     },
     "execution_count": 174,
     "metadata": {},
     "output_type": "execute_result"
    }
   ],
   "source": [
    "u = [rand(2);0.0]\n",
    "v = [rand(2);0.0]\n",
    "vector = u×v\n",
    "vector_ortonormal = vector/norm(vector,vector)"
   ]
  },
  {
   "cell_type": "markdown",
   "metadata": {},
   "source": [
    "[4] Calcula la distancia entre un punto en el espacio y una recta. Para esto haz una función que tome como variables el vector $x_0$, el vector $x_1$ y el vector $v_1$. Estos valores representan el punto en el espacio, un punto por el que pasa la recta y el vector dirección de la recta. "
   ]
  },
  {
   "cell_type": "code",
   "execution_count": 89,
   "metadata": {},
   "outputs": [
    {
     "data": {
      "text/plain": [
       "1.414213562373095"
      ]
     },
     "execution_count": 89,
     "metadata": {},
     "output_type": "execute_result"
    }
   ],
   "source": [
    "function Punto_recta(x_0, x_1, v_1)\n",
    "    x = collect(Float16, range(-2,length=100,stop=2))\n",
    "    y = x_1[2] .+ (v_1[2]./v_1[1]).*(x .- x_1[1]) # Recta punto pendiente\n",
    "    \n",
    "    distancia = norm((x_0 - x_1)×v_1)/norm(v_1)\n",
    "    \n",
    "    return distancia\n",
    "end\n",
    "\n",
    "x_0 = [2,0,0]\n",
    "x_1 = [0,0,0]\n",
    "v_1 = [1,0,1]\n",
    "\n",
    "Punto_recta(x_0, x_1, v_1)"
   ]
  },
  {
   "cell_type": "markdown",
   "metadata": {},
   "source": [
    "[5] Calcula la distancia entre dos rectas oblicuas, es decir, dos rectas en 3D, que no son paralelas, pero no se tocan en ningún momento. Haz para esto una función que tome como entradas uno de los puntos por los que pasa cada una de las rectas y sus vectores direccionales, y que regrese la distancia entre ambas rectas (la distancia se mide entre los puntos más cercanos entre ambas rectas). "
   ]
  },
  {
   "cell_type": "code",
   "execution_count": null,
   "metadata": {},
   "outputs": [],
   "source": []
  },
  {
   "cell_type": "markdown",
   "metadata": {},
   "source": [
    "## Matrices\n",
    "\n",
    "Lo más básico es saber resolver sistemas de ecuaciones. \n",
    "\n",
    "[6] Resuelve el siguiente sistema de ecuaciones lineales numéricamente. \n",
    "\n",
    "$$ \n",
    "\\begin{array}{rcl} 3.5x_1-3x_2+5.2x_3-4.1x_4-3.6x_5 = \\sqrt{2} \\\\ \\sqrt{2}x_1+4x_2-x_3+4.4x_4-2.8x_5 = \\pi \\\\ x_1+2x_2+3x_3+4x_4+5x_5 = -1  \\\\ -3.3x_1-2.8x_2+x_3-1.9x_4+x_5 = 10.3  \\\\ 1.3x_1-1.3x_2+2.2x_3+4.4x_4+5.5x_5 = 7.9  \\end{array}\n",
    "$$"
   ]
  },
  {
   "cell_type": "code",
   "execution_count": null,
   "metadata": {},
   "outputs": [],
   "source": []
  },
  {
   "cell_type": "markdown",
   "metadata": {},
   "source": [
    "[7] El siguiente paso es entender qué significa un producto matricial geométricamente. Esto puede ser una rotación, una reflexión o un estiramiento. \n",
    "\n",
    "   i) Haz una función que genere una matriz de rotación para el caso 2D y el caso 3D (en este último caso necesitarás dar como argumentos 3 ángulos). \n",
    "   \n",
    "   ii) También haz una matriz que estire objetos una cantidad dada y en una dirección a legirse entre los N ejes posibles. "
   ]
  },
  {
   "cell_type": "code",
   "execution_count": null,
   "metadata": {},
   "outputs": [],
   "source": []
  },
  {
   "cell_type": "markdown",
   "metadata": {},
   "source": [
    "Otra posibilidad es que conozcas la matriz, que hace al mismo tiempo rotaciones y estiramientos, deformando un objeto dado y lo que quieras, es descomponer esta transformación en una rotación o reflexión (una transformación unitaria), luego un estiramiento a lo largo de los ejes (una matriz diagonal) y luego otra rotación (otra transformación unitaria). Para eso se usa lo que se conoce como descomposición de valores singulares (SVD). \n",
    "\n",
    "Cualquier matriz $M$ puede descomponerse en el producto de tres matrices $U$,$S$ y $V$, de tal forma que $M = USV$, con $U$ y $V$ matrices unitarias y $S$ una matriz rectangular. \n",
    "\n",
    "[8] Genera una matriz aleatoria de $100\\times100$. Obten su descomposicion en valores singulares: Usa svd, o svdfact"
   ]
  },
  {
   "cell_type": "code",
   "execution_count": null,
   "metadata": {},
   "outputs": [],
   "source": []
  },
  {
   "cell_type": "markdown",
   "metadata": {},
   "source": [
    "# Gráficas, animaciones y simulaciones en tiempo real: \n",
    "\n",
    "[9] Haz una gráfica de un círculo, primero generando los puntos de este y después utilizando plot para graficarlos."
   ]
  },
  {
   "cell_type": "code",
   "execution_count": 8,
   "metadata": {},
   "outputs": [
    {
     "data": {
      "image/svg+xml": [
       "<?xml version=\"1.0\" encoding=\"utf-8\"?>\n",
       "<svg xmlns=\"http://www.w3.org/2000/svg\" xmlns:xlink=\"http://www.w3.org/1999/xlink\" width=\"600\" height=\"400\" viewBox=\"0 0 2400 1600\">\n",
       "<defs>\n",
       "  <clipPath id=\"clip2900\">\n",
       "    <rect x=\"0\" y=\"0\" width=\"2000\" height=\"2000\"/>\n",
       "  </clipPath>\n",
       "</defs>\n",
       "<defs>\n",
       "  <clipPath id=\"clip2901\">\n",
       "    <rect x=\"0\" y=\"0\" width=\"2400\" height=\"1600\"/>\n",
       "  </clipPath>\n",
       "</defs>\n",
       "<polygon clip-path=\"url(#clip2901)\" points=\"\n",
       "0,1600 2400,1600 2400,0 0,0 \n",
       "  \" fill=\"#ffffff\" fill-rule=\"evenodd\" fill-opacity=\"1\"/>\n",
       "<defs>\n",
       "  <clipPath id=\"clip2902\">\n",
       "    <rect x=\"480\" y=\"0\" width=\"1681\" height=\"1600\"/>\n",
       "  </clipPath>\n",
       "</defs>\n",
       "<polygon clip-path=\"url(#clip2901)\" points=\"\n",
       "507.194,1503.47 1963.43,1503.47 1963.43,47.2441 507.194,47.2441 \n",
       "  \" fill=\"#ffffff\" fill-rule=\"evenodd\" fill-opacity=\"1\"/>\n",
       "<defs>\n",
       "  <clipPath id=\"clip2903\">\n",
       "    <rect x=\"507\" y=\"47\" width=\"1457\" height=\"1457\"/>\n",
       "  </clipPath>\n",
       "</defs>\n",
       "<polyline clip-path=\"url(#clip2903)\" style=\"stroke:#000000; stroke-width:2; stroke-opacity:0.1; fill:none\" points=\"\n",
       "  548.408,1503.47 548.408,47.2441 \n",
       "  \"/>\n",
       "<polyline clip-path=\"url(#clip2903)\" style=\"stroke:#000000; stroke-width:2; stroke-opacity:0.1; fill:none\" points=\"\n",
       "  777.376,1503.47 777.376,47.2441 \n",
       "  \"/>\n",
       "<polyline clip-path=\"url(#clip2903)\" style=\"stroke:#000000; stroke-width:2; stroke-opacity:0.1; fill:none\" points=\"\n",
       "  1006.34,1503.47 1006.34,47.2441 \n",
       "  \"/>\n",
       "<polyline clip-path=\"url(#clip2903)\" style=\"stroke:#000000; stroke-width:2; stroke-opacity:0.1; fill:none\" points=\"\n",
       "  1235.31,1503.47 1235.31,47.2441 \n",
       "  \"/>\n",
       "<polyline clip-path=\"url(#clip2903)\" style=\"stroke:#000000; stroke-width:2; stroke-opacity:0.1; fill:none\" points=\"\n",
       "  1464.28,1503.47 1464.28,47.2441 \n",
       "  \"/>\n",
       "<polyline clip-path=\"url(#clip2903)\" style=\"stroke:#000000; stroke-width:2; stroke-opacity:0.1; fill:none\" points=\"\n",
       "  1693.25,1503.47 1693.25,47.2441 \n",
       "  \"/>\n",
       "<polyline clip-path=\"url(#clip2903)\" style=\"stroke:#000000; stroke-width:2; stroke-opacity:0.1; fill:none\" points=\"\n",
       "  1922.21,1503.47 1922.21,47.2441 \n",
       "  \"/>\n",
       "<polyline clip-path=\"url(#clip2903)\" style=\"stroke:#000000; stroke-width:2; stroke-opacity:0.1; fill:none\" points=\"\n",
       "  507.194,1462.26 1963.43,1462.26 \n",
       "  \"/>\n",
       "<polyline clip-path=\"url(#clip2903)\" style=\"stroke:#000000; stroke-width:2; stroke-opacity:0.1; fill:none\" points=\"\n",
       "  507.194,1233.29 1963.43,1233.29 \n",
       "  \"/>\n",
       "<polyline clip-path=\"url(#clip2903)\" style=\"stroke:#000000; stroke-width:2; stroke-opacity:0.1; fill:none\" points=\"\n",
       "  507.194,1004.33 1963.43,1004.33 \n",
       "  \"/>\n",
       "<polyline clip-path=\"url(#clip2903)\" style=\"stroke:#000000; stroke-width:2; stroke-opacity:0.1; fill:none\" points=\"\n",
       "  507.194,775.359 1963.43,775.359 \n",
       "  \"/>\n",
       "<polyline clip-path=\"url(#clip2903)\" style=\"stroke:#000000; stroke-width:2; stroke-opacity:0.1; fill:none\" points=\"\n",
       "  507.194,546.391 1963.43,546.391 \n",
       "  \"/>\n",
       "<polyline clip-path=\"url(#clip2903)\" style=\"stroke:#000000; stroke-width:2; stroke-opacity:0.1; fill:none\" points=\"\n",
       "  507.194,317.424 1963.43,317.424 \n",
       "  \"/>\n",
       "<polyline clip-path=\"url(#clip2903)\" style=\"stroke:#000000; stroke-width:2; stroke-opacity:0.1; fill:none\" points=\"\n",
       "  507.194,88.4562 1963.43,88.4562 \n",
       "  \"/>\n",
       "<polyline clip-path=\"url(#clip2901)\" style=\"stroke:#000000; stroke-width:4; stroke-opacity:1; fill:none\" points=\"\n",
       "  507.194,1503.47 1963.43,1503.47 \n",
       "  \"/>\n",
       "<polyline clip-path=\"url(#clip2901)\" style=\"stroke:#000000; stroke-width:4; stroke-opacity:1; fill:none\" points=\"\n",
       "  507.194,1503.47 507.194,47.2441 \n",
       "  \"/>\n",
       "<polyline clip-path=\"url(#clip2901)\" style=\"stroke:#000000; stroke-width:4; stroke-opacity:1; fill:none\" points=\"\n",
       "  548.408,1503.47 548.408,1481.63 \n",
       "  \"/>\n",
       "<polyline clip-path=\"url(#clip2901)\" style=\"stroke:#000000; stroke-width:4; stroke-opacity:1; fill:none\" points=\"\n",
       "  777.376,1503.47 777.376,1481.63 \n",
       "  \"/>\n",
       "<polyline clip-path=\"url(#clip2901)\" style=\"stroke:#000000; stroke-width:4; stroke-opacity:1; fill:none\" points=\"\n",
       "  1006.34,1503.47 1006.34,1481.63 \n",
       "  \"/>\n",
       "<polyline clip-path=\"url(#clip2901)\" style=\"stroke:#000000; stroke-width:4; stroke-opacity:1; fill:none\" points=\"\n",
       "  1235.31,1503.47 1235.31,1481.63 \n",
       "  \"/>\n",
       "<polyline clip-path=\"url(#clip2901)\" style=\"stroke:#000000; stroke-width:4; stroke-opacity:1; fill:none\" points=\"\n",
       "  1464.28,1503.47 1464.28,1481.63 \n",
       "  \"/>\n",
       "<polyline clip-path=\"url(#clip2901)\" style=\"stroke:#000000; stroke-width:4; stroke-opacity:1; fill:none\" points=\"\n",
       "  1693.25,1503.47 1693.25,1481.63 \n",
       "  \"/>\n",
       "<polyline clip-path=\"url(#clip2901)\" style=\"stroke:#000000; stroke-width:4; stroke-opacity:1; fill:none\" points=\"\n",
       "  1922.21,1503.47 1922.21,1481.63 \n",
       "  \"/>\n",
       "<polyline clip-path=\"url(#clip2901)\" style=\"stroke:#000000; stroke-width:4; stroke-opacity:1; fill:none\" points=\"\n",
       "  507.194,1462.26 529.038,1462.26 \n",
       "  \"/>\n",
       "<polyline clip-path=\"url(#clip2901)\" style=\"stroke:#000000; stroke-width:4; stroke-opacity:1; fill:none\" points=\"\n",
       "  507.194,1233.29 529.038,1233.29 \n",
       "  \"/>\n",
       "<polyline clip-path=\"url(#clip2901)\" style=\"stroke:#000000; stroke-width:4; stroke-opacity:1; fill:none\" points=\"\n",
       "  507.194,1004.33 529.038,1004.33 \n",
       "  \"/>\n",
       "<polyline clip-path=\"url(#clip2901)\" style=\"stroke:#000000; stroke-width:4; stroke-opacity:1; fill:none\" points=\"\n",
       "  507.194,775.359 529.038,775.359 \n",
       "  \"/>\n",
       "<polyline clip-path=\"url(#clip2901)\" style=\"stroke:#000000; stroke-width:4; stroke-opacity:1; fill:none\" points=\"\n",
       "  507.194,546.391 529.038,546.391 \n",
       "  \"/>\n",
       "<polyline clip-path=\"url(#clip2901)\" style=\"stroke:#000000; stroke-width:4; stroke-opacity:1; fill:none\" points=\"\n",
       "  507.194,317.424 529.038,317.424 \n",
       "  \"/>\n",
       "<polyline clip-path=\"url(#clip2901)\" style=\"stroke:#000000; stroke-width:4; stroke-opacity:1; fill:none\" points=\"\n",
       "  507.194,88.4562 529.038,88.4562 \n",
       "  \"/>\n",
       "<g clip-path=\"url(#clip2901)\">\n",
       "<text style=\"fill:#000000; fill-opacity:1; font-family:Arial,Helvetica Neue,Helvetica,sans-serif; font-size:48px; text-anchor:middle;\" transform=\"rotate(0, 548.408, 1557.47)\" x=\"548.408\" y=\"1557.47\">-3</text>\n",
       "</g>\n",
       "<g clip-path=\"url(#clip2901)\">\n",
       "<text style=\"fill:#000000; fill-opacity:1; font-family:Arial,Helvetica Neue,Helvetica,sans-serif; font-size:48px; text-anchor:middle;\" transform=\"rotate(0, 777.376, 1557.47)\" x=\"777.376\" y=\"1557.47\">-2</text>\n",
       "</g>\n",
       "<g clip-path=\"url(#clip2901)\">\n",
       "<text style=\"fill:#000000; fill-opacity:1; font-family:Arial,Helvetica Neue,Helvetica,sans-serif; font-size:48px; text-anchor:middle;\" transform=\"rotate(0, 1006.34, 1557.47)\" x=\"1006.34\" y=\"1557.47\">-1</text>\n",
       "</g>\n",
       "<g clip-path=\"url(#clip2901)\">\n",
       "<text style=\"fill:#000000; fill-opacity:1; font-family:Arial,Helvetica Neue,Helvetica,sans-serif; font-size:48px; text-anchor:middle;\" transform=\"rotate(0, 1235.31, 1557.47)\" x=\"1235.31\" y=\"1557.47\">0</text>\n",
       "</g>\n",
       "<g clip-path=\"url(#clip2901)\">\n",
       "<text style=\"fill:#000000; fill-opacity:1; font-family:Arial,Helvetica Neue,Helvetica,sans-serif; font-size:48px; text-anchor:middle;\" transform=\"rotate(0, 1464.28, 1557.47)\" x=\"1464.28\" y=\"1557.47\">1</text>\n",
       "</g>\n",
       "<g clip-path=\"url(#clip2901)\">\n",
       "<text style=\"fill:#000000; fill-opacity:1; font-family:Arial,Helvetica Neue,Helvetica,sans-serif; font-size:48px; text-anchor:middle;\" transform=\"rotate(0, 1693.25, 1557.47)\" x=\"1693.25\" y=\"1557.47\">2</text>\n",
       "</g>\n",
       "<g clip-path=\"url(#clip2901)\">\n",
       "<text style=\"fill:#000000; fill-opacity:1; font-family:Arial,Helvetica Neue,Helvetica,sans-serif; font-size:48px; text-anchor:middle;\" transform=\"rotate(0, 1922.21, 1557.47)\" x=\"1922.21\" y=\"1557.47\">3</text>\n",
       "</g>\n",
       "<g clip-path=\"url(#clip2901)\">\n",
       "<text style=\"fill:#000000; fill-opacity:1; font-family:Arial,Helvetica Neue,Helvetica,sans-serif; font-size:48px; text-anchor:end;\" transform=\"rotate(0, 483.194, 1479.76)\" x=\"483.194\" y=\"1479.76\">-3</text>\n",
       "</g>\n",
       "<g clip-path=\"url(#clip2901)\">\n",
       "<text style=\"fill:#000000; fill-opacity:1; font-family:Arial,Helvetica Neue,Helvetica,sans-serif; font-size:48px; text-anchor:end;\" transform=\"rotate(0, 483.194, 1250.79)\" x=\"483.194\" y=\"1250.79\">-2</text>\n",
       "</g>\n",
       "<g clip-path=\"url(#clip2901)\">\n",
       "<text style=\"fill:#000000; fill-opacity:1; font-family:Arial,Helvetica Neue,Helvetica,sans-serif; font-size:48px; text-anchor:end;\" transform=\"rotate(0, 483.194, 1021.83)\" x=\"483.194\" y=\"1021.83\">-1</text>\n",
       "</g>\n",
       "<g clip-path=\"url(#clip2901)\">\n",
       "<text style=\"fill:#000000; fill-opacity:1; font-family:Arial,Helvetica Neue,Helvetica,sans-serif; font-size:48px; text-anchor:end;\" transform=\"rotate(0, 483.194, 792.859)\" x=\"483.194\" y=\"792.859\">0</text>\n",
       "</g>\n",
       "<g clip-path=\"url(#clip2901)\">\n",
       "<text style=\"fill:#000000; fill-opacity:1; font-family:Arial,Helvetica Neue,Helvetica,sans-serif; font-size:48px; text-anchor:end;\" transform=\"rotate(0, 483.194, 563.891)\" x=\"483.194\" y=\"563.891\">1</text>\n",
       "</g>\n",
       "<g clip-path=\"url(#clip2901)\">\n",
       "<text style=\"fill:#000000; fill-opacity:1; font-family:Arial,Helvetica Neue,Helvetica,sans-serif; font-size:48px; text-anchor:end;\" transform=\"rotate(0, 483.194, 334.924)\" x=\"483.194\" y=\"334.924\">2</text>\n",
       "</g>\n",
       "<g clip-path=\"url(#clip2901)\">\n",
       "<text style=\"fill:#000000; fill-opacity:1; font-family:Arial,Helvetica Neue,Helvetica,sans-serif; font-size:48px; text-anchor:end;\" transform=\"rotate(0, 483.194, 105.956)\" x=\"483.194\" y=\"105.956\">3</text>\n",
       "</g>\n",
       "<polyline clip-path=\"url(#clip2903)\" style=\"stroke:#009af9; stroke-width:4; stroke-opacity:1; fill:none\" points=\"\n",
       "  548.408,775.359 548.443,782.227 548.546,789.096 548.717,795.963 548.958,802.827 549.267,809.689 549.644,816.548 550.091,823.402 550.605,830.252 551.188,837.096 \n",
       "  551.84,843.934 552.56,850.766 553.348,857.589 554.204,864.405 555.129,871.211 556.122,878.008 557.182,884.795 558.31,891.57 559.506,898.334 560.77,905.086 \n",
       "  562.101,911.825 563.499,918.55 564.964,925.261 566.497,931.957 568.096,938.637 569.762,945.301 571.495,951.948 573.294,958.577 575.159,965.188 577.091,971.78 \n",
       "  579.088,978.352 581.151,984.904 583.279,991.435 585.472,997.944 587.73,1004.43 590.053,1010.9 592.441,1017.34 594.893,1023.75 597.409,1030.14 599.988,1036.51 \n",
       "  602.632,1042.85 605.338,1049.16 608.108,1055.45 610.94,1061.71 613.835,1067.94 616.791,1074.14 619.81,1080.31 622.89,1086.45 626.032,1092.56 629.234,1098.63 \n",
       "  632.497,1104.68 635.82,1110.69 639.204,1116.67 642.646,1122.61 646.149,1128.52 649.71,1134.39 653.329,1140.23 657.007,1146.03 660.743,1151.8 664.536,1157.52 \n",
       "  668.386,1163.21 672.293,1168.86 676.256,1174.47 680.275,1180.04 684.349,1185.57 688.479,1191.06 692.663,1196.51 696.902,1201.92 701.194,1207.28 705.54,1212.6 \n",
       "  709.939,1217.87 714.39,1223.1 718.894,1228.29 723.449,1233.43 728.055,1238.53 732.712,1243.58 737.419,1248.58 742.176,1253.54 746.982,1258.44 751.838,1263.3 \n",
       "  756.741,1268.11 761.693,1272.87 766.691,1277.58 771.737,1282.25 776.829,1286.86 781.967,1291.41 787.15,1295.92 792.378,1300.38 797.65,1304.78 802.966,1309.13 \n",
       "  808.325,1313.43 813.727,1317.67 819.171,1321.86 824.657,1325.99 830.184,1330.07 835.751,1334.1 841.358,1338.06 847.005,1341.97 852.691,1345.83 858.414,1349.63 \n",
       "  864.176,1353.37 869.974,1357.05 875.809,1360.67 881.68,1364.24 887.587,1367.75 893.528,1371.19 899.503,1374.58 905.512,1377.91 911.554,1381.18 917.628,1384.38 \n",
       "  923.734,1387.53 929.872,1390.62 936.039,1393.64 942.237,1396.6 948.464,1399.5 954.72,1402.34 961.003,1405.11 967.315,1407.82 973.653,1410.47 980.017,1413.06 \n",
       "  986.406,1415.58 992.821,1418.04 999.26,1420.43 1005.72,1422.76 1012.21,1425.02 1018.71,1427.22 1025.24,1429.35 1031.79,1431.42 1038.37,1433.42 1044.96,1435.36 \n",
       "  1051.57,1437.23 1058.19,1439.03 1064.84,1440.77 1071.5,1442.44 1078.18,1444.05 1084.87,1445.59 1091.58,1447.06 1098.31,1448.46 1105.05,1449.8 1111.8,1451.06 \n",
       "  1118.56,1452.27 1125.33,1453.4 1132.12,1454.47 1138.92,1455.46 1145.72,1456.39 1152.54,1457.26 1159.36,1458.05 1166.19,1458.77 1173.03,1459.43 1179.87,1460.02 \n",
       "  1186.72,1460.54 1193.58,1460.99 1200.43,1461.37 1207.3,1461.69 1214.16,1461.94 1221.03,1462.11 1227.89,1462.22 1234.76,1462.26 1241.63,1462.23 1248.5,1462.13 \n",
       "  1255.37,1461.97 1262.23,1461.73 1269.1,1461.43 1275.95,1461.06 1282.81,1460.62 1289.66,1460.11 1296.5,1459.53 1303.34,1458.88 1310.17,1458.17 1317,1457.39 \n",
       "  1323.81,1456.54 1330.62,1455.62 1337.42,1454.63 1344.21,1453.57 1350.98,1452.45 1357.75,1451.26 1364.5,1450 1371.24,1448.68 1377.97,1447.28 1384.68,1445.82 \n",
       "  1391.38,1444.3 1398.06,1442.7 1404.72,1441.04 1411.37,1439.31 1418,1437.52 1424.61,1435.66 1431.21,1433.73 1437.78,1431.74 1444.34,1429.69 1450.87,1427.56 \n",
       "  1457.38,1425.37 1463.87,1423.12 1470.33,1420.8 1476.78,1418.42 1483.2,1415.97 1489.59,1413.46 1495.96,1410.89 1502.3,1408.25 1508.61,1405.55 1514.9,1402.78 \n",
       "  1521.16,1399.96 1527.39,1397.07 1533.6,1394.12 1539.77,1391.1 1545.91,1388.03 1552.02,1384.89 1558.1,1381.69 1564.15,1378.43 1570.16,1375.12 1576.14,1371.74 \n",
       "  1582.09,1368.3 1588,1364.8 1593.88,1361.25 1599.72,1357.63 1605.52,1353.96 1611.29,1350.23 1617.02,1346.44 1622.71,1342.59 1628.37,1338.69 1633.98,1334.73 \n",
       "  1639.55,1330.72 1645.09,1326.65 1650.58,1322.52 1656.03,1318.34 1661.44,1314.11 1666.8,1309.82 1672.13,1305.48 1677.41,1301.08 1682.64,1296.64 1687.83,1292.14 \n",
       "  1692.98,1287.59 1698.08,1282.98 1703.13,1278.33 1708.14,1273.63 1713.09,1268.87 1718.01,1264.07 1722.87,1259.22 1727.68,1254.32 1732.45,1249.37 1737.16,1244.38 \n",
       "  1741.83,1239.34 1746.44,1234.25 1751.01,1229.11 1755.52,1223.93 1759.98,1218.71 1764.38,1213.44 1768.74,1208.13 1773.04,1202.77 1777.29,1197.37 1781.48,1191.93 \n",
       "  1785.62,1186.45 1789.7,1180.93 1793.73,1175.36 1797.7,1169.76 1801.62,1164.12 1805.48,1158.43 1809.28,1152.71 1813.02,1146.95 1816.71,1141.16 1820.34,1135.33 \n",
       "  1823.91,1129.46 1827.42,1123.55 1830.87,1117.62 1834.27,1111.64 1837.6,1105.64 1840.87,1099.6 1844.08,1093.53 1847.23,1087.42 1850.32,1081.29 1853.35,1075.12 \n",
       "  1856.32,1068.93 1859.22,1062.7 1862.07,1056.45 1864.85,1050.17 1867.56,1043.86 1870.22,1037.52 1872.81,1031.16 1875.33,1024.77 1877.79,1018.36 1880.19,1011.92 \n",
       "  1882.53,1005.46 1884.79,998.979 1887,992.473 1889.14,985.946 1891.21,979.397 1893.22,972.828 1895.16,966.239 1897.03,959.631 1898.84,953.005 1900.59,946.361 \n",
       "  1902.26,939.699 1903.87,933.022 1905.42,926.328 1906.89,919.62 1908.3,912.897 1909.64,906.16 1910.92,899.411 1912.13,892.648 1913.26,885.874 1914.34,879.09 \n",
       "  1915.34,872.294 1916.27,865.489 1917.14,858.675 1917.94,851.853 1918.67,845.023 1919.33,838.186 1919.93,831.343 1920.45,824.494 1920.91,817.64 1921.3,810.782 \n",
       "  1921.62,803.92 1921.87,797.056 1922.05,790.189 1922.17,783.321 1922.21,776.453 1922.19,769.584 1922.1,762.715 1921.94,755.848 1921.71,748.983 1921.41,742.12 \n",
       "  1921.04,735.261 1920.61,728.406 1920.1,721.556 1919.53,714.71 1918.89,707.871 1918.18,701.039 1917.4,694.214 1916.56,687.397 1915.64,680.589 1914.66,673.791 \n",
       "  1913.61,667.003 1912.5,660.225 1911.31,653.459 1910.06,646.705 1908.74,639.964 1907.35,633.237 1905.89,626.524 1904.37,619.826 1902.78,613.143 1901.13,606.476 \n",
       "  1899.41,599.827 1897.62,593.195 1895.76,586.581 1893.84,579.986 1891.86,573.41 1889.8,566.855 1887.69,560.321 1885.5,553.808 1883.26,547.317 1880.94,540.849 \n",
       "  1878.56,534.405 1876.12,527.984 1873.62,521.589 1871.05,515.218 1868.41,508.874 1865.72,502.557 1862.96,496.266 1860.14,490.004 1857.25,483.77 1854.3,477.565 \n",
       "  1851.3,471.39 1848.23,465.246 1845.09,459.132 1841.9,453.05 1838.65,447.001 1835.33,440.984 1831.96,435 1828.53,429.051 1825.03,423.136 1821.48,417.257 \n",
       "  1817.87,411.413 1814.2,405.606 1810.48,399.835 1806.69,394.102 1802.85,388.408 1798.95,382.752 1795,377.135 1790.99,371.558 1786.92,366.022 1782.8,360.526 \n",
       "  1778.63,355.072 1774.4,349.66 1770.11,344.29 1765.78,338.964 1761.39,333.681 1756.94,328.443 1752.45,323.249 1747.9,318.1 1743.3,312.997 1738.65,307.94 \n",
       "  1733.96,302.93 1729.21,297.968 1724.41,293.053 1719.56,288.186 1714.66,283.368 1709.72,278.599 1704.73,273.88 1699.69,269.211 1694.61,264.592 1689.48,260.025 \n",
       "  1684.3,255.509 1679.08,251.045 1673.81,246.634 1668.5,242.275 1663.15,237.97 1657.76,233.719 1652.32,229.521 1646.84,225.379 1641.32,221.291 1635.76,217.259 \n",
       "  1630.16,213.282 1624.52,209.362 1618.84,205.498 1613.12,201.691 1607.37,197.942 1601.57,194.25 1595.74,190.617 1589.88,187.042 1583.98,183.526 1578.04,180.069 \n",
       "  1572.07,176.671 1566.07,173.333 1560.03,170.056 1553.96,166.839 1547.86,163.683 1541.73,160.588 1535.57,157.555 1529.37,154.583 1523.15,151.674 1516.9,148.827 \n",
       "  1510.62,146.042 1504.31,143.32 1497.98,140.662 1491.62,138.067 1485.23,135.536 1478.82,133.069 1472.39,130.666 1465.93,128.327 1459.45,126.053 1452.94,123.845 \n",
       "  1446.42,121.701 1439.87,119.622 1433.3,117.61 1426.72,115.663 1420.11,113.782 1413.49,111.967 1406.84,110.218 1400.18,108.536 1393.51,106.921 1386.81,105.372 \n",
       "  1380.11,103.891 1373.38,102.476 1366.65,101.129 1359.9,99.8497 1353.14,98.6376 1346.37,97.4932 1339.58,96.4165 1332.79,95.4078 1325.98,94.467 1319.17,93.5944 \n",
       "  1312.35,92.7899 1305.52,92.0536 1298.68,91.3857 1291.84,90.7862 1284.99,90.2552 1278.14,89.7926 1271.28,89.3986 1264.42,89.0732 1257.55,88.8165 1250.69,88.6284 \n",
       "  1243.82,88.5089 1236.95,88.4582 1230.08,88.4761 1223.21,88.5627 1216.35,88.718 1209.48,88.942 1202.62,89.2346 1195.76,89.5958 1188.9,90.0256 1182.05,90.5239 \n",
       "  1175.21,91.0907 1168.37,91.726 1161.53,92.4296 1154.71,93.2015 1147.89,94.0416 1141.08,94.9498 1134.28,95.9261 1127.49,96.9703 1120.72,98.0824 1113.95,99.2622 \n",
       "  1107.19,100.51 1100.45,101.824 1093.72,103.207 1087.01,104.656 1080.31,106.173 1073.63,107.756 1066.96,109.406 1060.31,111.123 1053.67,112.906 1047.06,114.756 \n",
       "  1040.46,116.671 1033.89,118.653 1027.33,120.7 1020.79,122.812 1014.28,124.99 1007.79,127.233 1001.32,129.54 994.869,131.913 988.447,134.349 982.049,136.85 \n",
       "  975.677,139.414 969.331,142.042 963.011,144.734 956.718,147.488 950.454,150.306 944.217,153.185 938.01,156.127 931.833,159.131 925.686,162.197 919.57,165.324 \n",
       "  913.485,168.511 907.433,171.76 901.414,175.069 895.428,178.438 889.475,181.866 883.558,185.354 877.676,188.901 871.829,192.507 866.019,196.171 860.245,199.893 \n",
       "  854.51,203.672 848.812,207.509 843.153,211.402 837.533,215.352 831.953,219.357 826.413,223.419 820.914,227.535 815.457,231.706 810.041,235.932 804.668,240.212 \n",
       "  799.339,244.545 794.052,248.931 788.81,253.37 783.613,257.861 778.46,262.404 773.354,266.998 768.293,271.643 763.28,276.338 758.313,281.083 753.394,285.878 \n",
       "  748.524,290.721 743.702,295.613 738.929,300.553 734.206,305.541 729.533,310.575 724.91,315.656 720.339,320.783 715.819,325.955 711.351,331.173 706.935,336.434 \n",
       "  702.573,341.74 698.263,347.089 694.007,352.481 689.806,357.915 685.659,363.391 681.567,368.908 677.53,374.465 673.549,380.063 669.624,385.7 665.756,391.377 \n",
       "  661.945,397.091 658.191,402.844 654.494,408.634 650.856,414.46 647.276,420.322 643.756,426.22 640.294,432.153 636.892,438.121 633.549,444.122 630.267,450.156 \n",
       "  627.045,456.222 623.884,462.321 620.785,468.451 617.746,474.611 614.77,480.802 611.855,487.022 609.003,493.271 606.214,499.548 603.487,505.852 600.824,512.184 \n",
       "  598.224,518.542 595.687,524.925 593.215,531.334 590.807,537.767 588.463,544.224 586.184,550.704 583.97,557.206 581.821,563.73 579.738,570.276 577.72,576.842 \n",
       "  575.767,583.427 573.881,590.032 572.061,596.656 570.307,603.297 568.62,609.956 566.999,616.631 565.445,623.322 563.958,630.028 562.539,636.748 561.186,643.483 \n",
       "  559.901,650.231 558.684,656.991 557.534,663.763 556.452,670.546 555.438,677.34 554.492,684.143 553.613,690.956 552.804,697.777 552.062,704.606 551.389,711.442 \n",
       "  550.784,718.284 550.247,725.132 549.779,731.985 549.38,738.843 549.049,745.704 548.787,752.568 548.593,759.434 548.468,766.302 548.412,773.171 \n",
       "  \"/>\n",
       "<polygon clip-path=\"url(#clip2901)\" points=\"\n",
       "1600.6,251.724 1891.43,251.724 1891.43,130.764 1600.6,130.764 \n",
       "  \" fill=\"#ffffff\" fill-rule=\"evenodd\" fill-opacity=\"1\"/>\n",
       "<polyline clip-path=\"url(#clip2901)\" style=\"stroke:#000000; stroke-width:4; stroke-opacity:1; fill:none\" points=\"\n",
       "  1600.6,251.724 1891.43,251.724 1891.43,130.764 1600.6,130.764 1600.6,251.724 \n",
       "  \"/>\n",
       "<polyline clip-path=\"url(#clip2901)\" style=\"stroke:#009af9; stroke-width:4; stroke-opacity:1; fill:none\" points=\"\n",
       "  1624.6,191.244 1768.6,191.244 \n",
       "  \"/>\n",
       "<g clip-path=\"url(#clip2901)\">\n",
       "<text style=\"fill:#000000; fill-opacity:1; font-family:Arial,Helvetica Neue,Helvetica,sans-serif; font-size:48px; text-anchor:start;\" transform=\"rotate(0, 1792.6, 208.744)\" x=\"1792.6\" y=\"208.744\">y1</text>\n",
       "</g>\n",
       "</svg>\n"
      ]
     },
     "execution_count": 8,
     "metadata": {},
     "output_type": "execute_result"
    }
   ],
   "source": [
    "function circulo(r)\n",
    "    θ = -π:0.01:π\n",
    "    plot(r.*cos.(θ), r.*sin.(θ),  aspect_ratio = 1)\n",
    "end\n",
    "circulo(3)"
   ]
  },
  {
   "cell_type": "markdown",
   "metadata": {},
   "source": [
    "[10] Genera una matriz aleatoria de $2\\times 2$, aplícala a los puntos generados en el inciso anterior y grafícalos. Después aplica SVD para obtener las matrices $U$, $S$ y $V$. Grafica como se ven los puntos si sólo aplicas la matriz $S$ y después prueba aplicar la matriz $S$ y alguna de las otras. "
   ]
  },
  {
   "cell_type": "code",
   "execution_count": null,
   "metadata": {
    "collapsed": true
   },
   "outputs": [],
   "source": []
  },
  {
   "cell_type": "markdown",
   "metadata": {},
   "source": [
    "[12] Ahora haz algun dibujo interesante (una carita, un animal, lo que sea) construyendo un arreglo (o varios) de puntos. Después aplica a tu(s) arreglo(s) la matriz aleatoria del inciso anterior y también las matrices $U$, $S$ y $V$. Juega un poco con esto. "
   ]
  },
  {
   "cell_type": "code",
   "execution_count": null,
   "metadata": {
    "collapsed": true
   },
   "outputs": [],
   "source": []
  },
  {
   "cell_type": "markdown",
   "metadata": {},
   "source": [
    "[12] Haz una animación de deformaciones a tu arreglo de puntos del inciso anterior. Rotalo, estiralo, reflejalo, variando los ángulos de rotación, los estiramientos en cada eje, etc... "
   ]
  },
  {
   "cell_type": "code",
   "execution_count": null,
   "metadata": {
    "scrolled": true
   },
   "outputs": [],
   "source": []
  },
  {
   "cell_type": "markdown",
   "metadata": {},
   "source": [
    "[13] Haz una gráfica de cualquier curva que quieras (sin, cos, exp, etc...) que tenga una parte positiva y otra negativa. Rellena con un color la parte positiva y con otro la parte negativa. "
   ]
  },
  {
   "cell_type": "code",
   "execution_count": 26,
   "metadata": {},
   "outputs": [
    {
     "ename": "LoadError",
     "evalue": "syntax: \">\" is not a unary operator",
     "output_type": "error",
     "traceback": [
      "syntax: \">\" is not a unary operator",
      ""
     ]
    }
   ],
   "source": [
    "\n",
    "x = collect(Float16, range(0,length=100,stop=4π))\n",
    "y = sin.(x)\n"
   ]
  },
  {
   "cell_type": "markdown",
   "metadata": {},
   "source": [
    "[14] Haz un círculo, un hexágono, un pentágono y alguna otra figura (rara) y rellena su área. "
   ]
  },
  {
   "cell_type": "code",
   "execution_count": 7,
   "metadata": {},
   "outputs": [
    {
     "data": {
      "image/svg+xml": [
       "<?xml version=\"1.0\" encoding=\"utf-8\"?>\n",
       "<svg xmlns=\"http://www.w3.org/2000/svg\" xmlns:xlink=\"http://www.w3.org/1999/xlink\" width=\"600\" height=\"400\" viewBox=\"0 0 2400 1600\">\n",
       "<defs>\n",
       "  <clipPath id=\"clip2700\">\n",
       "    <rect x=\"0\" y=\"0\" width=\"2000\" height=\"2000\"/>\n",
       "  </clipPath>\n",
       "</defs>\n",
       "<defs>\n",
       "  <clipPath id=\"clip2701\">\n",
       "    <rect x=\"0\" y=\"0\" width=\"2400\" height=\"1600\"/>\n",
       "  </clipPath>\n",
       "</defs>\n",
       "<polygon clip-path=\"url(#clip2701)\" points=\"\n",
       "0,1600 2400,1600 2400,0 0,0 \n",
       "  \" fill=\"#ffffff\" fill-rule=\"evenodd\" fill-opacity=\"1\"/>\n",
       "<defs>\n",
       "  <clipPath id=\"clip2702\">\n",
       "    <rect x=\"480\" y=\"0\" width=\"1681\" height=\"1600\"/>\n",
       "  </clipPath>\n",
       "</defs>\n",
       "<polygon clip-path=\"url(#clip2701)\" points=\"\n",
       "507.194,1503.47 1963.43,1503.47 1963.43,47.2441 507.194,47.2441 \n",
       "  \" fill=\"#ffffff\" fill-rule=\"evenodd\" fill-opacity=\"1\"/>\n",
       "<defs>\n",
       "  <clipPath id=\"clip2703\">\n",
       "    <rect x=\"507\" y=\"47\" width=\"1457\" height=\"1457\"/>\n",
       "  </clipPath>\n",
       "</defs>\n",
       "<polyline clip-path=\"url(#clip2703)\" style=\"stroke:#000000; stroke-width:2; stroke-opacity:0.1; fill:none\" points=\"\n",
       "  548.408,1503.47 548.408,47.2441 \n",
       "  \"/>\n",
       "<polyline clip-path=\"url(#clip2703)\" style=\"stroke:#000000; stroke-width:2; stroke-opacity:0.1; fill:none\" points=\"\n",
       "  777.376,1503.47 777.376,47.2441 \n",
       "  \"/>\n",
       "<polyline clip-path=\"url(#clip2703)\" style=\"stroke:#000000; stroke-width:2; stroke-opacity:0.1; fill:none\" points=\"\n",
       "  1006.34,1503.47 1006.34,47.2441 \n",
       "  \"/>\n",
       "<polyline clip-path=\"url(#clip2703)\" style=\"stroke:#000000; stroke-width:2; stroke-opacity:0.1; fill:none\" points=\"\n",
       "  1235.31,1503.47 1235.31,47.2441 \n",
       "  \"/>\n",
       "<polyline clip-path=\"url(#clip2703)\" style=\"stroke:#000000; stroke-width:2; stroke-opacity:0.1; fill:none\" points=\"\n",
       "  1464.28,1503.47 1464.28,47.2441 \n",
       "  \"/>\n",
       "<polyline clip-path=\"url(#clip2703)\" style=\"stroke:#000000; stroke-width:2; stroke-opacity:0.1; fill:none\" points=\"\n",
       "  1693.25,1503.47 1693.25,47.2441 \n",
       "  \"/>\n",
       "<polyline clip-path=\"url(#clip2703)\" style=\"stroke:#000000; stroke-width:2; stroke-opacity:0.1; fill:none\" points=\"\n",
       "  1922.21,1503.47 1922.21,47.2441 \n",
       "  \"/>\n",
       "<polyline clip-path=\"url(#clip2703)\" style=\"stroke:#000000; stroke-width:2; stroke-opacity:0.1; fill:none\" points=\"\n",
       "  507.194,1462.26 1963.43,1462.26 \n",
       "  \"/>\n",
       "<polyline clip-path=\"url(#clip2703)\" style=\"stroke:#000000; stroke-width:2; stroke-opacity:0.1; fill:none\" points=\"\n",
       "  507.194,1233.29 1963.43,1233.29 \n",
       "  \"/>\n",
       "<polyline clip-path=\"url(#clip2703)\" style=\"stroke:#000000; stroke-width:2; stroke-opacity:0.1; fill:none\" points=\"\n",
       "  507.194,1004.33 1963.43,1004.33 \n",
       "  \"/>\n",
       "<polyline clip-path=\"url(#clip2703)\" style=\"stroke:#000000; stroke-width:2; stroke-opacity:0.1; fill:none\" points=\"\n",
       "  507.194,775.359 1963.43,775.359 \n",
       "  \"/>\n",
       "<polyline clip-path=\"url(#clip2703)\" style=\"stroke:#000000; stroke-width:2; stroke-opacity:0.1; fill:none\" points=\"\n",
       "  507.194,546.391 1963.43,546.391 \n",
       "  \"/>\n",
       "<polyline clip-path=\"url(#clip2703)\" style=\"stroke:#000000; stroke-width:2; stroke-opacity:0.1; fill:none\" points=\"\n",
       "  507.194,317.424 1963.43,317.424 \n",
       "  \"/>\n",
       "<polyline clip-path=\"url(#clip2703)\" style=\"stroke:#000000; stroke-width:2; stroke-opacity:0.1; fill:none\" points=\"\n",
       "  507.194,88.4562 1963.43,88.4562 \n",
       "  \"/>\n",
       "<polyline clip-path=\"url(#clip2701)\" style=\"stroke:#000000; stroke-width:4; stroke-opacity:1; fill:none\" points=\"\n",
       "  507.194,1503.47 1963.43,1503.47 \n",
       "  \"/>\n",
       "<polyline clip-path=\"url(#clip2701)\" style=\"stroke:#000000; stroke-width:4; stroke-opacity:1; fill:none\" points=\"\n",
       "  507.194,1503.47 507.194,47.2441 \n",
       "  \"/>\n",
       "<polyline clip-path=\"url(#clip2701)\" style=\"stroke:#000000; stroke-width:4; stroke-opacity:1; fill:none\" points=\"\n",
       "  548.408,1503.47 548.408,1481.63 \n",
       "  \"/>\n",
       "<polyline clip-path=\"url(#clip2701)\" style=\"stroke:#000000; stroke-width:4; stroke-opacity:1; fill:none\" points=\"\n",
       "  777.376,1503.47 777.376,1481.63 \n",
       "  \"/>\n",
       "<polyline clip-path=\"url(#clip2701)\" style=\"stroke:#000000; stroke-width:4; stroke-opacity:1; fill:none\" points=\"\n",
       "  1006.34,1503.47 1006.34,1481.63 \n",
       "  \"/>\n",
       "<polyline clip-path=\"url(#clip2701)\" style=\"stroke:#000000; stroke-width:4; stroke-opacity:1; fill:none\" points=\"\n",
       "  1235.31,1503.47 1235.31,1481.63 \n",
       "  \"/>\n",
       "<polyline clip-path=\"url(#clip2701)\" style=\"stroke:#000000; stroke-width:4; stroke-opacity:1; fill:none\" points=\"\n",
       "  1464.28,1503.47 1464.28,1481.63 \n",
       "  \"/>\n",
       "<polyline clip-path=\"url(#clip2701)\" style=\"stroke:#000000; stroke-width:4; stroke-opacity:1; fill:none\" points=\"\n",
       "  1693.25,1503.47 1693.25,1481.63 \n",
       "  \"/>\n",
       "<polyline clip-path=\"url(#clip2701)\" style=\"stroke:#000000; stroke-width:4; stroke-opacity:1; fill:none\" points=\"\n",
       "  1922.21,1503.47 1922.21,1481.63 \n",
       "  \"/>\n",
       "<polyline clip-path=\"url(#clip2701)\" style=\"stroke:#000000; stroke-width:4; stroke-opacity:1; fill:none\" points=\"\n",
       "  507.194,1462.26 529.038,1462.26 \n",
       "  \"/>\n",
       "<polyline clip-path=\"url(#clip2701)\" style=\"stroke:#000000; stroke-width:4; stroke-opacity:1; fill:none\" points=\"\n",
       "  507.194,1233.29 529.038,1233.29 \n",
       "  \"/>\n",
       "<polyline clip-path=\"url(#clip2701)\" style=\"stroke:#000000; stroke-width:4; stroke-opacity:1; fill:none\" points=\"\n",
       "  507.194,1004.33 529.038,1004.33 \n",
       "  \"/>\n",
       "<polyline clip-path=\"url(#clip2701)\" style=\"stroke:#000000; stroke-width:4; stroke-opacity:1; fill:none\" points=\"\n",
       "  507.194,775.359 529.038,775.359 \n",
       "  \"/>\n",
       "<polyline clip-path=\"url(#clip2701)\" style=\"stroke:#000000; stroke-width:4; stroke-opacity:1; fill:none\" points=\"\n",
       "  507.194,546.391 529.038,546.391 \n",
       "  \"/>\n",
       "<polyline clip-path=\"url(#clip2701)\" style=\"stroke:#000000; stroke-width:4; stroke-opacity:1; fill:none\" points=\"\n",
       "  507.194,317.424 529.038,317.424 \n",
       "  \"/>\n",
       "<polyline clip-path=\"url(#clip2701)\" style=\"stroke:#000000; stroke-width:4; stroke-opacity:1; fill:none\" points=\"\n",
       "  507.194,88.4562 529.038,88.4562 \n",
       "  \"/>\n",
       "<g clip-path=\"url(#clip2701)\">\n",
       "<text style=\"fill:#000000; fill-opacity:1; font-family:Arial,Helvetica Neue,Helvetica,sans-serif; font-size:48px; text-anchor:middle;\" transform=\"rotate(0, 548.408, 1557.47)\" x=\"548.408\" y=\"1557.47\">-3</text>\n",
       "</g>\n",
       "<g clip-path=\"url(#clip2701)\">\n",
       "<text style=\"fill:#000000; fill-opacity:1; font-family:Arial,Helvetica Neue,Helvetica,sans-serif; font-size:48px; text-anchor:middle;\" transform=\"rotate(0, 777.376, 1557.47)\" x=\"777.376\" y=\"1557.47\">-2</text>\n",
       "</g>\n",
       "<g clip-path=\"url(#clip2701)\">\n",
       "<text style=\"fill:#000000; fill-opacity:1; font-family:Arial,Helvetica Neue,Helvetica,sans-serif; font-size:48px; text-anchor:middle;\" transform=\"rotate(0, 1006.34, 1557.47)\" x=\"1006.34\" y=\"1557.47\">-1</text>\n",
       "</g>\n",
       "<g clip-path=\"url(#clip2701)\">\n",
       "<text style=\"fill:#000000; fill-opacity:1; font-family:Arial,Helvetica Neue,Helvetica,sans-serif; font-size:48px; text-anchor:middle;\" transform=\"rotate(0, 1235.31, 1557.47)\" x=\"1235.31\" y=\"1557.47\">0</text>\n",
       "</g>\n",
       "<g clip-path=\"url(#clip2701)\">\n",
       "<text style=\"fill:#000000; fill-opacity:1; font-family:Arial,Helvetica Neue,Helvetica,sans-serif; font-size:48px; text-anchor:middle;\" transform=\"rotate(0, 1464.28, 1557.47)\" x=\"1464.28\" y=\"1557.47\">1</text>\n",
       "</g>\n",
       "<g clip-path=\"url(#clip2701)\">\n",
       "<text style=\"fill:#000000; fill-opacity:1; font-family:Arial,Helvetica Neue,Helvetica,sans-serif; font-size:48px; text-anchor:middle;\" transform=\"rotate(0, 1693.25, 1557.47)\" x=\"1693.25\" y=\"1557.47\">2</text>\n",
       "</g>\n",
       "<g clip-path=\"url(#clip2701)\">\n",
       "<text style=\"fill:#000000; fill-opacity:1; font-family:Arial,Helvetica Neue,Helvetica,sans-serif; font-size:48px; text-anchor:middle;\" transform=\"rotate(0, 1922.21, 1557.47)\" x=\"1922.21\" y=\"1557.47\">3</text>\n",
       "</g>\n",
       "<g clip-path=\"url(#clip2701)\">\n",
       "<text style=\"fill:#000000; fill-opacity:1; font-family:Arial,Helvetica Neue,Helvetica,sans-serif; font-size:48px; text-anchor:end;\" transform=\"rotate(0, 483.194, 1479.76)\" x=\"483.194\" y=\"1479.76\">-3</text>\n",
       "</g>\n",
       "<g clip-path=\"url(#clip2701)\">\n",
       "<text style=\"fill:#000000; fill-opacity:1; font-family:Arial,Helvetica Neue,Helvetica,sans-serif; font-size:48px; text-anchor:end;\" transform=\"rotate(0, 483.194, 1250.79)\" x=\"483.194\" y=\"1250.79\">-2</text>\n",
       "</g>\n",
       "<g clip-path=\"url(#clip2701)\">\n",
       "<text style=\"fill:#000000; fill-opacity:1; font-family:Arial,Helvetica Neue,Helvetica,sans-serif; font-size:48px; text-anchor:end;\" transform=\"rotate(0, 483.194, 1021.83)\" x=\"483.194\" y=\"1021.83\">-1</text>\n",
       "</g>\n",
       "<g clip-path=\"url(#clip2701)\">\n",
       "<text style=\"fill:#000000; fill-opacity:1; font-family:Arial,Helvetica Neue,Helvetica,sans-serif; font-size:48px; text-anchor:end;\" transform=\"rotate(0, 483.194, 792.859)\" x=\"483.194\" y=\"792.859\">0</text>\n",
       "</g>\n",
       "<g clip-path=\"url(#clip2701)\">\n",
       "<text style=\"fill:#000000; fill-opacity:1; font-family:Arial,Helvetica Neue,Helvetica,sans-serif; font-size:48px; text-anchor:end;\" transform=\"rotate(0, 483.194, 563.891)\" x=\"483.194\" y=\"563.891\">1</text>\n",
       "</g>\n",
       "<g clip-path=\"url(#clip2701)\">\n",
       "<text style=\"fill:#000000; fill-opacity:1; font-family:Arial,Helvetica Neue,Helvetica,sans-serif; font-size:48px; text-anchor:end;\" transform=\"rotate(0, 483.194, 334.924)\" x=\"483.194\" y=\"334.924\">2</text>\n",
       "</g>\n",
       "<g clip-path=\"url(#clip2701)\">\n",
       "<text style=\"fill:#000000; fill-opacity:1; font-family:Arial,Helvetica Neue,Helvetica,sans-serif; font-size:48px; text-anchor:end;\" transform=\"rotate(0, 483.194, 105.956)\" x=\"483.194\" y=\"105.956\">3</text>\n",
       "</g>\n",
       "<polygon clip-path=\"url(#clip2703)\" points=\"\n",
       "548.408,775.359 548.443,782.227 548.546,789.096 548.717,795.963 548.958,802.827 549.267,809.689 549.644,816.548 550.091,823.402 550.605,830.252 551.188,837.096 \n",
       "  551.84,843.934 552.56,850.766 553.348,857.589 554.204,864.405 555.129,871.211 556.122,878.008 557.182,884.795 558.31,891.57 559.506,898.334 560.77,905.086 \n",
       "  562.101,911.825 563.499,918.55 564.964,925.261 566.497,931.957 568.096,938.637 569.762,945.301 571.495,951.948 573.294,958.577 575.159,965.188 577.091,971.78 \n",
       "  579.088,978.352 581.151,984.904 583.279,991.435 585.472,997.944 587.73,1004.43 590.053,1010.9 592.441,1017.34 594.893,1023.75 597.409,1030.14 599.988,1036.51 \n",
       "  602.632,1042.85 605.338,1049.16 608.108,1055.45 610.94,1061.71 613.835,1067.94 616.791,1074.14 619.81,1080.31 622.89,1086.45 626.032,1092.56 629.234,1098.63 \n",
       "  632.497,1104.68 635.82,1110.69 639.204,1116.67 642.646,1122.61 646.149,1128.52 649.71,1134.39 653.329,1140.23 657.007,1146.03 660.743,1151.8 664.536,1157.52 \n",
       "  668.386,1163.21 672.293,1168.86 676.256,1174.47 680.275,1180.04 684.349,1185.57 688.479,1191.06 692.663,1196.51 696.902,1201.92 701.194,1207.28 705.54,1212.6 \n",
       "  709.939,1217.87 714.39,1223.1 718.894,1228.29 723.449,1233.43 728.055,1238.53 732.712,1243.58 737.419,1248.58 742.176,1253.54 746.982,1258.44 751.838,1263.3 \n",
       "  756.741,1268.11 761.693,1272.87 766.691,1277.58 771.737,1282.25 776.829,1286.86 781.967,1291.41 787.15,1295.92 792.378,1300.38 797.65,1304.78 802.966,1309.13 \n",
       "  808.325,1313.43 813.727,1317.67 819.171,1321.86 824.657,1325.99 830.184,1330.07 835.751,1334.1 841.358,1338.06 847.005,1341.97 852.691,1345.83 858.414,1349.63 \n",
       "  864.176,1353.37 869.974,1357.05 875.809,1360.67 881.68,1364.24 887.587,1367.75 893.528,1371.19 899.503,1374.58 905.512,1377.91 911.554,1381.18 917.628,1384.38 \n",
       "  923.734,1387.53 929.872,1390.62 936.039,1393.64 942.237,1396.6 948.464,1399.5 954.72,1402.34 961.003,1405.11 967.315,1407.82 973.653,1410.47 980.017,1413.06 \n",
       "  986.406,1415.58 992.821,1418.04 999.26,1420.43 1005.72,1422.76 1012.21,1425.02 1018.71,1427.22 1025.24,1429.35 1031.79,1431.42 1038.37,1433.42 1044.96,1435.36 \n",
       "  1051.57,1437.23 1058.19,1439.03 1064.84,1440.77 1071.5,1442.44 1078.18,1444.05 1084.87,1445.59 1091.58,1447.06 1098.31,1448.46 1105.05,1449.8 1111.8,1451.06 \n",
       "  1118.56,1452.27 1125.33,1453.4 1132.12,1454.47 1138.92,1455.46 1145.72,1456.39 1152.54,1457.26 1159.36,1458.05 1166.19,1458.77 1173.03,1459.43 1179.87,1460.02 \n",
       "  1186.72,1460.54 1193.58,1460.99 1200.43,1461.37 1207.3,1461.69 1214.16,1461.94 1221.03,1462.11 1227.89,1462.22 1234.76,1462.26 1241.63,1462.23 1248.5,1462.13 \n",
       "  1255.37,1461.97 1262.23,1461.73 1269.1,1461.43 1275.95,1461.06 1282.81,1460.62 1289.66,1460.11 1296.5,1459.53 1303.34,1458.88 1310.17,1458.17 1317,1457.39 \n",
       "  1323.81,1456.54 1330.62,1455.62 1337.42,1454.63 1344.21,1453.57 1350.98,1452.45 1357.75,1451.26 1364.5,1450 1371.24,1448.68 1377.97,1447.28 1384.68,1445.82 \n",
       "  1391.38,1444.3 1398.06,1442.7 1404.72,1441.04 1411.37,1439.31 1418,1437.52 1424.61,1435.66 1431.21,1433.73 1437.78,1431.74 1444.34,1429.69 1450.87,1427.56 \n",
       "  1457.38,1425.37 1463.87,1423.12 1470.33,1420.8 1476.78,1418.42 1483.2,1415.97 1489.59,1413.46 1495.96,1410.89 1502.3,1408.25 1508.61,1405.55 1514.9,1402.78 \n",
       "  1521.16,1399.96 1527.39,1397.07 1533.6,1394.12 1539.77,1391.1 1545.91,1388.03 1552.02,1384.89 1558.1,1381.69 1564.15,1378.43 1570.16,1375.12 1576.14,1371.74 \n",
       "  1582.09,1368.3 1588,1364.8 1593.88,1361.25 1599.72,1357.63 1605.52,1353.96 1611.29,1350.23 1617.02,1346.44 1622.71,1342.59 1628.37,1338.69 1633.98,1334.73 \n",
       "  1639.55,1330.72 1645.09,1326.65 1650.58,1322.52 1656.03,1318.34 1661.44,1314.11 1666.8,1309.82 1672.13,1305.48 1677.41,1301.08 1682.64,1296.64 1687.83,1292.14 \n",
       "  1692.98,1287.59 1698.08,1282.98 1703.13,1278.33 1708.14,1273.63 1713.09,1268.87 1718.01,1264.07 1722.87,1259.22 1727.68,1254.32 1732.45,1249.37 1737.16,1244.38 \n",
       "  1741.83,1239.34 1746.44,1234.25 1751.01,1229.11 1755.52,1223.93 1759.98,1218.71 1764.38,1213.44 1768.74,1208.13 1773.04,1202.77 1777.29,1197.37 1781.48,1191.93 \n",
       "  1785.62,1186.45 1789.7,1180.93 1793.73,1175.36 1797.7,1169.76 1801.62,1164.12 1805.48,1158.43 1809.28,1152.71 1813.02,1146.95 1816.71,1141.16 1820.34,1135.33 \n",
       "  1823.91,1129.46 1827.42,1123.55 1830.87,1117.62 1834.27,1111.64 1837.6,1105.64 1840.87,1099.6 1844.08,1093.53 1847.23,1087.42 1850.32,1081.29 1853.35,1075.12 \n",
       "  1856.32,1068.93 1859.22,1062.7 1862.07,1056.45 1864.85,1050.17 1867.56,1043.86 1870.22,1037.52 1872.81,1031.16 1875.33,1024.77 1877.79,1018.36 1880.19,1011.92 \n",
       "  1882.53,1005.46 1884.79,998.979 1887,992.473 1889.14,985.946 1891.21,979.397 1893.22,972.828 1895.16,966.239 1897.03,959.631 1898.84,953.005 1900.59,946.361 \n",
       "  1902.26,939.699 1903.87,933.022 1905.42,926.328 1906.89,919.62 1908.3,912.897 1909.64,906.16 1910.92,899.411 1912.13,892.648 1913.26,885.874 1914.34,879.09 \n",
       "  1915.34,872.294 1916.27,865.489 1917.14,858.675 1917.94,851.853 1918.67,845.023 1919.33,838.186 1919.93,831.343 1920.45,824.494 1920.91,817.64 1921.3,810.782 \n",
       "  1921.62,803.92 1921.87,797.056 1922.05,790.189 1922.17,783.321 1922.21,776.453 1922.19,769.584 1922.1,762.715 1921.94,755.848 1921.71,748.983 1921.41,742.12 \n",
       "  1921.04,735.261 1920.61,728.406 1920.1,721.556 1919.53,714.71 1918.89,707.871 1918.18,701.039 1917.4,694.214 1916.56,687.397 1915.64,680.589 1914.66,673.791 \n",
       "  1913.61,667.003 1912.5,660.225 1911.31,653.459 1910.06,646.705 1908.74,639.964 1907.35,633.237 1905.89,626.524 1904.37,619.826 1902.78,613.143 1901.13,606.476 \n",
       "  1899.41,599.827 1897.62,593.195 1895.76,586.581 1893.84,579.986 1891.86,573.41 1889.8,566.855 1887.69,560.321 1885.5,553.808 1883.26,547.317 1880.94,540.849 \n",
       "  1878.56,534.405 1876.12,527.984 1873.62,521.589 1871.05,515.218 1868.41,508.874 1865.72,502.557 1862.96,496.266 1860.14,490.004 1857.25,483.77 1854.3,477.565 \n",
       "  1851.3,471.39 1848.23,465.246 1845.09,459.132 1841.9,453.05 1838.65,447.001 1835.33,440.984 1831.96,435 1828.53,429.051 1825.03,423.136 1821.48,417.257 \n",
       "  1817.87,411.413 1814.2,405.606 1810.48,399.835 1806.69,394.102 1802.85,388.408 1798.95,382.752 1795,377.135 1790.99,371.558 1786.92,366.022 1782.8,360.526 \n",
       "  1778.63,355.072 1774.4,349.66 1770.11,344.29 1765.78,338.964 1761.39,333.681 1756.94,328.443 1752.45,323.249 1747.9,318.1 1743.3,312.997 1738.65,307.94 \n",
       "  1733.96,302.93 1729.21,297.968 1724.41,293.053 1719.56,288.186 1714.66,283.368 1709.72,278.599 1704.73,273.88 1699.69,269.211 1694.61,264.592 1689.48,260.025 \n",
       "  1684.3,255.509 1679.08,251.045 1673.81,246.634 1668.5,242.275 1663.15,237.97 1657.76,233.719 1652.32,229.521 1646.84,225.379 1641.32,221.291 1635.76,217.259 \n",
       "  1630.16,213.282 1624.52,209.362 1618.84,205.498 1613.12,201.691 1607.37,197.942 1601.57,194.25 1595.74,190.617 1589.88,187.042 1583.98,183.526 1578.04,180.069 \n",
       "  1572.07,176.671 1566.07,173.333 1560.03,170.056 1553.96,166.839 1547.86,163.683 1541.73,160.588 1535.57,157.555 1529.37,154.583 1523.15,151.674 1516.9,148.827 \n",
       "  1510.62,146.042 1504.31,143.32 1497.98,140.662 1491.62,138.067 1485.23,135.536 1478.82,133.069 1472.39,130.666 1465.93,128.327 1459.45,126.053 1452.94,123.845 \n",
       "  1446.42,121.701 1439.87,119.622 1433.3,117.61 1426.72,115.663 1420.11,113.782 1413.49,111.967 1406.84,110.218 1400.18,108.536 1393.51,106.921 1386.81,105.372 \n",
       "  1380.11,103.891 1373.38,102.476 1366.65,101.129 1359.9,99.8497 1353.14,98.6376 1346.37,97.4932 1339.58,96.4165 1332.79,95.4078 1325.98,94.467 1319.17,93.5944 \n",
       "  1312.35,92.7899 1305.52,92.0536 1298.68,91.3857 1291.84,90.7862 1284.99,90.2552 1278.14,89.7926 1271.28,89.3986 1264.42,89.0732 1257.55,88.8165 1250.69,88.6284 \n",
       "  1243.82,88.5089 1236.95,88.4582 1230.08,88.4761 1223.21,88.5627 1216.35,88.718 1209.48,88.942 1202.62,89.2346 1195.76,89.5958 1188.9,90.0256 1182.05,90.5239 \n",
       "  1175.21,91.0907 1168.37,91.726 1161.53,92.4296 1154.71,93.2015 1147.89,94.0416 1141.08,94.9498 1134.28,95.9261 1127.49,96.9703 1120.72,98.0824 1113.95,99.2622 \n",
       "  1107.19,100.51 1100.45,101.824 1093.72,103.207 1087.01,104.656 1080.31,106.173 1073.63,107.756 1066.96,109.406 1060.31,111.123 1053.67,112.906 1047.06,114.756 \n",
       "  1040.46,116.671 1033.89,118.653 1027.33,120.7 1020.79,122.812 1014.28,124.99 1007.79,127.233 1001.32,129.54 994.869,131.913 988.447,134.349 982.049,136.85 \n",
       "  975.677,139.414 969.331,142.042 963.011,144.734 956.718,147.488 950.454,150.306 944.217,153.185 938.01,156.127 931.833,159.131 925.686,162.197 919.57,165.324 \n",
       "  913.485,168.511 907.433,171.76 901.414,175.069 895.428,178.438 889.475,181.866 883.558,185.354 877.676,188.901 871.829,192.507 866.019,196.171 860.245,199.893 \n",
       "  854.51,203.672 848.812,207.509 843.153,211.402 837.533,215.352 831.953,219.357 826.413,223.419 820.914,227.535 815.457,231.706 810.041,235.932 804.668,240.212 \n",
       "  799.339,244.545 794.052,248.931 788.81,253.37 783.613,257.861 778.46,262.404 773.354,266.998 768.293,271.643 763.28,276.338 758.313,281.083 753.394,285.878 \n",
       "  748.524,290.721 743.702,295.613 738.929,300.553 734.206,305.541 729.533,310.575 724.91,315.656 720.339,320.783 715.819,325.955 711.351,331.173 706.935,336.434 \n",
       "  702.573,341.74 698.263,347.089 694.007,352.481 689.806,357.915 685.659,363.391 681.567,368.908 677.53,374.465 673.549,380.063 669.624,385.7 665.756,391.377 \n",
       "  661.945,397.091 658.191,402.844 654.494,408.634 650.856,414.46 647.276,420.322 643.756,426.22 640.294,432.153 636.892,438.121 633.549,444.122 630.267,450.156 \n",
       "  627.045,456.222 623.884,462.321 620.785,468.451 617.746,474.611 614.77,480.802 611.855,487.022 609.003,493.271 606.214,499.548 603.487,505.852 600.824,512.184 \n",
       "  598.224,518.542 595.687,524.925 593.215,531.334 590.807,537.767 588.463,544.224 586.184,550.704 583.97,557.206 581.821,563.73 579.738,570.276 577.72,576.842 \n",
       "  575.767,583.427 573.881,590.032 572.061,596.656 570.307,603.297 568.62,609.956 566.999,616.631 565.445,623.322 563.958,630.028 562.539,636.748 561.186,643.483 \n",
       "  559.901,650.231 558.684,656.991 557.534,663.763 556.452,670.546 555.438,677.34 554.492,684.143 553.613,690.956 552.804,697.777 552.062,704.606 551.389,711.442 \n",
       "  550.784,718.284 550.247,725.132 549.779,731.985 549.38,738.843 549.049,745.704 548.787,752.568 548.593,759.434 548.468,766.302 548.412,773.171 548.412,775.359 \n",
       "  548.468,775.359 548.593,775.359 548.787,775.359 549.049,775.359 549.38,775.359 549.779,775.359 550.247,775.359 550.784,775.359 551.389,775.359 552.062,775.359 \n",
       "  552.804,775.359 553.613,775.359 554.492,775.359 555.438,775.359 556.452,775.359 557.534,775.359 558.684,775.359 559.901,775.359 561.186,775.359 562.539,775.359 \n",
       "  563.958,775.359 565.445,775.359 566.999,775.359 568.62,775.359 570.307,775.359 572.061,775.359 573.881,775.359 575.767,775.359 577.72,775.359 579.738,775.359 \n",
       "  581.821,775.359 583.97,775.359 586.184,775.359 588.463,775.359 590.807,775.359 593.215,775.359 595.687,775.359 598.224,775.359 600.824,775.359 603.487,775.359 \n",
       "  606.214,775.359 609.003,775.359 611.855,775.359 614.77,775.359 617.746,775.359 620.785,775.359 623.884,775.359 627.045,775.359 630.267,775.359 633.549,775.359 \n",
       "  636.892,775.359 640.294,775.359 643.756,775.359 647.276,775.359 650.856,775.359 654.494,775.359 658.191,775.359 661.945,775.359 665.756,775.359 669.624,775.359 \n",
       "  673.549,775.359 677.53,775.359 681.567,775.359 685.659,775.359 689.806,775.359 694.007,775.359 698.263,775.359 702.573,775.359 706.935,775.359 711.351,775.359 \n",
       "  715.819,775.359 720.339,775.359 724.91,775.359 729.533,775.359 734.206,775.359 738.929,775.359 743.702,775.359 748.524,775.359 753.394,775.359 758.313,775.359 \n",
       "  763.28,775.359 768.293,775.359 773.354,775.359 778.46,775.359 783.613,775.359 788.81,775.359 794.052,775.359 799.339,775.359 804.668,775.359 810.041,775.359 \n",
       "  815.457,775.359 820.914,775.359 826.413,775.359 831.953,775.359 837.533,775.359 843.153,775.359 848.812,775.359 854.51,775.359 860.245,775.359 866.019,775.359 \n",
       "  871.829,775.359 877.676,775.359 883.558,775.359 889.475,775.359 895.428,775.359 901.414,775.359 907.433,775.359 913.485,775.359 919.57,775.359 925.686,775.359 \n",
       "  931.833,775.359 938.01,775.359 944.217,775.359 950.454,775.359 956.718,775.359 963.011,775.359 969.331,775.359 975.677,775.359 982.049,775.359 988.447,775.359 \n",
       "  994.869,775.359 1001.32,775.359 1007.79,775.359 1014.28,775.359 1020.79,775.359 1027.33,775.359 1033.89,775.359 1040.46,775.359 1047.06,775.359 1053.67,775.359 \n",
       "  1060.31,775.359 1066.96,775.359 1073.63,775.359 1080.31,775.359 1087.01,775.359 1093.72,775.359 1100.45,775.359 1107.19,775.359 1113.95,775.359 1120.72,775.359 \n",
       "  1127.49,775.359 1134.28,775.359 1141.08,775.359 1147.89,775.359 1154.71,775.359 1161.53,775.359 1168.37,775.359 1175.21,775.359 1182.05,775.359 1188.9,775.359 \n",
       "  1195.76,775.359 1202.62,775.359 1209.48,775.359 1216.35,775.359 1223.21,775.359 1230.08,775.359 1236.95,775.359 1243.82,775.359 1250.69,775.359 1257.55,775.359 \n",
       "  1264.42,775.359 1271.28,775.359 1278.14,775.359 1284.99,775.359 1291.84,775.359 1298.68,775.359 1305.52,775.359 1312.35,775.359 1319.17,775.359 1325.98,775.359 \n",
       "  1332.79,775.359 1339.58,775.359 1346.37,775.359 1353.14,775.359 1359.9,775.359 1366.65,775.359 1373.38,775.359 1380.11,775.359 1386.81,775.359 1393.51,775.359 \n",
       "  1400.18,775.359 1406.84,775.359 1413.49,775.359 1420.11,775.359 1426.72,775.359 1433.3,775.359 1439.87,775.359 1446.42,775.359 1452.94,775.359 1459.45,775.359 \n",
       "  1465.93,775.359 1472.39,775.359 1478.82,775.359 1485.23,775.359 1491.62,775.359 1497.98,775.359 1504.31,775.359 1510.62,775.359 1516.9,775.359 1523.15,775.359 \n",
       "  1529.37,775.359 1535.57,775.359 1541.73,775.359 1547.86,775.359 1553.96,775.359 1560.03,775.359 1566.07,775.359 1572.07,775.359 1578.04,775.359 1583.98,775.359 \n",
       "  1589.88,775.359 1595.74,775.359 1601.57,775.359 1607.37,775.359 1613.12,775.359 1618.84,775.359 1624.52,775.359 1630.16,775.359 1635.76,775.359 1641.32,775.359 \n",
       "  1646.84,775.359 1652.32,775.359 1657.76,775.359 1663.15,775.359 1668.5,775.359 1673.81,775.359 1679.08,775.359 1684.3,775.359 1689.48,775.359 1694.61,775.359 \n",
       "  1699.69,775.359 1704.73,775.359 1709.72,775.359 1714.66,775.359 1719.56,775.359 1724.41,775.359 1729.21,775.359 1733.96,775.359 1738.65,775.359 1743.3,775.359 \n",
       "  1747.9,775.359 1752.45,775.359 1756.94,775.359 1761.39,775.359 1765.78,775.359 1770.11,775.359 1774.4,775.359 1778.63,775.359 1782.8,775.359 1786.92,775.359 \n",
       "  1790.99,775.359 1795,775.359 1798.95,775.359 1802.85,775.359 1806.69,775.359 1810.48,775.359 1814.2,775.359 1817.87,775.359 1821.48,775.359 1825.03,775.359 \n",
       "  1828.53,775.359 1831.96,775.359 1835.33,775.359 1838.65,775.359 1841.9,775.359 1845.09,775.359 1848.23,775.359 1851.3,775.359 1854.3,775.359 1857.25,775.359 \n",
       "  1860.14,775.359 1862.96,775.359 1865.72,775.359 1868.41,775.359 1871.05,775.359 1873.62,775.359 1876.12,775.359 1878.56,775.359 1880.94,775.359 1883.26,775.359 \n",
       "  1885.5,775.359 1887.69,775.359 1889.8,775.359 1891.86,775.359 1893.84,775.359 1895.76,775.359 1897.62,775.359 1899.41,775.359 1901.13,775.359 1902.78,775.359 \n",
       "  1904.37,775.359 1905.89,775.359 1907.35,775.359 1908.74,775.359 1910.06,775.359 1911.31,775.359 1912.5,775.359 1913.61,775.359 1914.66,775.359 1915.64,775.359 \n",
       "  1916.56,775.359 1917.4,775.359 1918.18,775.359 1918.89,775.359 1919.53,775.359 1920.1,775.359 1920.61,775.359 1921.04,775.359 1921.41,775.359 1921.71,775.359 \n",
       "  1921.94,775.359 1922.1,775.359 1922.19,775.359 1922.21,775.359 1922.17,775.359 1922.05,775.359 1921.87,775.359 1921.62,775.359 1921.3,775.359 1920.91,775.359 \n",
       "  1920.45,775.359 1919.93,775.359 1919.33,775.359 1918.67,775.359 1917.94,775.359 1917.14,775.359 1916.27,775.359 1915.34,775.359 1914.34,775.359 1913.26,775.359 \n",
       "  1912.13,775.359 1910.92,775.359 1909.64,775.359 1908.3,775.359 1906.89,775.359 1905.42,775.359 1903.87,775.359 1902.26,775.359 1900.59,775.359 1898.84,775.359 \n",
       "  1897.03,775.359 1895.16,775.359 1893.22,775.359 1891.21,775.359 1889.14,775.359 1887,775.359 1884.79,775.359 1882.53,775.359 1880.19,775.359 1877.79,775.359 \n",
       "  1875.33,775.359 1872.81,775.359 1870.22,775.359 1867.56,775.359 1864.85,775.359 1862.07,775.359 1859.22,775.359 1856.32,775.359 1853.35,775.359 1850.32,775.359 \n",
       "  1847.23,775.359 1844.08,775.359 1840.87,775.359 1837.6,775.359 1834.27,775.359 1830.87,775.359 1827.42,775.359 1823.91,775.359 1820.34,775.359 1816.71,775.359 \n",
       "  1813.02,775.359 1809.28,775.359 1805.48,775.359 1801.62,775.359 1797.7,775.359 1793.73,775.359 1789.7,775.359 1785.62,775.359 1781.48,775.359 1777.29,775.359 \n",
       "  1773.04,775.359 1768.74,775.359 1764.38,775.359 1759.98,775.359 1755.52,775.359 1751.01,775.359 1746.44,775.359 1741.83,775.359 1737.16,775.359 1732.45,775.359 \n",
       "  1727.68,775.359 1722.87,775.359 1718.01,775.359 1713.09,775.359 1708.14,775.359 1703.13,775.359 1698.08,775.359 1692.98,775.359 1687.83,775.359 1682.64,775.359 \n",
       "  1677.41,775.359 1672.13,775.359 1666.8,775.359 1661.44,775.359 1656.03,775.359 1650.58,775.359 1645.09,775.359 1639.55,775.359 1633.98,775.359 1628.37,775.359 \n",
       "  1622.71,775.359 1617.02,775.359 1611.29,775.359 1605.52,775.359 1599.72,775.359 1593.88,775.359 1588,775.359 1582.09,775.359 1576.14,775.359 1570.16,775.359 \n",
       "  1564.15,775.359 1558.1,775.359 1552.02,775.359 1545.91,775.359 1539.77,775.359 1533.6,775.359 1527.39,775.359 1521.16,775.359 1514.9,775.359 1508.61,775.359 \n",
       "  1502.3,775.359 1495.96,775.359 1489.59,775.359 1483.2,775.359 1476.78,775.359 1470.33,775.359 1463.87,775.359 1457.38,775.359 1450.87,775.359 1444.34,775.359 \n",
       "  1437.78,775.359 1431.21,775.359 1424.61,775.359 1418,775.359 1411.37,775.359 1404.72,775.359 1398.06,775.359 1391.38,775.359 1384.68,775.359 1377.97,775.359 \n",
       "  1371.24,775.359 1364.5,775.359 1357.75,775.359 1350.98,775.359 1344.21,775.359 1337.42,775.359 1330.62,775.359 1323.81,775.359 1317,775.359 1310.17,775.359 \n",
       "  1303.34,775.359 1296.5,775.359 1289.66,775.359 1282.81,775.359 1275.95,775.359 1269.1,775.359 1262.23,775.359 1255.37,775.359 1248.5,775.359 1241.63,775.359 \n",
       "  1234.76,775.359 1227.89,775.359 1221.03,775.359 1214.16,775.359 1207.3,775.359 1200.43,775.359 1193.58,775.359 1186.72,775.359 1179.87,775.359 1173.03,775.359 \n",
       "  1166.19,775.359 1159.36,775.359 1152.54,775.359 1145.72,775.359 1138.92,775.359 1132.12,775.359 1125.33,775.359 1118.56,775.359 1111.8,775.359 1105.05,775.359 \n",
       "  1098.31,775.359 1091.58,775.359 1084.87,775.359 1078.18,775.359 1071.5,775.359 1064.84,775.359 1058.19,775.359 1051.57,775.359 1044.96,775.359 1038.37,775.359 \n",
       "  1031.79,775.359 1025.24,775.359 1018.71,775.359 1012.21,775.359 1005.72,775.359 999.26,775.359 992.821,775.359 986.406,775.359 980.017,775.359 973.653,775.359 \n",
       "  967.315,775.359 961.003,775.359 954.72,775.359 948.464,775.359 942.237,775.359 936.039,775.359 929.872,775.359 923.734,775.359 917.628,775.359 911.554,775.359 \n",
       "  905.512,775.359 899.503,775.359 893.528,775.359 887.587,775.359 881.68,775.359 875.809,775.359 869.974,775.359 864.176,775.359 858.414,775.359 852.691,775.359 \n",
       "  847.005,775.359 841.358,775.359 835.751,775.359 830.184,775.359 824.657,775.359 819.171,775.359 813.727,775.359 808.325,775.359 802.966,775.359 797.65,775.359 \n",
       "  792.378,775.359 787.15,775.359 781.967,775.359 776.829,775.359 771.737,775.359 766.691,775.359 761.693,775.359 756.741,775.359 751.838,775.359 746.982,775.359 \n",
       "  742.176,775.359 737.419,775.359 732.712,775.359 728.055,775.359 723.449,775.359 718.894,775.359 714.39,775.359 709.939,775.359 705.54,775.359 701.194,775.359 \n",
       "  696.902,775.359 692.663,775.359 688.479,775.359 684.349,775.359 680.275,775.359 676.256,775.359 672.293,775.359 668.386,775.359 664.536,775.359 660.743,775.359 \n",
       "  657.007,775.359 653.329,775.359 649.71,775.359 646.149,775.359 642.646,775.359 639.204,775.359 635.82,775.359 632.497,775.359 629.234,775.359 626.032,775.359 \n",
       "  622.89,775.359 619.81,775.359 616.791,775.359 613.835,775.359 610.94,775.359 608.108,775.359 605.338,775.359 602.632,775.359 599.988,775.359 597.409,775.359 \n",
       "  594.893,775.359 592.441,775.359 590.053,775.359 587.73,775.359 585.472,775.359 583.279,775.359 581.151,775.359 579.088,775.359 577.091,775.359 575.159,775.359 \n",
       "  573.294,775.359 571.495,775.359 569.762,775.359 568.096,775.359 566.497,775.359 564.964,775.359 563.499,775.359 562.101,775.359 560.77,775.359 559.506,775.359 \n",
       "  558.31,775.359 557.182,775.359 556.122,775.359 555.129,775.359 554.204,775.359 553.348,775.359 552.56,775.359 551.84,775.359 551.188,775.359 550.605,775.359 \n",
       "  550.091,775.359 549.644,775.359 549.267,775.359 548.958,775.359 548.717,775.359 548.546,775.359 548.443,775.359 548.408,775.359 \n",
       "  \" fill=\"#009af9\" fill-rule=\"evenodd\" fill-opacity=\"1\"/>\n",
       "<polyline clip-path=\"url(#clip2703)\" style=\"stroke:#009af9; stroke-width:4; stroke-opacity:1; fill:none\" points=\"\n",
       "  548.408,775.359 548.443,782.227 548.546,789.096 548.717,795.963 548.958,802.827 549.267,809.689 549.644,816.548 550.091,823.402 550.605,830.252 551.188,837.096 \n",
       "  551.84,843.934 552.56,850.766 553.348,857.589 554.204,864.405 555.129,871.211 556.122,878.008 557.182,884.795 558.31,891.57 559.506,898.334 560.77,905.086 \n",
       "  562.101,911.825 563.499,918.55 564.964,925.261 566.497,931.957 568.096,938.637 569.762,945.301 571.495,951.948 573.294,958.577 575.159,965.188 577.091,971.78 \n",
       "  579.088,978.352 581.151,984.904 583.279,991.435 585.472,997.944 587.73,1004.43 590.053,1010.9 592.441,1017.34 594.893,1023.75 597.409,1030.14 599.988,1036.51 \n",
       "  602.632,1042.85 605.338,1049.16 608.108,1055.45 610.94,1061.71 613.835,1067.94 616.791,1074.14 619.81,1080.31 622.89,1086.45 626.032,1092.56 629.234,1098.63 \n",
       "  632.497,1104.68 635.82,1110.69 639.204,1116.67 642.646,1122.61 646.149,1128.52 649.71,1134.39 653.329,1140.23 657.007,1146.03 660.743,1151.8 664.536,1157.52 \n",
       "  668.386,1163.21 672.293,1168.86 676.256,1174.47 680.275,1180.04 684.349,1185.57 688.479,1191.06 692.663,1196.51 696.902,1201.92 701.194,1207.28 705.54,1212.6 \n",
       "  709.939,1217.87 714.39,1223.1 718.894,1228.29 723.449,1233.43 728.055,1238.53 732.712,1243.58 737.419,1248.58 742.176,1253.54 746.982,1258.44 751.838,1263.3 \n",
       "  756.741,1268.11 761.693,1272.87 766.691,1277.58 771.737,1282.25 776.829,1286.86 781.967,1291.41 787.15,1295.92 792.378,1300.38 797.65,1304.78 802.966,1309.13 \n",
       "  808.325,1313.43 813.727,1317.67 819.171,1321.86 824.657,1325.99 830.184,1330.07 835.751,1334.1 841.358,1338.06 847.005,1341.97 852.691,1345.83 858.414,1349.63 \n",
       "  864.176,1353.37 869.974,1357.05 875.809,1360.67 881.68,1364.24 887.587,1367.75 893.528,1371.19 899.503,1374.58 905.512,1377.91 911.554,1381.18 917.628,1384.38 \n",
       "  923.734,1387.53 929.872,1390.62 936.039,1393.64 942.237,1396.6 948.464,1399.5 954.72,1402.34 961.003,1405.11 967.315,1407.82 973.653,1410.47 980.017,1413.06 \n",
       "  986.406,1415.58 992.821,1418.04 999.26,1420.43 1005.72,1422.76 1012.21,1425.02 1018.71,1427.22 1025.24,1429.35 1031.79,1431.42 1038.37,1433.42 1044.96,1435.36 \n",
       "  1051.57,1437.23 1058.19,1439.03 1064.84,1440.77 1071.5,1442.44 1078.18,1444.05 1084.87,1445.59 1091.58,1447.06 1098.31,1448.46 1105.05,1449.8 1111.8,1451.06 \n",
       "  1118.56,1452.27 1125.33,1453.4 1132.12,1454.47 1138.92,1455.46 1145.72,1456.39 1152.54,1457.26 1159.36,1458.05 1166.19,1458.77 1173.03,1459.43 1179.87,1460.02 \n",
       "  1186.72,1460.54 1193.58,1460.99 1200.43,1461.37 1207.3,1461.69 1214.16,1461.94 1221.03,1462.11 1227.89,1462.22 1234.76,1462.26 1241.63,1462.23 1248.5,1462.13 \n",
       "  1255.37,1461.97 1262.23,1461.73 1269.1,1461.43 1275.95,1461.06 1282.81,1460.62 1289.66,1460.11 1296.5,1459.53 1303.34,1458.88 1310.17,1458.17 1317,1457.39 \n",
       "  1323.81,1456.54 1330.62,1455.62 1337.42,1454.63 1344.21,1453.57 1350.98,1452.45 1357.75,1451.26 1364.5,1450 1371.24,1448.68 1377.97,1447.28 1384.68,1445.82 \n",
       "  1391.38,1444.3 1398.06,1442.7 1404.72,1441.04 1411.37,1439.31 1418,1437.52 1424.61,1435.66 1431.21,1433.73 1437.78,1431.74 1444.34,1429.69 1450.87,1427.56 \n",
       "  1457.38,1425.37 1463.87,1423.12 1470.33,1420.8 1476.78,1418.42 1483.2,1415.97 1489.59,1413.46 1495.96,1410.89 1502.3,1408.25 1508.61,1405.55 1514.9,1402.78 \n",
       "  1521.16,1399.96 1527.39,1397.07 1533.6,1394.12 1539.77,1391.1 1545.91,1388.03 1552.02,1384.89 1558.1,1381.69 1564.15,1378.43 1570.16,1375.12 1576.14,1371.74 \n",
       "  1582.09,1368.3 1588,1364.8 1593.88,1361.25 1599.72,1357.63 1605.52,1353.96 1611.29,1350.23 1617.02,1346.44 1622.71,1342.59 1628.37,1338.69 1633.98,1334.73 \n",
       "  1639.55,1330.72 1645.09,1326.65 1650.58,1322.52 1656.03,1318.34 1661.44,1314.11 1666.8,1309.82 1672.13,1305.48 1677.41,1301.08 1682.64,1296.64 1687.83,1292.14 \n",
       "  1692.98,1287.59 1698.08,1282.98 1703.13,1278.33 1708.14,1273.63 1713.09,1268.87 1718.01,1264.07 1722.87,1259.22 1727.68,1254.32 1732.45,1249.37 1737.16,1244.38 \n",
       "  1741.83,1239.34 1746.44,1234.25 1751.01,1229.11 1755.52,1223.93 1759.98,1218.71 1764.38,1213.44 1768.74,1208.13 1773.04,1202.77 1777.29,1197.37 1781.48,1191.93 \n",
       "  1785.62,1186.45 1789.7,1180.93 1793.73,1175.36 1797.7,1169.76 1801.62,1164.12 1805.48,1158.43 1809.28,1152.71 1813.02,1146.95 1816.71,1141.16 1820.34,1135.33 \n",
       "  1823.91,1129.46 1827.42,1123.55 1830.87,1117.62 1834.27,1111.64 1837.6,1105.64 1840.87,1099.6 1844.08,1093.53 1847.23,1087.42 1850.32,1081.29 1853.35,1075.12 \n",
       "  1856.32,1068.93 1859.22,1062.7 1862.07,1056.45 1864.85,1050.17 1867.56,1043.86 1870.22,1037.52 1872.81,1031.16 1875.33,1024.77 1877.79,1018.36 1880.19,1011.92 \n",
       "  1882.53,1005.46 1884.79,998.979 1887,992.473 1889.14,985.946 1891.21,979.397 1893.22,972.828 1895.16,966.239 1897.03,959.631 1898.84,953.005 1900.59,946.361 \n",
       "  1902.26,939.699 1903.87,933.022 1905.42,926.328 1906.89,919.62 1908.3,912.897 1909.64,906.16 1910.92,899.411 1912.13,892.648 1913.26,885.874 1914.34,879.09 \n",
       "  1915.34,872.294 1916.27,865.489 1917.14,858.675 1917.94,851.853 1918.67,845.023 1919.33,838.186 1919.93,831.343 1920.45,824.494 1920.91,817.64 1921.3,810.782 \n",
       "  1921.62,803.92 1921.87,797.056 1922.05,790.189 1922.17,783.321 1922.21,776.453 1922.19,769.584 1922.1,762.715 1921.94,755.848 1921.71,748.983 1921.41,742.12 \n",
       "  1921.04,735.261 1920.61,728.406 1920.1,721.556 1919.53,714.71 1918.89,707.871 1918.18,701.039 1917.4,694.214 1916.56,687.397 1915.64,680.589 1914.66,673.791 \n",
       "  1913.61,667.003 1912.5,660.225 1911.31,653.459 1910.06,646.705 1908.74,639.964 1907.35,633.237 1905.89,626.524 1904.37,619.826 1902.78,613.143 1901.13,606.476 \n",
       "  1899.41,599.827 1897.62,593.195 1895.76,586.581 1893.84,579.986 1891.86,573.41 1889.8,566.855 1887.69,560.321 1885.5,553.808 1883.26,547.317 1880.94,540.849 \n",
       "  1878.56,534.405 1876.12,527.984 1873.62,521.589 1871.05,515.218 1868.41,508.874 1865.72,502.557 1862.96,496.266 1860.14,490.004 1857.25,483.77 1854.3,477.565 \n",
       "  1851.3,471.39 1848.23,465.246 1845.09,459.132 1841.9,453.05 1838.65,447.001 1835.33,440.984 1831.96,435 1828.53,429.051 1825.03,423.136 1821.48,417.257 \n",
       "  1817.87,411.413 1814.2,405.606 1810.48,399.835 1806.69,394.102 1802.85,388.408 1798.95,382.752 1795,377.135 1790.99,371.558 1786.92,366.022 1782.8,360.526 \n",
       "  1778.63,355.072 1774.4,349.66 1770.11,344.29 1765.78,338.964 1761.39,333.681 1756.94,328.443 1752.45,323.249 1747.9,318.1 1743.3,312.997 1738.65,307.94 \n",
       "  1733.96,302.93 1729.21,297.968 1724.41,293.053 1719.56,288.186 1714.66,283.368 1709.72,278.599 1704.73,273.88 1699.69,269.211 1694.61,264.592 1689.48,260.025 \n",
       "  1684.3,255.509 1679.08,251.045 1673.81,246.634 1668.5,242.275 1663.15,237.97 1657.76,233.719 1652.32,229.521 1646.84,225.379 1641.32,221.291 1635.76,217.259 \n",
       "  1630.16,213.282 1624.52,209.362 1618.84,205.498 1613.12,201.691 1607.37,197.942 1601.57,194.25 1595.74,190.617 1589.88,187.042 1583.98,183.526 1578.04,180.069 \n",
       "  1572.07,176.671 1566.07,173.333 1560.03,170.056 1553.96,166.839 1547.86,163.683 1541.73,160.588 1535.57,157.555 1529.37,154.583 1523.15,151.674 1516.9,148.827 \n",
       "  1510.62,146.042 1504.31,143.32 1497.98,140.662 1491.62,138.067 1485.23,135.536 1478.82,133.069 1472.39,130.666 1465.93,128.327 1459.45,126.053 1452.94,123.845 \n",
       "  1446.42,121.701 1439.87,119.622 1433.3,117.61 1426.72,115.663 1420.11,113.782 1413.49,111.967 1406.84,110.218 1400.18,108.536 1393.51,106.921 1386.81,105.372 \n",
       "  1380.11,103.891 1373.38,102.476 1366.65,101.129 1359.9,99.8497 1353.14,98.6376 1346.37,97.4932 1339.58,96.4165 1332.79,95.4078 1325.98,94.467 1319.17,93.5944 \n",
       "  1312.35,92.7899 1305.52,92.0536 1298.68,91.3857 1291.84,90.7862 1284.99,90.2552 1278.14,89.7926 1271.28,89.3986 1264.42,89.0732 1257.55,88.8165 1250.69,88.6284 \n",
       "  1243.82,88.5089 1236.95,88.4582 1230.08,88.4761 1223.21,88.5627 1216.35,88.718 1209.48,88.942 1202.62,89.2346 1195.76,89.5958 1188.9,90.0256 1182.05,90.5239 \n",
       "  1175.21,91.0907 1168.37,91.726 1161.53,92.4296 1154.71,93.2015 1147.89,94.0416 1141.08,94.9498 1134.28,95.9261 1127.49,96.9703 1120.72,98.0824 1113.95,99.2622 \n",
       "  1107.19,100.51 1100.45,101.824 1093.72,103.207 1087.01,104.656 1080.31,106.173 1073.63,107.756 1066.96,109.406 1060.31,111.123 1053.67,112.906 1047.06,114.756 \n",
       "  1040.46,116.671 1033.89,118.653 1027.33,120.7 1020.79,122.812 1014.28,124.99 1007.79,127.233 1001.32,129.54 994.869,131.913 988.447,134.349 982.049,136.85 \n",
       "  975.677,139.414 969.331,142.042 963.011,144.734 956.718,147.488 950.454,150.306 944.217,153.185 938.01,156.127 931.833,159.131 925.686,162.197 919.57,165.324 \n",
       "  913.485,168.511 907.433,171.76 901.414,175.069 895.428,178.438 889.475,181.866 883.558,185.354 877.676,188.901 871.829,192.507 866.019,196.171 860.245,199.893 \n",
       "  854.51,203.672 848.812,207.509 843.153,211.402 837.533,215.352 831.953,219.357 826.413,223.419 820.914,227.535 815.457,231.706 810.041,235.932 804.668,240.212 \n",
       "  799.339,244.545 794.052,248.931 788.81,253.37 783.613,257.861 778.46,262.404 773.354,266.998 768.293,271.643 763.28,276.338 758.313,281.083 753.394,285.878 \n",
       "  748.524,290.721 743.702,295.613 738.929,300.553 734.206,305.541 729.533,310.575 724.91,315.656 720.339,320.783 715.819,325.955 711.351,331.173 706.935,336.434 \n",
       "  702.573,341.74 698.263,347.089 694.007,352.481 689.806,357.915 685.659,363.391 681.567,368.908 677.53,374.465 673.549,380.063 669.624,385.7 665.756,391.377 \n",
       "  661.945,397.091 658.191,402.844 654.494,408.634 650.856,414.46 647.276,420.322 643.756,426.22 640.294,432.153 636.892,438.121 633.549,444.122 630.267,450.156 \n",
       "  627.045,456.222 623.884,462.321 620.785,468.451 617.746,474.611 614.77,480.802 611.855,487.022 609.003,493.271 606.214,499.548 603.487,505.852 600.824,512.184 \n",
       "  598.224,518.542 595.687,524.925 593.215,531.334 590.807,537.767 588.463,544.224 586.184,550.704 583.97,557.206 581.821,563.73 579.738,570.276 577.72,576.842 \n",
       "  575.767,583.427 573.881,590.032 572.061,596.656 570.307,603.297 568.62,609.956 566.999,616.631 565.445,623.322 563.958,630.028 562.539,636.748 561.186,643.483 \n",
       "  559.901,650.231 558.684,656.991 557.534,663.763 556.452,670.546 555.438,677.34 554.492,684.143 553.613,690.956 552.804,697.777 552.062,704.606 551.389,711.442 \n",
       "  550.784,718.284 550.247,725.132 549.779,731.985 549.38,738.843 549.049,745.704 548.787,752.568 548.593,759.434 548.468,766.302 548.412,773.171 \n",
       "  \"/>\n",
       "<polygon clip-path=\"url(#clip2701)\" points=\"\n",
       "1600.6,251.724 1891.43,251.724 1891.43,130.764 1600.6,130.764 \n",
       "  \" fill=\"#ffffff\" fill-rule=\"evenodd\" fill-opacity=\"1\"/>\n",
       "<polyline clip-path=\"url(#clip2701)\" style=\"stroke:#000000; stroke-width:4; stroke-opacity:1; fill:none\" points=\"\n",
       "  1600.6,251.724 1891.43,251.724 1891.43,130.764 1600.6,130.764 1600.6,251.724 \n",
       "  \"/>\n",
       "<polygon clip-path=\"url(#clip2701)\" points=\"\n",
       "1624.6,215.436 1768.6,215.436 1768.6,167.052 1624.6,167.052 1624.6,215.436 \n",
       "  \" fill=\"#009af9\" fill-rule=\"evenodd\" fill-opacity=\"1\"/>\n",
       "<polyline clip-path=\"url(#clip2701)\" style=\"stroke:#009af9; stroke-width:4; stroke-opacity:1; fill:none\" points=\"\n",
       "  1624.6,167.052 1768.6,167.052 \n",
       "  \"/>\n",
       "<g clip-path=\"url(#clip2701)\">\n",
       "<text style=\"fill:#000000; fill-opacity:1; font-family:Arial,Helvetica Neue,Helvetica,sans-serif; font-size:48px; text-anchor:start;\" transform=\"rotate(0, 1792.6, 208.744)\" x=\"1792.6\" y=\"208.744\">y1</text>\n",
       "</g>\n",
       "</svg>\n"
      ]
     },
     "execution_count": 7,
     "metadata": {},
     "output_type": "execute_result"
    }
   ],
   "source": [
    "function circulo(r)\n",
    "    θ = -π:0.01:π\n",
    "    plot(r.*cos.(θ), r.*sin.(θ), fill = true, aspect_ratio = 1)\n",
    "end\n",
    "circulo(3)"
   ]
  },
  {
   "cell_type": "markdown",
   "metadata": {},
   "source": [
    "[15] Haz una función que dadas dos rectas en el plano (por ejemplo usando como argumentos vectores dirección y un punto por el que pasen) dibuje ambas rectas y el punto donde se intersectan si se intersectan, y un punto medio si son paralelas. "
   ]
  },
  {
   "cell_type": "code",
   "execution_count": null,
   "metadata": {
    "collapsed": true
   },
   "outputs": [],
   "source": []
  },
  {
   "cell_type": "markdown",
   "metadata": {},
   "source": [
    "[16] Haz una función que dadas dos rectas en el espacio (como argumentos tome puntos por los que pasan y vectores de dirección, por ejemplo) dibuje ambas rectas en el espacio y el segmento que las une por su distancia (este último dibujado en otro color). "
   ]
  },
  {
   "cell_type": "code",
   "execution_count": null,
   "metadata": {},
   "outputs": [],
   "source": []
  },
  {
   "cell_type": "markdown",
   "metadata": {},
   "source": [
    "# Estructuras de datos: \n",
    "\n",
    "Las estructuras de datos son las formas en las que se acomodan series de datos (nombres, años, colores, etc...). La forma más fácil de acomodar datos es mediante listas. Por ejemplo: [1,4,7,4,5,9,3,8] las edades de un grupo de animales. Esta estructura de datos es la más sencilla, pero no la mejor siempre. Más adelante veremos algunos casos donde las listas no son la mejor opción. \n",
    "\n",
    "[17] En este ejercicio harás algunas de las operaciones básicas sobre estructuras de datos usando una estructura de lista: \n",
    "\n",
    "i) Haz un arreglo vacío. A este arreglo agrégale 1000 números aleatorios entre 0 y 100. Con esto tienes tu primera estructura de datos. \n",
    "\n",
    "ii) Obtén el mínimo y el máximo de tu arreglo. \n",
    "\n",
    "iii) Ordena los números en orden creciente y en orden decreciente. \n",
    "\n",
    "iv) Busca dentro de esos números si hay uno que sea 4.23331"
   ]
  },
  {
   "cell_type": "code",
   "execution_count": null,
   "metadata": {},
   "outputs": [],
   "source": []
  },
  {
   "cell_type": "markdown",
   "metadata": {},
   "source": [
    "[18] Ahora trabajaremos con pares ordenados. Digamos por ejemplo que tienes puntos en el plano. Una forma de estructurar estos datos es en listas de pares. \n",
    "\n",
    "i) Haz un arreglo vacío de puntos y agrega 1000 puntos aleatorios con coordenadas enteras que se encuentren dentro de un círculo de radio 50 y centrado en el origen. \n",
    "\n",
    "ii) Encuentra el punto que se encuentre más arriba. Si hay 2 que se encuentren a la misma altura (la máxima), selecciona el que se encuentre hasta la izquierda. También encuentra el punto de altura mínima y más a la derecha. \n",
    "\n",
    "iii) Ordena tu lista de puntos de forma acendente y decendente del más \"arriba\" (máximo) al más \"abajo\" (mínimo). \n",
    "\n",
    "iv) Busca si existe el par [12.4441,-3.1145679]"
   ]
  },
  {
   "cell_type": "code",
   "execution_count": null,
   "metadata": {},
   "outputs": [],
   "source": []
  },
  {
   "cell_type": "markdown",
   "metadata": {},
   "source": [
    "##### Arboles binarios: \n",
    "Además de las listas, otra estructura de datos muy común es el de árbol. Un árbol consiste de nodos e hijos (a veces llamados hojas). Se comienza con el nodo raiz, que es el equivalente al primer elemento de una lista. Cada nodo tiene un cierto número de hijos, en el caso de los árboles binarios ese número puede ser sólo 0, 1 o 2.  Los hijos puden ser de izquierda o de derecha. Para determinar si un hijo va a la izquierda o a la derecha se usa una regla previamente determinada. Por ejemplo a la izquierda van los números mayores, a la derecha los menores al nodo. \n",
    "\n",
    "[19] En este ejercicio obtendremos un árbol binario (no balanceado, quizá en el futuro veamos como balancear un árbol binario). Para esto usaremos listas de listas. Cada uno de los nodos estará compuesto por 3 elementos: el número (u objeto) y dos listas que contienen nodos izquierdos o derechos. \n",
    "\n",
    "i) Genera un número aleatorio entre 0 y 1000 y colócalo como nodo raiz, es decir, el número y dos listas vacías. \n",
    "\n",
    "ii) Haz una función para agregar nuevos nodos al árbol. Si el número que se quiere agregar es mayor que el nodo, se recorre el árbol hacia la izquierda, si es menor, a la derecha. Se coloca el nuevo nodo en el primer caso donde el hijo sea un conjunto vacío. Agrega 1000 valores aleatorios a tu árbol usando esta función. Asegúrate de que lo hace correctamente. \n",
    "\n",
    "iii) Haz una función que localice el máximo y otra que localice el mínimo. Aplícala a tu árbol. \n",
    "\n",
    "iv) Haz una función que genere una lista ordenada de los valores de tu árbol. \n",
    "\n",
    "v) Haz una función que busque elementos dentro de tu árbol y regrese una serie de índices (2 o 3), dependiendo si se tiene que recorrer el arbol a la izquierda (2) o a la derecha (3). "
   ]
  },
  {
   "cell_type": "code",
   "execution_count": null,
   "metadata": {},
   "outputs": [],
   "source": []
  },
  {
   "cell_type": "markdown",
   "metadata": {},
   "source": [
    "[20] Generaliza el inciso ii, iii, iv y v del ejercicio anterior para cualquier regla que se dé y aplícalo a una lista de puntos en el plano. Verifica que obtengas el mismo resultado que en el ejercicio 18.  "
   ]
  },
  {
   "cell_type": "markdown",
   "metadata": {},
   "source": [
    "# Análisis de complejidad\n",
    "\n",
    "[21] Utiliza LsqFit para ajustar una recta a un conjunto de datos aleatorios (al rededor de una recta que tú definas).  "
   ]
  },
  {
   "cell_type": "code",
   "execution_count": null,
   "metadata": {
    "collapsed": true
   },
   "outputs": [],
   "source": []
  },
  {
   "cell_type": "markdown",
   "metadata": {},
   "source": [
    "[22] Revisa la complejidad del algoritmo que Julia usa para invertir matrices de $n\\times n$."
   ]
  },
  {
   "cell_type": "code",
   "execution_count": null,
   "metadata": {},
   "outputs": [],
   "source": []
  },
  {
   "cell_type": "markdown",
   "metadata": {},
   "source": [
    "[23]  Haz, por medio de fuerza bruta, una función para encontrar el par de puntos más cercanos entre un conjunto de n puntos. Obtén la complejidad (numericamente) de tu función."
   ]
  },
  {
   "cell_type": "code",
   "execution_count": null,
   "metadata": {
    "collapsed": true
   },
   "outputs": [],
   "source": []
  },
  {
   "cell_type": "markdown",
   "metadata": {},
   "source": [
    "[24] Compara las complejidades de agregar n números aleatorios en una lista vacía y encontrar su máximo, su mínimo, o verificar si algún número en particular se encuentra en la lista, y agregar n números aleatorios a un árbol binario y encontrar su máximo su mínimo, o verificar si algún número en particular se encuentra en el árbol.  "
   ]
  },
  {
   "cell_type": "code",
   "execution_count": null,
   "metadata": {
    "collapsed": true
   },
   "outputs": [],
   "source": []
  },
  {
   "cell_type": "markdown",
   "metadata": {},
   "source": [
    "[25] Compara las complejidades de generar una lista ordenada de números a partir de una desordenada y apartir de un árbol.  "
   ]
  },
  {
   "cell_type": "code",
   "execution_count": null,
   "metadata": {},
   "outputs": [],
   "source": []
  }
 ],
 "metadata": {
  "kernelspec": {
   "display_name": "Julia 1.0.2",
   "language": "julia",
   "name": "julia-1.0"
  },
  "language_info": {
   "file_extension": ".jl",
   "mimetype": "application/julia",
   "name": "julia",
   "version": "1.0.2"
  },
  "nbTranslate": {
   "displayLangs": [
    "*"
   ],
   "hotkey": "alt-t",
   "langInMainMenu": true,
   "sourceLang": "en",
   "targetLang": "fr",
   "useGoogleTranslate": true
  },
  "toc": {
   "nav_menu": {},
   "number_sections": true,
   "sideBar": true,
   "skip_h1_title": false,
   "title_cell": "Table of Contents",
   "title_sidebar": "Contents",
   "toc_cell": false,
   "toc_position": {},
   "toc_section_display": true,
   "toc_window_display": false
  },
  "varInspector": {
   "cols": {
    "lenName": 16,
    "lenType": 16,
    "lenVar": 40
   },
   "kernels_config": {
    "python": {
     "delete_cmd_postfix": "",
     "delete_cmd_prefix": "del ",
     "library": "var_list.py",
     "varRefreshCmd": "print(var_dic_list())"
    },
    "r": {
     "delete_cmd_postfix": ") ",
     "delete_cmd_prefix": "rm(",
     "library": "var_list.r",
     "varRefreshCmd": "cat(var_dic_list()) "
    }
   },
   "types_to_exclude": [
    "module",
    "function",
    "builtin_function_or_method",
    "instance",
    "_Feature"
   ],
   "window_display": false
  }
 },
 "nbformat": 4,
 "nbformat_minor": 2
}
