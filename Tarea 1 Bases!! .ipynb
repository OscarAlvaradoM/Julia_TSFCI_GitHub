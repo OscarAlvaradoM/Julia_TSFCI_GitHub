{
 "cells": [
  {
   "cell_type": "markdown",
   "metadata": {},
   "source": [
    "Esta tarea está dividida en 3 partes: \n",
    "\n",
    "1. Uso básico de Julia. Operaciones básicas con escalares, vectores y matrices.\n",
    "- Gráficas con Plots. \n",
    "- Estimaciones de complejidad computacional. "
   ]
  },
  {
   "cell_type": "markdown",
   "metadata": {},
   "source": [
    "# Uso básico de Julia\n",
    "\n",
    "## Funciones\n",
    "\n",
    "[1] Usando la ley de radiación del cuerpo negro y datos experimentales, se llega a que para una temperatura dada, el espectro de energía como función de la frecuencia de luz radiada sigue la siguiente ecuación.\n",
    "\n",
    "$$ \\frac{\\nu^3}{e^{\\nu/3} - 1} = U(\\nu) $$\n",
    "\n",
    " Se mide una energía $U(\\nu) = 5$, ¿a qué frecuencia corresponde?  \n",
    " \n",
    "Cómo se trata de una ecuación trasendental, es casi siempre necesario utilizar métodos numéricos. Si conoces el método de Newton Raphson, aplícalo, si no lo conoces, sigue los siguientes pasos: \n",
    "\n",
    "i) Haz una función en JULIA para calcular $U(\\nu)-5$.\n",
    "\n",
    "ii) Calcula la derivada (de forma analítica) de la función y haz una función en JULIA que calcule $\\frac{d U}{d\\nu}(\\nu)$. (Puedes usar wolfram alpha)\n",
    "\n",
    "iii) Haz una función ($f(m, x_0, y_0)$) que calcule la intersección de una recta ($y(x) = m(x-x_0)+y_0$), y el eje $x$. \n",
    "\n",
    "iv) Haz una adivinanza inicia de qué valor debe de tener $\\nu$. Tu adivinanza ($\\nu_0$) y $U(\\nu_0)-5$ serán $x_0$ y $y_0$. La pendiente será $m= \\frac{d U}{d\\nu}(\\nu_0)$. Una segunda buena adivinanza sería $\\nu_1 = f(m, \\nu_0, U(\\nu_0))$. \n",
    "\n",
    "v) Haz una función que calcule de forma recursiva (utilizando el ciclo while) el valor de $\\nu_i$ utilizando la idea del inciso anterior. Para hacer el ciclo, mide qué tan lejano de $U(\\nu) = 0$ está tu valor de $\\nu_i$ en cada paso. Si la distancia es menor que una cierta tolerancia (por ejemplo $\\Delta = 0.00001$), el ciclo se detiene. No olvides poner un contador al hacer pruebas. Finalmente, obten el valor de $\\nu$.\n",
    "\n",
    "Acabas de utilizar el método de Newton Rapshon para calcular el valor de $\\nu$!\n"
   ]
  },
  {
   "cell_type": "code",
   "execution_count": 118,
   "metadata": {},
   "outputs": [
    {
     "data": {
      "image/png": "[encoded data removed]",
      "text/plain": [
       "Figure(PyObject <Figure size 640x480 with 1 Axes>)"
      ]
     },
     "metadata": {},
     "output_type": "display_data"
    },
    {
     "name": "stdout",
     "output_type": "stream",
     "text": [
      "Las raices del plonomio son"
     ]
    },
    {
     "data": {
      "text/plain": [
       "21-element Array{Float64,1}:\n",
       "  -1.1743756053978789\n",
       "  23.638842764715772 \n",
       "   1.4660116729265065\n",
       " NaN                 \n",
       " NaN                 \n",
       " NaN                 \n",
       " NaN                 \n",
       " NaN                 \n",
       " NaN                 \n",
       " NaN                 \n",
       " NaN                 \n",
       " NaN                 \n",
       " NaN                 \n",
       " NaN                 \n",
       " NaN                 \n",
       " NaN                 \n",
       " NaN                 \n",
       " NaN                 \n",
       " NaN                 \n",
       " NaN                 \n",
       " NaN                 "
      ]
     },
     "execution_count": 118,
     "metadata": {},
     "output_type": "execute_result"
    }
   ],
   "source": [
    "using PyPlot\n",
    "import PyPlot\n",
    "import Distributions: Uniform \n",
    "\n",
    "function NR(f,f′)\n",
    "    num_rand = 1000\n",
    "    A = rand(-20.0:20.0, num_rand, 1)\n",
    "    \n",
    "    C = [0.0]\n",
    "    interval = 1:num_rand\n",
    "    for i in interval\n",
    "        for j in 1:100\n",
    "            A[i] = A[i] - f(A[i])/f′(A[i])\n",
    "        end\n",
    "        contador = 0\n",
    "        for k in 1:length(C)\n",
    "            if round(A[i]) == round(C[k])  \n",
    "            contador += 1  \n",
    "            end\n",
    "           # @show A, A[i], C[k],C\n",
    "        end\n",
    "        if (contador < 1) && (A[i] != NaN)\n",
    "            push!(C,A[i])\n",
    "        end  \n",
    "    end\n",
    "    deleteat!(C,1)\n",
    "    print(\"Las raices del plonomio son\")\n",
    "    return C\n",
    "    \n",
    "end\n",
    "intervalo = -4:0.1:30\n",
    "plot(intervalo, f.(intervalo))\n",
    "plot(-5:30,zeros(36),c=\"black\")\n",
    "\n",
    "\n",
    "f(x) = (x^3)/(exp(x/3) - 1) - 5\n",
    "f′(x) = -((9 + exp(x/3)*(-9 + x))*x^2)/(3*(-1 + exp(x/3))^2)\n",
    "NR(f, f′)"
   ]
  },
  {
   "cell_type": "markdown",
   "metadata": {},
   "source": [
    "[2] Usa BigFloat para resolver la misma ecuación que la anterior, compara el resultado y el tiempo de cómputo (recomendamos usar BenchmarkTools con @btime)."
   ]
  },
  {
   "cell_type": "markdown",
   "metadata": {},
   "source": [
    "## Recordatorio de álgebra (geometría) vectorial\n",
    "\n",
    "[3]  En el curso, el uso de vectores será más que común. Por eso necesitas tener algo de práctica con ellos y debes saber calcular las cantidades básicas. \n",
    "\n",
    "    i) Calcula la distancia entre 2 vectores dados en 2D. \n",
    "    \n",
    "    ii) Calcula la proyección de un vector sobre el otro. \n",
    "    \n",
    "    iii) Calcula el área que forma el rombo producido por ambos vectores.\n",
    "    \n",
    "    iv) Calcula el vector ortonormal a ambos vectores (si lo hiciste bien, debes obtener (0,0,1) o bien (0,0,-1))."
   ]
  },
  {
   "cell_type": "code",
   "execution_count": 120,
   "metadata": {},
   "outputs": [],
   "source": [
    "using LinearAlgebra"
   ]
  },
  {
   "cell_type": "markdown",
   "metadata": {},
   "source": [
    "i) Calcula la distancia entre 2 vectores dados en 2D."
   ]
  },
  {
   "cell_type": "code",
   "execution_count": 128,
   "metadata": {},
   "outputs": [
    {
     "data": {
      "text/plain": [
       "0.7719122543782837"
      ]
     },
     "execution_count": 128,
     "metadata": {},
     "output_type": "execute_result"
    }
   ],
   "source": [
    "u = rand(2)\n",
    "v = rand(2)\n",
    "w = u .- v\n",
    "distancia = √dot(w,w)"
   ]
  },
  {
   "cell_type": "markdown",
   "metadata": {},
   "source": [
    "ii) Calcula la proyección de un vector sobre el otro."
   ]
  },
  {
   "cell_type": "code",
   "execution_count": 152,
   "metadata": {
    "scrolled": true
   },
   "outputs": [
    {
     "data": {
      "text/plain": [
       "2-element Array{Float64,1}:\n",
       " 3.0\n",
       " 0.0"
      ]
     },
     "execution_count": 152,
     "metadata": {},
     "output_type": "execute_result"
    }
   ],
   "source": [
    "v = [6,0]\n",
    "u = [3,0]\n",
    "proyeccion = (dot(u,v)/dot(v,v))*v\n"
   ]
  },
  {
   "cell_type": "markdown",
   "metadata": {},
   "source": [
    "iii) Calcula el área que forma el rombo producido por ambos vectores."
   ]
  },
  {
   "cell_type": "code",
   "execution_count": 155,
   "metadata": {},
   "outputs": [
    {
     "data": {
      "text/plain": [
       "0.08696463747817636"
      ]
     },
     "execution_count": 155,
     "metadata": {},
     "output_type": "execute_result"
    }
   ],
   "source": [
    "u_3d = rand(3)\n",
    "v_3d = rand(3)\n",
    "area = norm(u_3d×v_3d)"
   ]
  },
  {
   "cell_type": "markdown",
   "metadata": {},
   "source": [
    "iv) Calcula el vector ortonormal a ambos vectores (si lo hiciste bien, debes obtener (0,0,1) o bien (0,0,-1))."
   ]
  },
  {
   "cell_type": "code",
   "execution_count": 174,
   "metadata": {},
   "outputs": [
    {
     "data": {
      "text/plain": [
       "3-element Array{Float64,1}:\n",
       "  0.0\n",
       "  0.0\n",
       " -1.0"
      ]
     },
     "execution_count": 174,
     "metadata": {},
     "output_type": "execute_result"
    }
   ],
   "source": [
    "u = [rand(2);0.0]\n",
    "v = [rand(2);0.0]\n",
    "vector = u×v\n",
    "vector_ortonormal = vector/√dot(vector,vector)"
   ]
  },
  {
   "cell_type": "markdown",
   "metadata": {},
   "source": [
    "[4] Calcula la distancia entre un punto en el espacio y una recta. Para esto haz una función que tome como variables el vector $x_0$, el vector $x_1$ y el vector $v_1$. Estos valores representan el punto en el espacio, un punto por el que pasa la recta y el vector dirección de la recta. "
   ]
  },
  {
   "cell_type": "code",
   "execution_count": 163,
   "metadata": {},
   "outputs": [
    {
     "data": {
      "text/plain": [
       "1-element Array{Float64,1}:\n",
       " 0.2915992603565045"
      ]
     },
     "execution_count": 163,
     "metadata": {},
     "output_type": "execute_result"
    }
   ],
   "source": []
  },
  {
   "cell_type": "markdown",
   "metadata": {},
   "source": [
    "[5] Calcula la distancia entre dos rectas oblicuas, es decir, dos rectas en 3D, que no son paralelas, pero no se tocan en ningún momento. Haz para esto una función que tome como entradas uno de los puntos por los que pasa cada una de las rectas y sus vectores direccionales, y que regrese la distancia entre ambas rectas (la distancia se mide entre los puntos más cercanos entre ambas rectas). "
   ]
  },
  {
   "cell_type": "code",
   "execution_count": null,
   "metadata": {},
   "outputs": [],
   "source": []
  },
  {
   "cell_type": "code",
   "execution_count": null,
   "metadata": {},
   "outputs": [],
   "source": []
  },
  {
   "cell_type": "markdown",
   "metadata": {},
   "source": [
    "## Matrices\n",
    "\n",
    "Lo más básico es saber resolver sistemas de ecuaciones. \n",
    "\n",
    "[6] Resuelve el siguiente sistema de ecuaciones lineales numéricamente. \n",
    "\n",
    "$$ \n",
    "\\begin{array}{rcl} 3.5x_1-3x_2+5.2x_3-4.1x_4-3.6x_5 = \\sqrt{2} \\\\ \\sqrt{2}x_1+4x_2-x_3+4.4x_4-2.8x_5 = \\pi \\\\ x_1+2x_2+3x_3+4x_4+5x_5 = -1  \\\\ -3.3x_1-2.8x_2+x_3-1.9x_4+x_5 = 10.3  \\\\ 1.3x_1-1.3x_2+2.2x_3+4.4x_4+5.5x_5 = 7.9  \\end{array}\n",
    "$$"
   ]
  },
  {
   "cell_type": "code",
   "execution_count": null,
   "metadata": {},
   "outputs": [],
   "source": []
  },
  {
   "cell_type": "markdown",
   "metadata": {},
   "source": [
    "[7] El siguiente paso es entender qué significa un producto matricial geométricamente. Esto puede ser una rotación, una reflexión o un estiramiento. \n",
    "\n",
    "   i) Haz una función que genere una matriz de rotación para el caso 2D y el caso 3D (en este último caso necesitarás dar como argumentos 3 ángulos). \n",
    "   \n",
    "   ii) También haz una matriz que estire objetos una cantidad dada y en una dirección a legirse entre los N ejes posibles. "
   ]
  },
  {
   "cell_type": "code",
   "execution_count": null,
   "metadata": {},
   "outputs": [],
   "source": []
  },
  {
   "cell_type": "markdown",
   "metadata": {},
   "source": [
    "Otra posibilidad es que conozcas la matriz, que hace al mismo tiempo rotaciones y estiramientos, deformando un objeto dado y lo que quieras, es descomponer esta transformación en una rotación o reflexión (una transformación unitaria), luego un estiramiento a lo largo de los ejes (una matriz diagonal) y luego otra rotación (otra transformación unitaria). Para eso se usa lo que se conoce como descomposición de valores singulares (SVD). \n",
    "\n",
    "Cualquier matriz $M$ puede descomponerse en el producto de tres matrices $U$,$S$ y $V$, de tal forma que $M = USV$, con $U$ y $V$ matrices unitarias y $S$ una matriz rectangular. \n",
    "\n",
    "[8] Genera una matriz aleatoria de $100\\times100$. Obten su descomposicion en valores singulares: Usa svd, o svdfact"
   ]
  },
  {
   "cell_type": "code",
   "execution_count": null,
   "metadata": {},
   "outputs": [],
   "source": []
  },
  {
   "cell_type": "markdown",
   "metadata": {},
   "source": [
    "# Gráficas, animaciones y simulaciones en tiempo real: \n",
    "\n",
    "[9] Haz una gráfica de un círculo, primero generando los puntos de este y después utilizando plot para graficarlos."
   ]
  },
  {
   "cell_type": "code",
   "execution_count": null,
   "metadata": {
    "collapsed": true
   },
   "outputs": [],
   "source": []
  },
  {
   "cell_type": "markdown",
   "metadata": {},
   "source": [
    "[10] Genera una matriz aleatoria de $2\\times 2$, aplícala a los puntos generados en el inciso anterior y grafícalos. Después aplica SVD para obtener las matrices $U$, $S$ y $V$. Grafica como se ven los puntos si sólo aplicas la matriz $S$ y después prueba aplicar la matriz $S$ y alguna de las otras. "
   ]
  },
  {
   "cell_type": "code",
   "execution_count": null,
   "metadata": {
    "collapsed": true
   },
   "outputs": [],
   "source": []
  },
  {
   "cell_type": "markdown",
   "metadata": {},
   "source": [
    "[12] Ahora haz algun dibujo interesante (una carita, un animal, lo que sea) construyendo un arreglo (o varios) de puntos. Después aplica a tu(s) arreglo(s) la matriz aleatoria del inciso anterior y también las matrices $U$, $S$ y $V$. Juega un poco con esto. "
   ]
  },
  {
   "cell_type": "code",
   "execution_count": null,
   "metadata": {
    "collapsed": true
   },
   "outputs": [],
   "source": []
  },
  {
   "cell_type": "markdown",
   "metadata": {},
   "source": [
    "[12] Haz una animación de deformaciones a tu arreglo de puntos del inciso anterior. Rotalo, estiralo, reflejalo, variando los ángulos de rotación, los estiramientos en cada eje, etc... "
   ]
  },
  {
   "cell_type": "code",
   "execution_count": null,
   "metadata": {
    "collapsed": true
   },
   "outputs": [],
   "source": []
  },
  {
   "cell_type": "markdown",
   "metadata": {},
   "source": [
    "[13] Haz una gráfica de cualquier curva que quieras (sin, cos, exp, etc...) que tenga una parte positiva y otra negativa. Rellena con un color la parte positiva y con otro la parte negativa. "
   ]
  },
  {
   "cell_type": "code",
   "execution_count": null,
   "metadata": {
    "collapsed": true
   },
   "outputs": [],
   "source": []
  },
  {
   "cell_type": "markdown",
   "metadata": {},
   "source": [
    "[14] Haz un círculo, un hexágono, un pentágono y alguna otra figura (rara) y rellena su área. "
   ]
  },
  {
   "cell_type": "code",
   "execution_count": null,
   "metadata": {
    "collapsed": true
   },
   "outputs": [],
   "source": []
  },
  {
   "cell_type": "markdown",
   "metadata": {},
   "source": [
    "[15] Haz una función que dadas dos rectas en el plano (por ejemplo usando como argumentos vectores dirección y un punto por el que pasen) dibuje ambas rectas y el punto donde se intersectan si se intersectan, y un punto medio si son paralelas. "
   ]
  },
  {
   "cell_type": "code",
   "execution_count": null,
   "metadata": {
    "collapsed": true
   },
   "outputs": [],
   "source": []
  },
  {
   "cell_type": "markdown",
   "metadata": {},
   "source": [
    "[16] Haz una función que dadas dos rectas en el espacio (como argumentos tome puntos por los que pasan y vectores de dirección, por ejemplo) dibuje ambas rectas en el espacio y el segmento que las une por su distancia (este último dibujado en otro color). "
   ]
  },
  {
   "cell_type": "code",
   "execution_count": null,
   "metadata": {},
   "outputs": [],
   "source": []
  },
  {
   "cell_type": "markdown",
   "metadata": {},
   "source": [
    "# Estructuras de datos: \n",
    "\n",
    "Las estructuras de datos son las formas en las que se acomodan series de datos (nombres, años, colores, etc...). La forma más fácil de acomodar datos es mediante listas. Por ejemplo: [1,4,7,4,5,9,3,8] las edades de un grupo de animales. Esta estructura de datos es la más sencilla, pero no la mejor siempre. Más adelante veremos algunos casos donde las listas no son la mejor opción. \n",
    "\n",
    "[17] En este ejercicio harás algunas de las operaciones básicas sobre estructuras de datos usando una estructura de lista: \n",
    "\n",
    "i) Haz un arreglo vacío. A este arreglo agrégale 1000 números aleatorios entre 0 y 100. Con esto tienes tu primera estructura de datos. \n",
    "\n",
    "ii) Obtén el mínimo y el máximo de tu arreglo. \n",
    "\n",
    "iii) Ordena los números en orden creciente y en orden decreciente. \n",
    "\n",
    "iv) Busca dentro de esos números si hay uno que sea 4.23331"
   ]
  },
  {
   "cell_type": "code",
   "execution_count": null,
   "metadata": {},
   "outputs": [],
   "source": []
  },
  {
   "cell_type": "markdown",
   "metadata": {},
   "source": [
    "[18] Ahora trabajaremos con pares ordenados. Digamos por ejemplo que tienes puntos en el plano. Una forma de estructurar estos datos es en listas de pares. \n",
    "\n",
    "i) Haz un arreglo vacío de puntos y agrega 1000 puntos aleatorios con coordenadas enteras que se encuentren dentro de un círculo de radio 50 y centrado en el origen. \n",
    "\n",
    "ii) Encuentra el punto que se encuentre más arriba. Si hay 2 que se encuentren a la misma altura (la máxima), selecciona el que se encuentre hasta la izquierda. También encuentra el punto de altura mínima y más a la derecha. \n",
    "\n",
    "iii) Ordena tu lista de puntos de forma acendente y decendente del más \"arriba\" (máximo) al más \"abajo\" (mínimo). \n",
    "\n",
    "iv) Busca si existe el par [12.4441,-3.1145679]"
   ]
  },
  {
   "cell_type": "code",
   "execution_count": null,
   "metadata": {},
   "outputs": [],
   "source": []
  },
  {
   "cell_type": "markdown",
   "metadata": {},
   "source": [
    "##### Arboles binarios: \n",
    "Además de las listas, otra estructura de datos muy común es el de árbol. Un árbol consiste de nodos e hijos (a veces llamados hojas). Se comienza con el nodo raiz, que es el equivalente al primer elemento de una lista. Cada nodo tiene un cierto número de hijos, en el caso de los árboles binarios ese número puede ser sólo 0, 1 o 2.  Los hijos puden ser de izquierda o de derecha. Para determinar si un hijo va a la izquierda o a la derecha se usa una regla previamente determinada. Por ejemplo a la izquierda van los números mayores, a la derecha los menores al nodo. \n",
    "\n",
    "[19] En este ejercicio obtendremos un árbol binario (no balanceado, quizá en el futuro veamos como balancear un árbol binario). Para esto usaremos listas de listas. Cada uno de los nodos estará compuesto por 3 elementos: el número (u objeto) y dos listas que contienen nodos izquierdos o derechos. \n",
    "\n",
    "i) Genera un número aleatorio entre 0 y 1000 y colócalo como nodo raiz, es decir, el número y dos listas vacías. \n",
    "\n",
    "ii) Haz una función para agregar nuevos nodos al árbol. Si el número que se quiere agregar es mayor que el nodo, se recorre el árbol hacia la izquierda, si es menor, a la derecha. Se coloca el nuevo nodo en el primer caso donde el hijo sea un conjunto vacío. Agrega 1000 valores aleatorios a tu árbol usando esta función. Asegúrate de que lo hace correctamente. \n",
    "\n",
    "iii) Haz una función que localice el máximo y otra que localice el mínimo. Aplícala a tu árbol. \n",
    "\n",
    "iv) Haz una función que genere una lista ordenada de los valores de tu árbol. \n",
    "\n",
    "v) Haz una función que busque elementos dentro de tu árbol y regrese una serie de índices (2 o 3), dependiendo si se tiene que recorrer el arbol a la izquierda (2) o a la derecha (3). "
   ]
  },
  {
   "cell_type": "code",
   "execution_count": null,
   "metadata": {},
   "outputs": [],
   "source": []
  },
  {
   "cell_type": "markdown",
   "metadata": {},
   "source": [
    "[20] Generaliza el inciso ii, iii, iv y v del ejercicio anterior para cualquier regla que se dé y aplícalo a una lista de puntos en el plano. Verifica que obtengas el mismo resultado que en el ejercicio 18.  "
   ]
  },
  {
   "cell_type": "markdown",
   "metadata": {},
   "source": [
    "# Análisis de complejidad\n",
    "\n",
    "[21] Utiliza LsqFit para ajustar una recta a un conjunto de datos aleatorios (al rededor de una recta que tú definas).  "
   ]
  },
  {
   "cell_type": "code",
   "execution_count": null,
   "metadata": {
    "collapsed": true
   },
   "outputs": [],
   "source": []
  },
  {
   "cell_type": "markdown",
   "metadata": {},
   "source": [
    "[22] Revisa la complejidad del algoritmo que Julia usa para invertir matrices de $n\\times n$."
   ]
  },
  {
   "cell_type": "code",
   "execution_count": null,
   "metadata": {},
   "outputs": [],
   "source": []
  },
  {
   "cell_type": "markdown",
   "metadata": {},
   "source": [
    "[23]  Haz, por medio de fuerza bruta, una función para encontrar el par de puntos más cercanos entre un conjunto de n puntos. Obtén la complejidad (numericamente) de tu función."
   ]
  },
  {
   "cell_type": "code",
   "execution_count": null,
   "metadata": {
    "collapsed": true
   },
   "outputs": [],
   "source": []
  },
  {
   "cell_type": "markdown",
   "metadata": {},
   "source": [
    "[24] Compara las complejidades de agregar n números aleatorios en una lista vacía y encontrar su máximo, su mínimo, o verificar si algún número en particular se encuentra en la lista, y agregar n números aleatorios a un árbol binario y encontrar su máximo su mínimo, o verificar si algún número en particular se encuentra en el árbol.  "
   ]
  },
  {
   "cell_type": "code",
   "execution_count": null,
   "metadata": {
    "collapsed": true
   },
   "outputs": [],
   "source": []
  },
  {
   "cell_type": "markdown",
   "metadata": {},
   "source": [
    "[25] Compara las complejidades de generar una lista ordenada de números a partir de una desordenada y apartir de un árbol.  "
   ]
  },
  {
   "cell_type": "code",
   "execution_count": null,
   "metadata": {},
   "outputs": [],
   "source": []
  }
 ],
 "metadata": {
  "kernelspec": {
   "display_name": "Julia 1.0.2",
   "language": "julia",
   "name": "julia-1.0"
  },
  "language_info": {
   "file_extension": ".jl",
   "mimetype": "application/julia",
   "name": "julia",
   "version": "1.0.2"
  },
  "nbTranslate": {
   "displayLangs": [
    "*"
   ],
   "hotkey": "alt-t",
   "langInMainMenu": true,
   "sourceLang": "en",
   "targetLang": "fr",
   "useGoogleTranslate": true
  },
  "toc": {
   "nav_menu": {},
   "number_sections": true,
   "sideBar": true,
   "skip_h1_title": false,
   "title_cell": "Table of Contents",
   "title_sidebar": "Contents",
   "toc_cell": false,
   "toc_position": {},
   "toc_section_display": true,
   "toc_window_display": false
  },
  "varInspector": {
   "cols": {
    "lenName": 16,
    "lenType": 16,
    "lenVar": 40
   },
   "kernels_config": {
    "python": {
     "delete_cmd_postfix": "",
     "delete_cmd_prefix": "del ",
     "library": "var_list.py",
     "varRefreshCmd": "print(var_dic_list())"
    },
    "r": {
     "delete_cmd_postfix": ") ",
     "delete_cmd_prefix": "rm(",
     "library": "var_list.r",
     "varRefreshCmd": "cat(var_dic_list()) "
    }
   },
   "types_to_exclude": [
    "module",
    "function",
    "builtin_function_or_method",
    "instance",
    "_Feature"
   ],
   "window_display": false
  }
 },
 "nbformat": 4,
 "nbformat_minor": 2
}
