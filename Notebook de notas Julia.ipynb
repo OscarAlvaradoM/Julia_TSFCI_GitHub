{
 "cells": [
  {
   "cell_type": "markdown",
   "metadata": {},
   "source": [
    "# Cosas importantes por recordar"
   ]
  },
  {
   "cell_type": "markdown",
   "metadata": {},
   "source": [
    "Configurar presición de big float:"
   ]
  },
  {
   "cell_type": "code",
   "execution_count": 65,
   "metadata": {},
   "outputs": [
    {
     "data": {
      "text/plain": [
       "1.34300000000000000000000000000000000000000000000000000000000000000000000000000000000000030000000000000000000000000000000000000000000000000000000000000000000000000000000000000000000000000000000000000000000000000000000000000000000000000000000000000000000000000000000000000000000000000000000000000000000009"
      ]
     },
     "execution_count": 65,
     "metadata": {},
     "output_type": "execute_result"
    }
   ],
   "source": [
    "setprecision(BigFloat, 1000)\n",
    "BigFloat(\"1.3430000000000000000000000000000000000000000000000000000000000000000000000000000000000003\")"
   ]
  },
  {
   "cell_type": "markdown",
   "metadata": {},
   "source": [
    "## Vectores y matrices"
   ]
  },
  {
   "cell_type": "markdown",
   "metadata": {},
   "source": [
    "Hay tres formas de crear vectores:"
   ]
  },
  {
   "cell_type": "code",
   "execution_count": 66,
   "metadata": {},
   "outputs": [
    {
     "data": {
      "text/plain": [
       "5-element Array{Int64,1}:\n",
       " 1\n",
       " 2\n",
       " 3\n",
       " 4\n",
       " 5"
      ]
     },
     "execution_count": 66,
     "metadata": {},
     "output_type": "execute_result"
    }
   ],
   "source": [
    "v = collect(1:5)"
   ]
  },
  {
   "cell_type": "code",
   "execution_count": 67,
   "metadata": {},
   "outputs": [
    {
     "data": {
      "text/plain": [
       "5-element Array{Int64,1}:\n",
       " 1\n",
       " 2\n",
       " 3\n",
       " 4\n",
       " 5"
      ]
     },
     "execution_count": 67,
     "metadata": {},
     "output_type": "execute_result"
    }
   ],
   "source": [
    "w = [1,2,3,4,5]"
   ]
  },
  {
   "cell_type": "code",
   "execution_count": 68,
   "metadata": {},
   "outputs": [
    {
     "data": {
      "text/plain": [
       "1×5 Array{Int64,2}:\n",
       " 1  2  3  4  5"
      ]
     },
     "execution_count": 68,
     "metadata": {},
     "output_type": "execute_result"
    }
   ],
   "source": [
    "u = [1 2 3 4 5]"
   ]
  },
  {
   "cell_type": "markdown",
   "metadata": {},
   "source": [
    "## Cómo funciona el push! y el append! para hacer crecer vectores"
   ]
  },
  {
   "cell_type": "code",
   "execution_count": 69,
   "metadata": {
    "scrolled": true
   },
   "outputs": [
    {
     "name": "stdout",
     "output_type": "stream",
     "text": [
      "search: \u001b[0m\u001b[1mp\u001b[22m\u001b[0m\u001b[1mu\u001b[22m\u001b[0m\u001b[1ms\u001b[22m\u001b[0m\u001b[1mh\u001b[22m\u001b[0m\u001b[1m!\u001b[22m \u001b[0m\u001b[1mp\u001b[22m\u001b[0m\u001b[1mu\u001b[22m\u001b[0m\u001b[1ms\u001b[22m\u001b[0m\u001b[1mh\u001b[22mfirst\u001b[0m\u001b[1m!\u001b[22m \u001b[0m\u001b[1mp\u001b[22m\u001b[0m\u001b[1mu\u001b[22m\u001b[0m\u001b[1ms\u001b[22m\u001b[0m\u001b[1mh\u001b[22mdisplay\n",
      "\n"
     ]
    },
    {
     "data": {
      "text/markdown": [
       "```\n",
       "push!(collection, items...) -> collection\n",
       "```\n",
       "\n",
       "Insert one or more `items` at the end of `collection`.\n",
       "\n",
       "# Examples\n",
       "\n",
       "```jldoctest\n",
       "julia> push!([1, 2, 3], 4, 5, 6)\n",
       "6-element Array{Int64,1}:\n",
       " 1\n",
       " 2\n",
       " 3\n",
       " 4\n",
       " 5\n",
       " 6\n",
       "```\n",
       "\n",
       "Use [`append!`](@ref) to add all the elements of another collection to `collection`. The result of the preceding example is equivalent to `append!([1, 2, 3], [4, 5, 6])`.\n",
       "\n",
       "---\n",
       "\n",
       "```\n",
       "push!(sc, k=>v)\n",
       "```\n",
       "\n",
       "Argument `sc` is a SortedDict or SortedMultiDict and `k=>v` is a key-value pair. This inserts the key-value pair into the container. If the key is already present, this overwrites the old value. The return value is `sc`. Time: O(*c* log *n*)\n",
       "\n",
       "---\n",
       "\n",
       "```\n",
       "push!(sc, k=>v)\n",
       "```\n",
       "\n",
       "Argument `sc` is a SortedDict or SortedMultiDict and `k=>v` is a key-value pair. This inserts the key-value pair into the container. If the key is already present, this overwrites the old value. The return value is `sc`. Time: O(*c* log *n*)\n",
       "\n",
       "---\n",
       "\n",
       "```\n",
       "push!(sc, k)\n",
       "```\n",
       "\n",
       "Argument `sc` is a SortedSet and `k` is a key. This inserts the key into the container. If the key is already present, this overwrites the old value. (This is not necessarily a no-op; see below for remarks about the customizing the sort order.) The return value is `sc`. Time: O(*c* log *n*)\n",
       "\n",
       "---\n",
       "\n",
       "```\n",
       "push!(cb)\n",
       "```\n",
       "\n",
       "Add an element to the back and overwrite front if full.\n"
      ],
      "text/plain": [
       "\u001b[36m  push!(collection, items...) -> collection\u001b[39m\n",
       "\n",
       "  Insert one or more \u001b[36mitems\u001b[39m at the end of \u001b[36mcollection\u001b[39m.\n",
       "\n",
       "\u001b[1m  Examples\u001b[22m\n",
       "\u001b[1m  ≡≡≡≡≡≡≡≡≡≡\u001b[22m\n",
       "\n",
       "\u001b[36m  julia> push!([1, 2, 3], 4, 5, 6)\u001b[39m\n",
       "\u001b[36m  6-element Array{Int64,1}:\u001b[39m\n",
       "\u001b[36m   1\u001b[39m\n",
       "\u001b[36m   2\u001b[39m\n",
       "\u001b[36m   3\u001b[39m\n",
       "\u001b[36m   4\u001b[39m\n",
       "\u001b[36m   5\u001b[39m\n",
       "\u001b[36m   6\u001b[39m\n",
       "\n",
       "  Use \u001b[36mappend!\u001b[39m to add all the elements of another collection to \u001b[36mcollection\u001b[39m. The\n",
       "  result of the preceding example is equivalent to \u001b[36mappend!([1, 2, 3], [4, 5,\n",
       "  6])\u001b[39m.\n",
       "\n",
       "  ────────────────────────────────────────────────────────────────────────────\n",
       "\n",
       "\u001b[36m  push!(sc, k=>v)\u001b[39m\n",
       "\n",
       "  Argument \u001b[36msc\u001b[39m is a SortedDict or SortedMultiDict and \u001b[36mk=>v\u001b[39m is a key-value pair.\n",
       "  This inserts the key-value pair into the container. If the key is already\n",
       "  present, this overwrites the old value. The return value is \u001b[36msc\u001b[39m. Time: O(\u001b[4mc\u001b[24m\n",
       "  log \u001b[4mn\u001b[24m)\n",
       "\n",
       "  ────────────────────────────────────────────────────────────────────────────\n",
       "\n",
       "\u001b[36m  push!(sc, k=>v)\u001b[39m\n",
       "\n",
       "  Argument \u001b[36msc\u001b[39m is a SortedDict or SortedMultiDict and \u001b[36mk=>v\u001b[39m is a key-value pair.\n",
       "  This inserts the key-value pair into the container. If the key is already\n",
       "  present, this overwrites the old value. The return value is \u001b[36msc\u001b[39m. Time: O(\u001b[4mc\u001b[24m\n",
       "  log \u001b[4mn\u001b[24m)\n",
       "\n",
       "  ────────────────────────────────────────────────────────────────────────────\n",
       "\n",
       "\u001b[36m  push!(sc, k)\u001b[39m\n",
       "\n",
       "  Argument \u001b[36msc\u001b[39m is a SortedSet and \u001b[36mk\u001b[39m is a key. This inserts the key into the\n",
       "  container. If the key is already present, this overwrites the old value.\n",
       "  (This is not necessarily a no-op; see below for remarks about the\n",
       "  customizing the sort order.) The return value is \u001b[36msc\u001b[39m. Time: O(\u001b[4mc\u001b[24m log \u001b[4mn\u001b[24m)\n",
       "\n",
       "  ────────────────────────────────────────────────────────────────────────────\n",
       "\n",
       "\u001b[36m  push!(cb)\u001b[39m\n",
       "\n",
       "  Add an element to the back and overwrite front if full."
      ]
     },
     "execution_count": 69,
     "metadata": {},
     "output_type": "execute_result"
    }
   ],
   "source": [
    "?push!"
   ]
  },
  {
   "cell_type": "code",
   "execution_count": 70,
   "metadata": {
    "scrolled": true
   },
   "outputs": [
    {
     "data": {
      "text/plain": [
       "8-element Array{Int64,1}:\n",
       " 1\n",
       " 2\n",
       " 3\n",
       " 4\n",
       " 5\n",
       " 6\n",
       " 7\n",
       " 8"
      ]
     },
     "execution_count": 70,
     "metadata": {},
     "output_type": "execute_result"
    }
   ],
   "source": [
    "push!(w,6,7,8)"
   ]
  },
  {
   "cell_type": "code",
   "execution_count": 71,
   "metadata": {},
   "outputs": [
    {
     "data": {
      "text/plain": [
       "13-element Array{Int64,1}:\n",
       " 1\n",
       " 2\n",
       " 3\n",
       " 4\n",
       " 5\n",
       " 6\n",
       " 7\n",
       " 8\n",
       " 1\n",
       " 2\n",
       " 3\n",
       " 4\n",
       " 5"
      ]
     },
     "execution_count": 71,
     "metadata": {},
     "output_type": "execute_result"
    }
   ],
   "source": [
    "append!(w,v)"
   ]
  },
  {
   "cell_type": "markdown",
   "metadata": {},
   "source": [
    "También se pueden hacer matrices haciendo listas horizontales de listas verticales:"
   ]
  },
  {
   "cell_type": "code",
   "execution_count": 72,
   "metadata": {},
   "outputs": [
    {
     "data": {
      "text/plain": [
       "5×5 Array{Int64,2}:\n",
       "  3   2   4  1   5\n",
       "  6   4   8  2  10\n",
       "  9   6  12  3  15\n",
       " 12   8  16  4  20\n",
       " 15  10  20  5  25"
      ]
     },
     "execution_count": 72,
     "metadata": {},
     "output_type": "execute_result"
    }
   ],
   "source": [
    "A = [3v 2v 4v 1v 5v]"
   ]
  },
  {
   "cell_type": "markdown",
   "metadata": {},
   "source": [
    "Ubicar elementos de la matriz:"
   ]
  },
  {
   "cell_type": "code",
   "execution_count": 73,
   "metadata": {},
   "outputs": [
    {
     "data": {
      "text/plain": [
       "3"
      ]
     },
     "execution_count": 73,
     "metadata": {},
     "output_type": "execute_result"
    }
   ],
   "source": [
    "A[3,4]"
   ]
  },
  {
   "cell_type": "markdown",
   "metadata": {},
   "source": [
    "Sin embargo, no se pueden hacer matrices de listas verticales de listas horizontales"
   ]
  },
  {
   "cell_type": "code",
   "execution_count": 74,
   "metadata": {},
   "outputs": [
    {
     "data": {
      "text/plain": [
       "5-element Array{Array{Int64,2},1}:\n",
       " [3 6 … 12 15] \n",
       " [2 4 … 8 10]  \n",
       " [4 8 … 16 20] \n",
       " [1 2 … 4 5]   \n",
       " [5 10 … 20 25]"
      ]
     },
     "execution_count": 74,
     "metadata": {},
     "output_type": "execute_result"
    }
   ],
   "source": [
    "B = [3u, 2u, 4u,u,5u]"
   ]
  },
  {
   "cell_type": "markdown",
   "metadata": {},
   "source": [
    "Para acceder a un elemento de una lista, vasta nombrar la lista, abrir un corchete y poner el índice de elemento que se quiere acceder"
   ]
  },
  {
   "cell_type": "code",
   "execution_count": 75,
   "metadata": {},
   "outputs": [
    {
     "data": {
      "text/plain": [
       "12"
      ]
     },
     "execution_count": 75,
     "metadata": {},
     "output_type": "execute_result"
    }
   ],
   "source": [
    "B[1][4]"
   ]
  },
  {
   "cell_type": "markdown",
   "metadata": {},
   "source": [
    "Método cool para obtener todos los elementos de una columna o un reenglón"
   ]
  },
  {
   "cell_type": "code",
   "execution_count": 76,
   "metadata": {},
   "outputs": [
    {
     "data": {
      "text/plain": [
       "5-element Array{Int64,1}:\n",
       "  9\n",
       "  6\n",
       " 12\n",
       "  3\n",
       " 15"
      ]
     },
     "execution_count": 76,
     "metadata": {},
     "output_type": "execute_result"
    }
   ],
   "source": [
    "A[3,:]"
   ]
  },
  {
   "cell_type": "markdown",
   "metadata": {},
   "source": [
    "## Operaciones"
   ]
  },
  {
   "cell_type": "markdown",
   "metadata": {},
   "source": [
    "Es importante esta parte, ya que nos indica cómo utilizar y diferenciar el producto punto y el producto entrada a entrada"
   ]
  },
  {
   "cell_type": "code",
   "execution_count": 77,
   "metadata": {},
   "outputs": [
    {
     "data": {
      "text/plain": [
       "(14.588899999999999, [-13.599, -9.056, 10.2], 6.434974747425199, [-2.4, 9.9, 7.0889], [8.0, 27.0, 151.419], 25)"
      ]
     },
     "execution_count": 77,
     "metadata": {},
     "output_type": "execute_result"
    }
   ],
   "source": [
    "using LinearAlgebra\n",
    "a = [2,3,5.33] \n",
    "b = [-1.2,3.3,1.33]\n",
    "a⋅b, a×b, norm(a), a.*b, a.^3, length(A)"
   ]
  },
  {
   "cell_type": "markdown",
   "metadata": {},
   "source": [
    "Notemos que tanto el producto \"*\", como la potencia \"^\", para el caso de listas, se requiere usar un punto antes de la operación. Esto significa que se aplicará esa operación a todos los elementos de la lista. Esto es general: \n"
   ]
  },
  {
   "cell_type": "code",
   "execution_count": 78,
   "metadata": {},
   "outputs": [
    {
     "data": {
      "text/plain": [
       "3-element Array{Float64,1}:\n",
       "  0.9092974268256817\n",
       "  0.1411200080598672\n",
       " -0.8152642144499634"
      ]
     },
     "execution_count": 78,
     "metadata": {},
     "output_type": "execute_result"
    }
   ],
   "source": [
    "sin.(a)"
   ]
  },
  {
   "cell_type": "code",
   "execution_count": 79,
   "metadata": {},
   "outputs": [
    {
     "data": {
      "text/plain": [
       "([2.43641, 1.34604, 1.75113], [0.668673 0.64436 1.05784; 0.745666 0.750955 0.754571; 0.748087 0.806773 1.03905], [-2.87595 -0.856895 3.9748; 2.74073 -0.413507 -1.61092; 0.537439 1.46484 -1.11422], [0.411471 0.319201 0.618117; 0.71013 0.155841 0.547407; 0.441163 0.913387 0.51611], (3, 3))"
      ]
     },
     "execution_count": 79,
     "metadata": {},
     "output_type": "execute_result"
    }
   ],
   "source": [
    "A = rand(3,3)\n",
    "A*b, A*A, inv(A), transpose(A), size(A)"
   ]
  },
  {
   "cell_type": "markdown",
   "metadata": {},
   "source": [
    "## Existen algunas otras operaciones sobre listas que no son matemáticas, como agregar un elemento a una lista o quitarlo: "
   ]
  },
  {
   "cell_type": "code",
   "execution_count": 80,
   "metadata": {},
   "outputs": [
    {
     "data": {
      "text/plain": [
       "4-element Array{Float64,1}:\n",
       " 2.0 \n",
       " 3.0 \n",
       " 5.33\n",
       " 6.0 "
      ]
     },
     "execution_count": 80,
     "metadata": {},
     "output_type": "execute_result"
    }
   ],
   "source": [
    "push!(a,6)\n",
    "a"
   ]
  },
  {
   "cell_type": "code",
   "execution_count": 81,
   "metadata": {},
   "outputs": [
    {
     "data": {
      "text/plain": [
       "3-element Array{Float64,1}:\n",
       " 2.0 \n",
       " 3.0 \n",
       " 5.33"
      ]
     },
     "execution_count": 81,
     "metadata": {},
     "output_type": "execute_result"
    }
   ],
   "source": [
    "pop!(a)\n",
    "a"
   ]
  },
  {
   "cell_type": "code",
   "execution_count": 82,
   "metadata": {},
   "outputs": [
    {
     "data": {
      "text/plain": [
       "4-element Array{Float64,1}:\n",
       "  2.0 \n",
       "  3.0 \n",
       " 20.0 \n",
       "  5.33"
      ]
     },
     "execution_count": 82,
     "metadata": {},
     "output_type": "execute_result"
    }
   ],
   "source": [
    "insert!(a,3,20.)\n",
    "a"
   ]
  },
  {
   "cell_type": "code",
   "execution_count": 83,
   "metadata": {},
   "outputs": [
    {
     "data": {
      "text/plain": [
       "3-element Array{Float64,1}:\n",
       "  2.0 \n",
       " 20.0 \n",
       "  5.33"
      ]
     },
     "execution_count": 83,
     "metadata": {},
     "output_type": "execute_result"
    }
   ],
   "source": [
    "deleteat!(a,2)"
   ]
  },
  {
   "cell_type": "markdown",
   "metadata": {},
   "source": [
    "Observemos que en todas estas operaciones (funciones) tenemos que terminan con un signo de interrogación, esto provoca que se reescriba la variable con la que estamos trabajando"
   ]
  },
  {
   "cell_type": "markdown",
   "metadata": {},
   "source": [
    "## Para incertar variables dentro de un texto se puede usar el símbolo $: "
   ]
  },
  {
   "cell_type": "code",
   "execution_count": 84,
   "metadata": {},
   "outputs": [
    {
     "data": {
      "text/plain": [
       "\"hola Bee, cómo te va?\""
      ]
     },
     "execution_count": 84,
     "metadata": {},
     "output_type": "execute_result"
    }
   ],
   "source": [
    "nombre = \"Bee\"\n",
    "a = \"hola $(nombre), cómo te va?\""
   ]
  },
  {
   "cell_type": "markdown",
   "metadata": {},
   "source": [
    "## Una forma de definir conjuntos:"
   ]
  },
  {
   "cell_type": "code",
   "execution_count": 85,
   "metadata": {},
   "outputs": [
    {
     "data": {
      "text/plain": [
       "51-element Array{Float64,1}:\n",
       " 0.79              \n",
       " 0.7861            \n",
       " 0.7824            \n",
       " 0.7788999999999999\n",
       " 0.7756000000000001\n",
       " 0.7725            \n",
       " 0.7696000000000001\n",
       " 0.7669            \n",
       " 0.7644            \n",
       " 0.7621            \n",
       " 0.76              \n",
       " 0.7581            \n",
       " 0.7564            \n",
       " ⋮                 \n",
       " 0.7861            \n",
       " 0.79              \n",
       " 0.7941            \n",
       " 0.7984            \n",
       " 0.8029            \n",
       " 0.8076            \n",
       " 0.8125            \n",
       " 0.8176            \n",
       " 0.8229            \n",
       " 0.8284            \n",
       " 0.8341000000000001\n",
       " 0.8400000000000001"
      ]
     },
     "execution_count": 85,
     "metadata": {},
     "output_type": "execute_result"
    }
   ],
   "source": [
    "X = [x^2-x+1 for x in 0.3:0.01:.8]"
   ]
  },
  {
   "cell_type": "markdown",
   "metadata": {},
   "source": [
    "# Funciones"
   ]
  },
  {
   "cell_type": "markdown",
   "metadata": {},
   "source": [
    "En general podemos definir funciones como lo hacemos en cálculo, poniendo el nombre de la función, seguido de paréntecis que dentro tienen los argumentos que se evaluarán, después un signo de igual y seguido de eso las instrucciones sobre cómo operar la función. Por ejemplo:"
   ]
  },
  {
   "cell_type": "code",
   "execution_count": 86,
   "metadata": {},
   "outputs": [
    {
     "data": {
      "text/plain": [
       "12.566370614359172"
      ]
     },
     "execution_count": 86,
     "metadata": {},
     "output_type": "execute_result"
    }
   ],
   "source": [
    "Area_circulo(r) = π*r^2\n",
    "Area_circulo(2)"
   ]
  },
  {
   "cell_type": "markdown",
   "metadata": {},
   "source": [
    "Sin embargo, hay algunas funciones lo suficientemente complejas que utilizan condicionales y ciclos para definirse. Estas funciones se pueden definir utilizando la palabra function:"
   ]
  },
  {
   "cell_type": "code",
   "execution_count": 87,
   "metadata": {},
   "outputs": [
    {
     "data": {
      "text/plain": [
       "\"buenas noches, Ata, ¿cómo te va?\""
      ]
     },
     "execution_count": 87,
     "metadata": {},
     "output_type": "execute_result"
    }
   ],
   "source": [
    "function Saludo(nombre, hora)\n",
    "    a = :string\n",
    "    if hora<12\n",
    "        a = \"buenos días, $(nombre), ¿cómo te va?\"\n",
    "    elseif 12<=hora<18\n",
    "        a = \"buenas tardes, $(nombre), ¿cómo te va?\"\n",
    "        return \"estoy ocupado\"\n",
    "    else\n",
    "        a = \"buenas noches, $(nombre), ¿cómo te va?\"\n",
    "    end\n",
    "    for i in 1:2\n",
    "        \n",
    "    end\n",
    "    a\n",
    "end\n",
    "\n",
    "Saludo(\"Ata\",36)"
   ]
  },
  {
   "cell_type": "code",
   "execution_count": 88,
   "metadata": {},
   "outputs": [
    {
     "data": {
      "text/plain": [
       "1.4142156862745097"
      ]
     },
     "execution_count": 88,
     "metadata": {},
     "output_type": "execute_result"
    }
   ],
   "source": [
    "function BabylonianRoot(y :: Real)\n",
    "    x = 2\n",
    "    for i in 1:3\n",
    "        x = 0.5(x+y/x)\n",
    "    end\n",
    "    return x\n",
    "end\n",
    "\n",
    "BabylonianRoot(2)\n",
    "    "
   ]
  },
  {
   "cell_type": "markdown",
   "metadata": {},
   "source": [
    "## Graficando con PyPlot"
   ]
  },
  {
   "cell_type": "code",
   "execution_count": 89,
   "metadata": {},
   "outputs": [
    {
     "data": {
      "text/plain": [
       "10-element Array{Float64,1}:\n",
       " 0.7247790879474034 \n",
       " 0.1374449281738115 \n",
       " 0.7572342775045147 \n",
       " 0.8264530097496876 \n",
       " 0.4677616251486354 \n",
       " 0.13920701327694407\n",
       " 0.42678748910060404\n",
       " 0.980548026010972  \n",
       " 0.44964712241713856\n",
       " 0.11507921432426538"
      ]
     },
     "execution_count": 89,
     "metadata": {},
     "output_type": "execute_result"
    }
   ],
   "source": [
    "xx = rand(10)\n",
    "yy = rand(10)"
   ]
  },
  {
   "cell_type": "code",
   "execution_count": 90,
   "metadata": {
    "scrolled": false
   },
   "outputs": [
    {
     "ename": "ErrorException",
     "evalue": "No user recipe defined for String",
     "output_type": "error",
     "traceback": [
      "No user recipe defined for String",
      "",
      "Stacktrace:",
      " [1] error(::String) at ./error.jl:33",
      " [2] convertToAnyVector(::String, ::Dict{Symbol,Any}) at /home/oscar/.julia/packages/Plots/UQI78/src/series.jl:14",
      " [3] macro expansion at /home/oscar/.julia/packages/Plots/UQI78/src/series.jl:140 [inlined]",
      " [4] apply_recipe(::Dict{Symbol,Any}, ::Type{Plots.SliceIt}, ::Array{Float64,1}, ::Array{Float64,1}, ::String) at /home/oscar/.julia/packages/RecipesBase/Uz5AO/src/RecipesBase.jl:275",
      " [5] _process_userrecipes(::Plots.Plot{Plots.PyPlotBackend}, ::Dict{Symbol,Any}, ::Tuple{Array{Float64,1},Array{Float64,1},String}) at /home/oscar/.julia/packages/Plots/UQI78/src/pipeline.jl:83",
      " [6] macro expansion at ./logging.jl:305 [inlined]",
      " [7] _plot!(::Plots.Plot{Plots.PyPlotBackend}, ::Dict{Symbol,Any}, ::Tuple{Array{Float64,1},Array{Float64,1},String}) at /home/oscar/.julia/packages/Plots/UQI78/src/plot.jl:171",
      " [8] #plot#136(::Base.Iterators.Pairs{Union{},Union{},Tuple{},NamedTuple{(),Tuple{}}}, ::Function, ::Array{Float64,1}, ::Vararg{Any,N} where N) at /home/oscar/.julia/packages/Plots/UQI78/src/plot.jl:57",
      " [9] plot(::Array{Float64,1}, ::Array{Float64,1}, ::Vararg{Any,N} where N) at /home/oscar/.julia/packages/Plots/UQI78/src/plot.jl:51",
      " [10] top-level scope at In[90]:5"
     ]
    }
   ],
   "source": [
    "using PyPlot\n",
    "import PyPlot\n",
    "\n",
    "plot(xx, yy)\n",
    "plot(xx, yy, \"o\")\n",
    "plot(xx)\n"
   ]
  },
  {
   "cell_type": "code",
   "execution_count": 91,
   "metadata": {},
   "outputs": [
    {
     "ename": "ErrorException",
     "evalue": "No user recipe defined for String",
     "output_type": "error",
     "traceback": [
      "No user recipe defined for String",
      "",
      "Stacktrace:",
      " [1] error(::String) at ./error.jl:33",
      " [2] convertToAnyVector(::String, ::Dict{Symbol,Any}) at /home/oscar/.julia/packages/Plots/UQI78/src/series.jl:14",
      " [3] macro expansion at /home/oscar/.julia/packages/Plots/UQI78/src/series.jl:140 [inlined]",
      " [4] apply_recipe(::Dict{Symbol,Any}, ::Type{Plots.SliceIt}, ::StepRangeLen{Float64,Base.TwicePrecision{Float64},Base.TwicePrecision{Float64}}, ::Array{Float64,1}, ::String) at /home/oscar/.julia/packages/RecipesBase/Uz5AO/src/RecipesBase.jl:275",
      " [5] _process_userrecipes(::Plots.Plot{Plots.PyPlotBackend}, ::Dict{Symbol,Any}, ::Tuple{StepRangeLen{Float64,Base.TwicePrecision{Float64},Base.TwicePrecision{Float64}},Array{Float64,1},String}) at /home/oscar/.julia/packages/Plots/UQI78/src/pipeline.jl:83",
      " [6] macro expansion at ./logging.jl:305 [inlined]",
      " [7] _plot!(::Plots.Plot{Plots.PyPlotBackend}, ::Dict{Symbol,Any}, ::Tuple{StepRangeLen{Float64,Base.TwicePrecision{Float64},Base.TwicePrecision{Float64}},Array{Float64,1},String}) at /home/oscar/.julia/packages/Plots/UQI78/src/plot.jl:171",
      " [8] #plot#136(::Base.Iterators.Pairs{Union{},Union{},Tuple{},NamedTuple{(),Tuple{}}}, ::Function, ::StepRangeLen{Float64,Base.TwicePrecision{Float64},Base.TwicePrecision{Float64}}, ::Vararg{Any,N} where N) at /home/oscar/.julia/packages/Plots/UQI78/src/plot.jl:57",
      " [9] plot(::StepRangeLen{Float64,Base.TwicePrecision{Float64},Base.TwicePrecision{Float64}}, ::Array{Float64,1}, ::Vararg{Any,N} where N) at /home/oscar/.julia/packages/Plots/UQI78/src/plot.jl:51",
      " [10] top-level scope at In[91]:5"
     ]
    }
   ],
   "source": [
    "using PyPlot\n",
    "import PyPlot\n",
    "x = -3:0.1:3\n",
    "y = 3*(x.^2) .- 2\n",
    "\n",
    "plot(x,y,\"r\")\n",
    "plot(x,y,\"ob\")"
   ]
  },
  {
   "cell_type": "markdown",
   "metadata": {},
   "source": [
    "## Newton Raphson graficado (aún no queda)"
   ]
  },
  {
   "cell_type": "code",
   "execution_count": 92,
   "metadata": {},
   "outputs": [
    {
     "ename": "MethodError",
     "evalue": "MethodError: no method matching ^(::StepRangeLen{Float64,Base.TwicePrecision{Float64},Base.TwicePrecision{Float64}}, ::Int64)\nClosest candidates are:\n  ^(!Matched::Float16, ::Integer) at math.jl:795\n  ^(!Matched::Missing, ::Integer) at missing.jl:120\n  ^(!Matched::Missing, ::Number) at missing.jl:93\n  ...",
     "output_type": "error",
     "traceback": [
      "MethodError: no method matching ^(::StepRangeLen{Float64,Base.TwicePrecision{Float64},Base.TwicePrecision{Float64}}, ::Int64)\nClosest candidates are:\n  ^(!Matched::Float16, ::Integer) at math.jl:795\n  ^(!Matched::Missing, ::Integer) at missing.jl:120\n  ^(!Matched::Missing, ::Number) at missing.jl:93\n  ...",
      "",
      "Stacktrace:",
      " [1] macro expansion at ./none:0 [inlined]",
      " [2] literal_pow(::typeof(^), ::StepRangeLen{Float64,Base.TwicePrecision{Float64},Base.TwicePrecision{Float64}}, ::Val{2}) at ./none:0",
      " [3] top-level scope at In[92]:8"
     ]
    }
   ],
   "source": [
    "function NR(f)\n",
    "    x = 1\n",
    "    for i in 1:100\n",
    "        x = x - (x^2-2)/2x\n",
    "    end\n",
    "    return x\n",
    "end\n",
    "NR(x^2-2)"
   ]
  },
  {
   "cell_type": "markdown",
   "metadata": {},
   "source": [
    "# Clase 8/Febrero/19"
   ]
  },
  {
   "cell_type": "markdown",
   "metadata": {},
   "source": [
    "## Estructuras"
   ]
  },
  {
   "cell_type": "code",
   "execution_count": 93,
   "metadata": {},
   "outputs": [
    {
     "data": {
      "text/plain": [
       "0.16209060379426332"
      ]
     },
     "execution_count": 93,
     "metadata": {},
     "output_type": "execute_result"
    }
   ],
   "source": [
    "using LinearAlgebra\n",
    "a = rand(10)\n",
    "maximum(a)\n",
    "minimum(a)"
   ]
  },
  {
   "cell_type": "markdown",
   "metadata": {},
   "source": [
    "Funciones que se definen por el momento, sin nombre"
   ]
  },
  {
   "cell_type": "code",
   "execution_count": 94,
   "metadata": {},
   "outputs": [
    {
     "data": {
      "text/plain": [
       "#13 (generic function with 1 method)"
      ]
     },
     "execution_count": 94,
     "metadata": {},
     "output_type": "execute_result"
    }
   ],
   "source": [
    "x -> x[2]"
   ]
  },
  {
   "cell_type": "code",
   "execution_count": 95,
   "metadata": {},
   "outputs": [
    {
     "data": {
      "text/plain": [
       "10-element Array{Float64,1}:\n",
       " 0.8435554081931493 \n",
       " 0.8406057919157133 \n",
       " 0.7028794735396178 \n",
       " 0.6884424968249443 \n",
       " 0.6693453808717857 \n",
       " 0.6096860055448579 \n",
       " 0.4324051539418907 \n",
       " 0.41790707962155405\n",
       " 0.3601350891952344 \n",
       " 0.16209060379426332"
      ]
     },
     "execution_count": 95,
     "metadata": {},
     "output_type": "execute_result"
    }
   ],
   "source": [
    "sort(a , rev = true)"
   ]
  },
  {
   "cell_type": "code",
   "execution_count": 96,
   "metadata": {},
   "outputs": [
    {
     "ename": "LoadError",
     "evalue": "Invalid @var syntax `extra token after end of expression`.",
     "output_type": "error",
     "traceback": [
      "Invalid @var syntax `extra token after end of expression`.",
      "",
      "Stacktrace:",
      " [1] error(::String) at ./error.jl:33",
      " [2] splitexpr(::Any) at ./docs/bindings.jl:28",
      " [3] bindingexpr(::Any) at ./docs/bindings.jl:17",
      " [4] lookup_doc(::Expr) at /buildworker/worker/package_linux64/build/usr/share/julia/stdlib/v1.0/REPL/src/docview.jl:137",
      " [5] docm(::LineNumberNode, ::Module, ::Any) at ./docs/Docs.jl:501",
      " [6] @doc(::LineNumberNode, ::Module, ::Expr, ::Vararg{Expr,N} where N) at ./boot.jl:451",
      " [7] eval at ./boot.jl:319 [inlined]",
      " [8] execute_request(::ZMQ.Socket, ::IJulia.Msg) at /home/oscar/.julia/packages/IJulia/fjEtl/src/execute_request.jl:59",
      " [9] #invokelatest#1 at ./essentials.jl:697 [inlined]",
      " [10] invokelatest at ./essentials.jl:696 [inlined]",
      " [11] eventloop(::ZMQ.Socket) at /home/oscar/.julia/packages/IJulia/fjEtl/src/eventloop.jl:8",
      " [12] (::getfield(IJulia, Symbol(\"##15#18\")))() at ./task.jl:259"
     ]
    }
   ],
   "source": [
    "?sort()\n",
    "?revert()\n",
    "?by()"
   ]
  },
  {
   "cell_type": "markdown",
   "metadata": {},
   "source": [
    "Checar revert y by como funciones aplicadas a sort para la tarea"
   ]
  },
  {
   "cell_type": "markdown",
   "metadata": {},
   "source": [
    "## Arboles binarios"
   ]
  },
  {
   "cell_type": "code",
   "execution_count": 100,
   "metadata": {},
   "outputs": [
    {
     "name": "stdout",
     "output_type": "stream",
     "text": [
      "search:\n",
      "\n",
      "Couldn't find \u001b[36mlinetype\u001b[39m\n",
      "Perhaps you meant eltype\n"
     ]
    },
    {
     "data": {
      "text/latex": [
       "No documentation found.\n",
       "\n",
       "Binding \\texttt{linetype} does not exist.\n",
       "\n"
      ],
      "text/markdown": [
       "No documentation found.\n",
       "\n",
       "Binding `linetype` does not exist.\n"
      ],
      "text/plain": [
       "  No documentation found.\n",
       "\n",
       "  Binding \u001b[36mlinetype\u001b[39m does not exist."
      ]
     },
     "execution_count": 100,
     "metadata": {},
     "output_type": "execute_result"
    }
   ],
   "source": []
  },
  {
   "cell_type": "markdown",
   "metadata": {},
   "source": [
    "# Gráficas"
   ]
  },
  {
   "cell_type": "code",
   "execution_count": 97,
   "metadata": {},
   "outputs": [
    {
     "data": {
      "text/plain": [
       "Plots.PyPlotBackend()"
      ]
     },
     "execution_count": 97,
     "metadata": {},
     "output_type": "execute_result"
    }
   ],
   "source": [
    "using Plots\n",
    "pyplot()"
   ]
  },
  {
   "cell_type": "code",
   "execution_count": 104,
   "metadata": {
    "scrolled": true
   },
   "outputs": [
    {
     "ename": "ErrorException",
     "evalue": "No user recipe defined for String",
     "output_type": "error",
     "traceback": [
      "No user recipe defined for String",
      "",
      "Stacktrace:",
      " [1] error(::String) at ./error.jl:33",
      " [2] convertToAnyVector(::String, ::Dict{Symbol,Any}) at /home/oscar/.julia/packages/Plots/UQI78/src/series.jl:14",
      " [3] macro expansion at /home/oscar/.julia/packages/Plots/UQI78/src/series.jl:140 [inlined]",
      " [4] apply_recipe(::Dict{Symbol,Any}, ::Type{Plots.SliceIt}, ::Array{Float64,1}, ::Array{Float64,1}, ::String) at /home/oscar/.julia/packages/RecipesBase/Uz5AO/src/RecipesBase.jl:275",
      " [5] _process_userrecipes(::Plots.Plot{Plots.PyPlotBackend}, ::Dict{Symbol,Any}, ::Tuple{Array{Float64,1},Array{Float64,1},String}) at /home/oscar/.julia/packages/Plots/UQI78/src/pipeline.jl:83",
      " [6] macro expansion at ./logging.jl:305 [inlined]",
      " [7] _plot!(::Plots.Plot{Plots.PyPlotBackend}, ::Dict{Symbol,Any}, ::Tuple{Array{Float64,1},Array{Float64,1},String}) at /home/oscar/.julia/packages/Plots/UQI78/src/plot.jl:171",
      " [8] #plot#136(::Base.Iterators.Pairs{Union{},Union{},Tuple{},NamedTuple{(),Tuple{}}}, ::Function, ::Array{Float64,1}, ::Vararg{Any,N} where N) at /home/oscar/.julia/packages/Plots/UQI78/src/plot.jl:57",
      " [9] plot(::Array{Float64,1}, ::Array{Float64,1}, ::Vararg{Any,N} where N) at /home/oscar/.julia/packages/Plots/UQI78/src/plot.jl:51",
      " [10] top-level scope at In[104]:5"
     ]
    }
   ],
   "source": [
    "using PyPlot\n",
    "import PyPlot\n",
    "X = rand(100)\n",
    "Y = rand(100)\n",
    "plot(X,Y, \"r\")"
   ]
  },
  {
   "cell_type": "markdown",
   "metadata": {},
   "source": [
    "Checar también seriestype, usar siempre ?aspect_ratio = equal"
   ]
  },
  {
   "cell_type": "markdown",
   "metadata": {},
   "source": [
    "## Librerías"
   ]
  },
  {
   "cell_type": "code",
   "execution_count": 103,
   "metadata": {},
   "outputs": [
    {
     "ename": "ArgumentError",
     "evalue": "ArgumentError: Package BenchmarkTools not found in current path:\n- Run `import Pkg; Pkg.add(\"BenchmarkTools\")` to install the BenchmarkTools package.\n",
     "output_type": "error",
     "traceback": [
      "ArgumentError: Package BenchmarkTools not found in current path:\n- Run `import Pkg; Pkg.add(\"BenchmarkTools\")` to install the BenchmarkTools package.\n",
      "",
      "Stacktrace:",
      " [1] require(::Module, ::Symbol) at ./loading.jl:823",
      " [2] top-level scope at In[103]:1"
     ]
    }
   ],
   "source": [
    "using BenchmarkTools\n"
   ]
  },
  {
   "cell_type": "code",
   "execution_count": null,
   "metadata": {},
   "outputs": [],
   "source": []
  },
  {
   "cell_type": "code",
   "execution_count": null,
   "metadata": {},
   "outputs": [],
   "source": []
  }
 ],
 "metadata": {
  "kernelspec": {
   "display_name": "Julia 1.0.2",
   "language": "julia",
   "name": "julia-1.0"
  },
  "language_info": {
   "file_extension": ".jl",
   "mimetype": "application/julia",
   "name": "julia",
   "version": "1.0.2"
  }
 },
 "nbformat": 4,
 "nbformat_minor": 2
}
