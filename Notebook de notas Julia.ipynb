{
 "cells": [
  {
   "cell_type": "markdown",
   "metadata": {},
   "source": [
    "# Cosas importantes por recordar"
   ]
  },
  {
   "cell_type": "markdown",
   "metadata": {},
   "source": [
    "Configurar presición de big float:"
   ]
  },
  {
   "cell_type": "code",
   "execution_count": 9,
   "metadata": {},
   "outputs": [
    {
     "data": {
      "text/plain": [
       "1.34300000000000000000000000000000000000000000000000000000000000000000000000000000000000030000000000000000000000000000000000000000000000000000000000000000000000000000000000000000000000000000000000000000000000000000000000000000000000000000000000000000000000000000000000000000000000000000000000000000000009"
      ]
     },
     "execution_count": 9,
     "metadata": {},
     "output_type": "execute_result"
    }
   ],
   "source": [
    "setprecision(BigFloat, 1000)\n",
    "BigFloat(\"1.3430000000000000000000000000000000000000000000000000000000000000000000000000000000000003\")"
   ]
  },
  {
   "cell_type": "markdown",
   "metadata": {},
   "source": [
    "## Vectores y matrices"
   ]
  },
  {
   "cell_type": "markdown",
   "metadata": {},
   "source": [
    "Hay tres formas de crear vectores:"
   ]
  },
  {
   "cell_type": "code",
   "execution_count": 2,
   "metadata": {},
   "outputs": [
    {
     "data": {
      "text/plain": [
       "5-element Array{Int64,1}:\n",
       " 1\n",
       " 2\n",
       " 3\n",
       " 4\n",
       " 5"
      ]
     },
     "execution_count": 2,
     "metadata": {},
     "output_type": "execute_result"
    }
   ],
   "source": [
    "v = collect(1:5)"
   ]
  },
  {
   "cell_type": "code",
   "execution_count": 3,
   "metadata": {},
   "outputs": [
    {
     "data": {
      "text/plain": [
       "5-element Array{Int64,1}:\n",
       " 1\n",
       " 2\n",
       " 3\n",
       " 4\n",
       " 5"
      ]
     },
     "execution_count": 3,
     "metadata": {},
     "output_type": "execute_result"
    }
   ],
   "source": [
    "w = [1,2,3,4,5]"
   ]
  },
  {
   "cell_type": "code",
   "execution_count": 10,
   "metadata": {},
   "outputs": [
    {
     "data": {
      "text/plain": [
       "1×5 Array{Int64,2}:\n",
       " 1  2  3  4  5"
      ]
     },
     "execution_count": 10,
     "metadata": {},
     "output_type": "execute_result"
    }
   ],
   "source": [
    "u = [1 2 3 4 5]"
   ]
  },
  {
   "cell_type": "markdown",
   "metadata": {},
   "source": [
    "También se pueden hacer matrices haciendo listas horizontales de listas verticales:"
   ]
  },
  {
   "cell_type": "code",
   "execution_count": 11,
   "metadata": {},
   "outputs": [
    {
     "data": {
      "text/plain": [
       "5×5 Array{Int64,2}:\n",
       "  3   2   4  1   5\n",
       "  6   4   8  2  10\n",
       "  9   6  12  3  15\n",
       " 12   8  16  4  20\n",
       " 15  10  20  5  25"
      ]
     },
     "execution_count": 11,
     "metadata": {},
     "output_type": "execute_result"
    }
   ],
   "source": [
    "A = [3v 2v 4v 1v 5v]"
   ]
  },
  {
   "cell_type": "markdown",
   "metadata": {},
   "source": [
    "Ubicar elementos de la matriz:"
   ]
  },
  {
   "cell_type": "code",
   "execution_count": 16,
   "metadata": {},
   "outputs": [
    {
     "data": {
      "text/plain": [
       "3"
      ]
     },
     "execution_count": 16,
     "metadata": {},
     "output_type": "execute_result"
    }
   ],
   "source": [
    "A[3,4]"
   ]
  },
  {
   "cell_type": "markdown",
   "metadata": {},
   "source": [
    "Sin embargo, no se pueden hacer matrices de listas verticales de listas horizontales"
   ]
  },
  {
   "cell_type": "code",
   "execution_count": 19,
   "metadata": {},
   "outputs": [
    {
     "data": {
      "text/plain": [
       "5-element Array{Array{Int64,2},1}:\n",
       " [3 6 … 12 15] \n",
       " [2 4 … 8 10]  \n",
       " [4 8 … 16 20] \n",
       " [1 2 … 4 5]   \n",
       " [5 10 … 20 25]"
      ]
     },
     "execution_count": 19,
     "metadata": {},
     "output_type": "execute_result"
    }
   ],
   "source": [
    "B = [3u, 2u, 4u,u,5u]"
   ]
  },
  {
   "cell_type": "markdown",
   "metadata": {},
   "source": [
    "Para acceder a un elemento de una lista, vasta nombrar la lista, abrir un corchete y poner el índice de elemento que se quiere acceder"
   ]
  },
  {
   "cell_type": "code",
   "execution_count": 20,
   "metadata": {},
   "outputs": [
    {
     "data": {
      "text/plain": [
       "12"
      ]
     },
     "execution_count": 20,
     "metadata": {},
     "output_type": "execute_result"
    }
   ],
   "source": [
    "B[1][4]"
   ]
  },
  {
   "cell_type": "markdown",
   "metadata": {},
   "source": [
    "Método cool para obtener todos los elementos de una columna o un reenglón"
   ]
  },
  {
   "cell_type": "code",
   "execution_count": 22,
   "metadata": {},
   "outputs": [
    {
     "data": {
      "text/plain": [
       "5-element Array{Int64,1}:\n",
       "  9\n",
       "  6\n",
       " 12\n",
       "  3\n",
       " 15"
      ]
     },
     "execution_count": 22,
     "metadata": {},
     "output_type": "execute_result"
    }
   ],
   "source": [
    "A[3,:]"
   ]
  },
  {
   "cell_type": "markdown",
   "metadata": {},
   "source": [
    "## Operaciones"
   ]
  },
  {
   "cell_type": "markdown",
   "metadata": {},
   "source": [
    "Es importante esta parte, ya que nos indica cómo utilizar y diferenciar el producto punto y el producto entrada a entrada"
   ]
  },
  {
   "cell_type": "code",
   "execution_count": 24,
   "metadata": {},
   "outputs": [
    {
     "data": {
      "text/plain": [
       "(14.588899999999999, [-13.599, -9.056, 10.2], 6.434974747425199, [-2.4, 9.9, 7.0889], [8.0, 27.0, 151.419], 25)"
      ]
     },
     "execution_count": 24,
     "metadata": {},
     "output_type": "execute_result"
    }
   ],
   "source": [
    "using LinearAlgebra\n",
    "a = [2,3,5.33] \n",
    "b = [-1.2,3.3,1.33]\n",
    "a⋅b, a×b, norm(a), a.*b, a.^3, length(A)"
   ]
  },
  {
   "cell_type": "markdown",
   "metadata": {},
   "source": [
    "Notemos que tanto el producto \"*\", como la potencia \"^\", para el caso de listas, se requiere usar un punto antes de la operación. Esto significa que se aplicará esa operación a todos los elementos de la lista. Esto es general: \n"
   ]
  },
  {
   "cell_type": "code",
   "execution_count": 25,
   "metadata": {},
   "outputs": [
    {
     "data": {
      "text/plain": [
       "3-element Array{Float64,1}:\n",
       "  0.9092974268256817\n",
       "  0.1411200080598672\n",
       " -0.8152642144499634"
      ]
     },
     "execution_count": 25,
     "metadata": {},
     "output_type": "execute_result"
    }
   ],
   "source": [
    "sin.(a)"
   ]
  },
  {
   "cell_type": "code",
   "execution_count": 26,
   "metadata": {},
   "outputs": [
    {
     "data": {
      "text/plain": [
       "([0.960356, 2.66336, 1.66745], [1.26941 0.760793 1.16254; 0.771083 0.768257 0.838754; 1.1139 0.808156 1.59853], [0.427654 -1.15041 0.871555; -1.4472 1.21326 0.874677; 1.01913 0.587681 -0.728019], [0.626627 0.0727315 0.935905; 0.145894 0.537949 0.638483; 0.925456 0.733389 0.513939], (3, 3))"
      ]
     },
     "execution_count": 26,
     "metadata": {},
     "output_type": "execute_result"
    }
   ],
   "source": [
    "A = rand(3,3)\n",
    "A*b, A*A, inv(A), transpose(A), size(A)"
   ]
  },
  {
   "cell_type": "markdown",
   "metadata": {},
   "source": [
    "## Existen algunas otras operaciones sobre listas que no son matemáticas, como agregar un elemento a una lista o quitarlo: "
   ]
  },
  {
   "cell_type": "code",
   "execution_count": 28,
   "metadata": {},
   "outputs": [
    {
     "data": {
      "text/plain": [
       "5-element Array{Float64,1}:\n",
       "  2.0 \n",
       "  3.0 \n",
       "  5.33\n",
       " 12.2 \n",
       "  6.0 "
      ]
     },
     "execution_count": 28,
     "metadata": {},
     "output_type": "execute_result"
    }
   ],
   "source": [
    "push!(a,6)\n",
    "a"
   ]
  },
  {
   "cell_type": "code",
   "execution_count": 31,
   "metadata": {},
   "outputs": [
    {
     "data": {
      "text/plain": [
       "4-element Array{Float64,1}:\n",
       " 2.0 \n",
       " 3.0 \n",
       " 8.0 \n",
       " 5.33"
      ]
     },
     "execution_count": 31,
     "metadata": {},
     "output_type": "execute_result"
    }
   ],
   "source": [
    "pop!(a)\n",
    "a"
   ]
  },
  {
   "cell_type": "code",
   "execution_count": 32,
   "metadata": {},
   "outputs": [
    {
     "data": {
      "text/plain": [
       "5-element Array{Float64,1}:\n",
       "  2.0 \n",
       "  3.0 \n",
       " 20.0 \n",
       "  8.0 \n",
       "  5.33"
      ]
     },
     "execution_count": 32,
     "metadata": {},
     "output_type": "execute_result"
    }
   ],
   "source": [
    "insert!(a,3,20.)\n",
    "a"
   ]
  },
  {
   "cell_type": "code",
   "execution_count": 33,
   "metadata": {},
   "outputs": [
    {
     "data": {
      "text/plain": [
       "4-element Array{Float64,1}:\n",
       "  2.0 \n",
       " 20.0 \n",
       "  8.0 \n",
       "  5.33"
      ]
     },
     "execution_count": 33,
     "metadata": {},
     "output_type": "execute_result"
    }
   ],
   "source": [
    "deleteat!(a,2)"
   ]
  },
  {
   "cell_type": "markdown",
   "metadata": {},
   "source": [
    "Observemos que en todas estas operaciones (funciones) tenemos que terminan con un signo de interrogación, esto provoca que se reescriba la variable con la que estamos trabajando"
   ]
  },
  {
   "cell_type": "markdown",
   "metadata": {},
   "source": [
    "## Para incertar variables dentro de un texto se puede usar el símbolo $: "
   ]
  },
  {
   "cell_type": "code",
   "execution_count": 35,
   "metadata": {},
   "outputs": [
    {
     "data": {
      "text/plain": [
       "\"hola Bee, cómo te va?\""
      ]
     },
     "execution_count": 35,
     "metadata": {},
     "output_type": "execute_result"
    }
   ],
   "source": [
    "nombre = \"Bee\"\n",
    "a = \"hola $(nombre), cómo te va?\""
   ]
  },
  {
   "cell_type": "markdown",
   "metadata": {},
   "source": [
    "## Una forma de definir conjuntos:"
   ]
  },
  {
   "cell_type": "code",
   "execution_count": 36,
   "metadata": {},
   "outputs": [
    {
     "data": {
      "text/plain": [
       "51-element Array{Float64,1}:\n",
       " 0.79              \n",
       " 0.7861            \n",
       " 0.7824            \n",
       " 0.7788999999999999\n",
       " 0.7756000000000001\n",
       " 0.7725            \n",
       " 0.7696000000000001\n",
       " 0.7669            \n",
       " 0.7644            \n",
       " 0.7621            \n",
       " 0.76              \n",
       " 0.7581            \n",
       " 0.7564            \n",
       " ⋮                 \n",
       " 0.7861            \n",
       " 0.79              \n",
       " 0.7941            \n",
       " 0.7984            \n",
       " 0.8029            \n",
       " 0.8076            \n",
       " 0.8125            \n",
       " 0.8176            \n",
       " 0.8229            \n",
       " 0.8284            \n",
       " 0.8341000000000001\n",
       " 0.8400000000000001"
      ]
     },
     "execution_count": 36,
     "metadata": {},
     "output_type": "execute_result"
    }
   ],
   "source": [
    "X = [x^2-x+1 for x in 0.3:0.01:.8]"
   ]
  },
  {
   "cell_type": "markdown",
   "metadata": {},
   "source": [
    "# Funciones"
   ]
  },
  {
   "cell_type": "markdown",
   "metadata": {},
   "source": [
    "En general podemos definir funciones como lo hacemos en cálculo, poniendo el nombre de la función, seguido de paréntecis que dentro tienen los argumentos que se evaluarán, después un signo de igual y seguido de eso las instrucciones sobre cómo operar la función. Por ejemplo:"
   ]
  },
  {
   "cell_type": "code",
   "execution_count": 37,
   "metadata": {},
   "outputs": [
    {
     "data": {
      "text/plain": [
       "12.566370614359172"
      ]
     },
     "execution_count": 37,
     "metadata": {},
     "output_type": "execute_result"
    }
   ],
   "source": [
    "Area_circulo(r) = π*r^2\n",
    "Area_circulo(2)"
   ]
  },
  {
   "cell_type": "markdown",
   "metadata": {},
   "source": [
    "Sin embargo, hay algunas funciones lo suficientemente complejas que utilizan condicionales y ciclos para definirse. Estas funciones se pueden definir utilizando la palabra function:"
   ]
  },
  {
   "cell_type": "code",
   "execution_count": 41,
   "metadata": {},
   "outputs": [
    {
     "data": {
      "text/plain": [
       "\"buenas noches, Ata, ¿cómo te va?\""
      ]
     },
     "execution_count": 41,
     "metadata": {},
     "output_type": "execute_result"
    }
   ],
   "source": [
    "function Saludo(nombre, hora)\n",
    "    a = :string\n",
    "    if hora<12\n",
    "        a = \"buenos días, $(nombre), ¿cómo te va?\"\n",
    "    elseif 12<=hora<18\n",
    "        a = \"buenas tardes, $(nombre), ¿cómo te va?\"\n",
    "        return \"estoy ocupado\"\n",
    "    else\n",
    "        a = \"buenas noches, $(nombre), ¿cómo te va?\"\n",
    "    end\n",
    "    for i in 1:2\n",
    "        \n",
    "    end\n",
    "    a\n",
    "end\n",
    "\n",
    "Saludo(\"Ata\",36)"
   ]
  },
  {
   "cell_type": "code",
   "execution_count": 56,
   "metadata": {},
   "outputs": [
    {
     "data": {
      "text/plain": [
       "1.4142156862745097"
      ]
     },
     "execution_count": 56,
     "metadata": {},
     "output_type": "execute_result"
    }
   ],
   "source": [
    "function BabylonianRoot(y :: Real)\n",
    "    x = 2\n",
    "    for i in 1:3\n",
    "        x = 0.5(x+y/x)\n",
    "    end\n",
    "    return x\n",
    "end\n",
    "\n",
    "BabylonianRoot(2)\n",
    "    "
   ]
  },
  {
   "cell_type": "code",
   "execution_count": null,
   "metadata": {},
   "outputs": [],
   "source": []
  }
 ],
 "metadata": {
  "kernelspec": {
   "display_name": "Julia 1.0.2",
   "language": "julia",
   "name": "julia-1.0"
  },
  "language_info": {
   "file_extension": ".jl",
   "mimetype": "application/julia",
   "name": "julia",
   "version": "1.0.2"
  }
 },
 "nbformat": 4,
 "nbformat_minor": 2
}
