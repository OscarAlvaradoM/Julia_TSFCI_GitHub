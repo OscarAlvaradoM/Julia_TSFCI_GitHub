{
 "cells": [
  {
   "cell_type": "markdown",
   "metadata": {},
   "source": [
    "# Estructuras\n",
    "\n",
    "Una estructura de datos es una forma en la cual acomodar datos de tal manera que podamos acceder a ellas. La más común de estas estructuras es la lista. Julia tiene ya predefinidas (como ya vimos) las listas. Vale la pena detenernos a revisar algunas de sus operaciones típicas. \n",
    "\n",
    "Por ejemplo, si tenemos una lista de números, la operación $maximum(a)$ nos arrojará el valor máximo de la lista. "
   ]
  },
  {
   "cell_type": "code",
   "execution_count": null,
   "metadata": {},
   "outputs": [],
   "source": [
    "using LinearAlgebra\n",
    "a = rand(100)\n",
    "maximum(a)"
   ]
  },
  {
   "cell_type": "markdown",
   "metadata": {},
   "source": [
    "De forma similar existe $minimum$"
   ]
  },
  {
   "cell_type": "code",
   "execution_count": null,
   "metadata": {},
   "outputs": [],
   "source": [
    "minimum(a)"
   ]
  },
  {
   "cell_type": "markdown",
   "metadata": {},
   "source": [
    "Otra operación importante es la de encontrar un elemento en particular. Para eso usamos la función $findall$, que es un poquito complicada. Esta función requiere de 2 argumentos, el primero es una función, el segundo es una lista (o matriz). $findall(f,a)$ regresa todos los índices (o llaves) de la lista $a$ donde $f(a_i)$ regresa $true$. En caso de que no haya ningún valor donde esto suceda, entonces regresa un arreglo vacío. \n",
    "\n",
    "La pregunta aquí es ¿cómo buscar entonces en una lista $a$ todos los elementos que sean iguales a $b$?\n",
    "\n",
    "Para esto usamos la función in(b). \n"
   ]
  },
  {
   "cell_type": "code",
   "execution_count": null,
   "metadata": {},
   "outputs": [],
   "source": [
    "a = [1,2,3,4,5,5]\n",
    "in(5)(5), in(5)(4)"
   ]
  },
  {
   "cell_type": "code",
   "execution_count": null,
   "metadata": {},
   "outputs": [],
   "source": [
    "findall(in(5),a)"
   ]
  },
  {
   "cell_type": "markdown",
   "metadata": {},
   "source": [
    "Otra operación de sumo interés cuando se trabaja con bases de datos es ordenar las listas. Si se tiene una lista ordenada es extremadamente fácil encontrar el máximo o el mínimo (aunque claro, ordenar no es siempre eficiente).\n",
    "\n",
    "Para ordenar una lista existe la función $sort$. "
   ]
  },
  {
   "cell_type": "code",
   "execution_count": null,
   "metadata": {},
   "outputs": [],
   "source": [
    "a = rand(10)\n",
    "sort(a)"
   ]
  },
  {
   "cell_type": "markdown",
   "metadata": {},
   "source": [
    "si se quiere ordenar en el sentido contrario, se puede usar $rev = true$ como un argumento: "
   ]
  },
  {
   "cell_type": "code",
   "execution_count": null,
   "metadata": {},
   "outputs": [],
   "source": [
    "sort(a, rev = true)"
   ]
  },
  {
   "cell_type": "markdown",
   "metadata": {},
   "source": [
    "Otra posibilidad es que quieran ordenar utilizando pares ordenados (o tercias, etc..). En este caso, quizá quieran ordenar los datos utilizando el segundo elemento (en vez del primero que tiene por default). Por ejemplo ordenar la lista [[2,5],[5,1],[1,2],[3,4]]. Para esto podemos utilizar el argumento $by$. $by$ nos permite indicar una función que se aplicará a nuestra lista antes de ordenar los datos. En caso de querer ordenar utilizando el primer elemento, la función puede ser $f(x) = x[2]$, que significa que se tomará el primer elemento de cada par.  \n",
    "\n",
    "Otra forma de poner esta función como argumento es utilizando lo que se conoce como funciones anónimas. Una función anónima es una que no se nombra, pero se utiliza. La función que propusimos arriba se puede escribir de forma anónima como $x \\rightarrow x[2]$. \n",
    "\n"
   ]
  },
  {
   "cell_type": "code",
   "execution_count": null,
   "metadata": {},
   "outputs": [],
   "source": [
    "x -> x[2] "
   ]
  },
  {
   "cell_type": "code",
   "execution_count": null,
   "metadata": {},
   "outputs": [],
   "source": [
    "a = []\n",
    "for i in 1:10\n",
    "    push!(a,rand(2))\n",
    "end"
   ]
  },
  {
   "cell_type": "code",
   "execution_count": null,
   "metadata": {},
   "outputs": [],
   "source": [
    "sort(a, by = x -> x[2])"
   ]
  },
  {
   "cell_type": "markdown",
   "metadata": {},
   "source": [
    "De la misma forma, podríamos usar $by$ para ordenar con respecto a los valores más cercanos a un punto:"
   ]
  },
  {
   "cell_type": "code",
   "execution_count": null,
   "metadata": {},
   "outputs": [],
   "source": [
    "sort(a, by = x -> norm(x))"
   ]
  },
  {
   "attachments": {
    "Arbol_binario.png": {
     "image/png": "[encoded data removed]"
    }
   },
   "cell_type": "markdown",
   "metadata": {},
   "source": [
    "Si utilizan $sort$ sin el argumento by sobre una lista de pares ordenados, los ordenará de menor a mayor utilizando el primer elemento y si hay dos con el mismo primer elemento, entonces verá el segundo elemento del par para decidir cuál va primero, también poniéndolo de menor a mayor. \n",
    "\n",
    "### Arboles binarios\n",
    "\n",
    "Un árbol es una estructura de datos formada por \"nodos\" e \"hijos\" (hojas). Existe un nodo *raiz*, que es el equivalente al primer elemento de una lista. El nodo raiz no tiene \"padre\", sólo hijos. En el caso de los árboles binarios cada nodo puede tener hasta 2 hijos, normalmente llamados \"izquierda\" y \"derecha\". \n",
    "\n",
    "![Arbol_binario.png](attachment:Arbol_binario.png)\n"
   ]
  },
  {
   "cell_type": "markdown",
   "metadata": {},
   "source": [
    "En general existe una regla, predefinida para formar el árbol, esta puede ser por ejemplo, si el nuevo elemento es mayor que el nodo, entonces se pondrá a la izquierda, sino a la derecha. \n",
    "\n",
    "La ventaja de los árboles binarios es que suelen ser mucho más rápidos para buscar elementos que hacerlo sobre listas. La función $findall$ para las listas, por ejemplo, utiliza por default un algoritmo que tiene una complejidad en promedio de $n$. \n",
    "\n",
    "En cambio en un árbol buscar un elemento lleva sólo $log(n)$ en promedio (o estrictamente, la altura del árbol), aunque en el peor de los casos tiene la misma complejidad, pues el árbol se vuelve una lista. Para evitar este \"peor caso\" uno puede utilizar lo que se conoce como árboles bien balanceados (que por ahora no veremos). Los árboles bien balanceados significa acomodar los datos de tal forma que a lo más 1 nodo tenga sólo un hijo. \n",
    "\n",
    "\n",
    "Para hacer una estructura de datos tipo árbol binario podemos también usar listas. Una forma es acomodarlos tal cual una lista y luego poner una regla para buscar (saltando datos). Esto sólo funciona si el árbol está balanceado. En realidad lo más sencillo es crear una lista de listas. Se comienza, como en el caso de las estructuras de listas, con un arreglo vacío $arbol =[]$. Después se agrega el elemento raiz y dos listas vacías dentro: $arbol = [raiz, [],[]]$ esas listas corresponde a los hijos izquierdo y derecho. Seguido a esto uno puede agregar en arbol[2] o arbol[3] un elemento según se cumpla la regla para el lado izquierdo o para el derecho. Por ejemplo, podemos hacer la función push! para un árbol de la siguiente manera: "
   ]
  },
  {
   "cell_type": "code",
   "execution_count": null,
   "metadata": {},
   "outputs": [],
   "source": [
    "# omití la funcion push2!(Arbol) porque es uno de los problemas de la tarea. "
   ]
  },
  {
   "cell_type": "code",
   "execution_count": null,
   "metadata": {},
   "outputs": [],
   "source": [
    "Arbol = []\n",
    "push2!(Arbol, rand())\n",
    "Arbol"
   ]
  },
  {
   "cell_type": "code",
   "execution_count": null,
   "metadata": {},
   "outputs": [],
   "source": [
    "for i in 1:99\n",
    "    push2!(Arbol, rand())\n",
    "end"
   ]
  },
  {
   "cell_type": "markdown",
   "metadata": {},
   "source": [
    "Para buscar el mínimo o el máximo, basta con hacer recorrer el árbol sólo por la izquierda o sólo por la derecha. En la tarea ustedes harán sus propias funciones para encontrar mínimos, máximos, encontrar algún elemento en particular y generalizarán las reglas para agregar elementos. En un futuro quizá veremos un algoritmo para valancear el árbol, aunque en muchos casos no vale la pena balancearlo. "
   ]
  },
  {
   "cell_type": "markdown",
   "metadata": {},
   "source": [
    "# Gráficas\n",
    "\n",
    "Por ahora utilizaremos la paquetería de Plots. Si no la tienen instalada, instálenla. \n",
    "\n",
    "using Pkg \n",
    "\n",
    "Pkg.add(\"Plots\")\n",
    "\n",
    "Pkg.add(\"Plotly\")\n",
    "\n",
    "Pkg.add(\"PyPlot\")\n",
    "\n",
    "Pkg.add(\"GR\")\n",
    "\n",
    "Recuerden, la primera vez que pongan una gráfica en cada notebook se tardará un poco más, pues tiene que compilar. Después será más rápido. \n",
    "\n",
    "El siguiente paso es indicar que usarán la paquetería correspondiente: \n",
    "\n",
    "using Plots\n",
    "\n",
    "Depende de como instalan Plots (en qué momento lo hicieron y si su compu tiene conflictos con alguna paquetería), pero en general usa por default la paquetería de GR. Si quieren cambiar de paquete, simplemente pongan el nombre de la paquetería seguido de un paréntesis, todo en minúsculas. Por ejemplo, si quieren usar PyPlot, escriban: \n",
    "\n",
    "pyplot()"
   ]
  },
  {
   "cell_type": "code",
   "execution_count": null,
   "metadata": {},
   "outputs": [],
   "source": [
    "using Plots\n",
    "pyplot()"
   ]
  },
  {
   "cell_type": "markdown",
   "metadata": {},
   "source": [
    "Yo en lo personal prefiero gr() en general, aunque para algunas cosas me gusta más plotly() y en algunos casos sí prefiero pyplot(). \n",
    "\n",
    "Para hacer una gráfica donde unen puntos en el plano (o espacio), se usa la función $plot(X,Y)$, donde $X$ y $Y$ son listas de números enteros o flotantes (no acepta números BigFloat o BigInt), o bien, puede aceptar cadenas, por ejemplo $X = [\"hola\", \"Adios\"]$. "
   ]
  },
  {
   "cell_type": "code",
   "execution_count": null,
   "metadata": {},
   "outputs": [],
   "source": [
    "X = [\"hola\", \"Adios\"]\n",
    "Y = rand(2)\n",
    "plot(X,Y)"
   ]
  },
  {
   "cell_type": "markdown",
   "metadata": {},
   "source": [
    "Frecuentemente vamos a querer quitar la etiqueta, para eso agregamos el argumento $key =false$. "
   ]
  },
  {
   "cell_type": "code",
   "execution_count": null,
   "metadata": {},
   "outputs": [],
   "source": [
    "X = rand(100)\n",
    "Y = rand(100)\n",
    "plot(X,Y, key = false)"
   ]
  },
  {
   "cell_type": "markdown",
   "metadata": {},
   "source": [
    "Otra posibilidad es que quieran nombrar de alguna forma la etiqueta, para eso utilizan el argumento $label$"
   ]
  },
  {
   "cell_type": "code",
   "execution_count": null,
   "metadata": {},
   "outputs": [],
   "source": [
    "X = rand(100)\n",
    "Y = rand(100)\n",
    "plot(X,Y, label = \"hola\")"
   ]
  },
  {
   "cell_type": "markdown",
   "metadata": {},
   "source": [
    "Otros atributos comunes a usarse son: $aspect_ratio = :equal, valor$, $xlabel = string$, $xlims = tupla$, $xticks = range$, $xscale = :log10, :log2, :identity, :ln$, $linewidth = valor$, $linecolor = :red, :blue, :yellow, :black,..., rgb(valor,valor,valor) $, $linealpha = valor$. \n",
    "\n",
    "aspect_ratio nos da una razón visual de la gráfica entre el eje $x$ y el $y$. $linealpha$ nos dice qué tan transparente serán las lineas. Los demás creo que son más o menos intuitivos lo que significa. "
   ]
  },
  {
   "cell_type": "code",
   "execution_count": null,
   "metadata": {},
   "outputs": [],
   "source": [
    "X = rand(100)\n",
    "Y = rand(100)\n",
    "plot(X,Y, label = \"red\", linecolor = :red, xlims = (-1,2), aspect_ratio = :equal, linealpha = 0.3, linewidth = 5)"
   ]
  },
  {
   "cell_type": "markdown",
   "metadata": {},
   "source": [
    "Existe además la posibilidad de que quieran encimar gráficas, para eso se utiliza la función $plot!$"
   ]
  },
  {
   "cell_type": "code",
   "execution_count": null,
   "metadata": {},
   "outputs": [],
   "source": [
    "plot!(rand(100), rand(100), linecolor = :green, linealpha = 0.3, label = \"green\")"
   ]
  },
  {
   "cell_type": "markdown",
   "metadata": {},
   "source": [
    "Si intentan hacer gráficas dentro de un ciclo, no les aparecerá nada. Por ejemplo: "
   ]
  },
  {
   "cell_type": "code",
   "execution_count": null,
   "metadata": {},
   "outputs": [],
   "source": [
    "for i in 1:100\n",
    "    plot(rand(10),rand(10), key = false)\n",
    "end"
   ]
  },
  {
   "cell_type": "markdown",
   "metadata": {},
   "source": [
    "Para que aparesca algo, necesitan usar el argumento $show = :ijulia$"
   ]
  },
  {
   "cell_type": "code",
   "execution_count": null,
   "metadata": {},
   "outputs": [],
   "source": [
    "X = 0:0.01:2π\n",
    "for i in 1:100\n",
    "    plot(X,sin.(X.+0.1*i), key = false, show = :ijulia)\n",
    "end"
   ]
  },
  {
   "cell_type": "markdown",
   "metadata": {},
   "source": [
    "Otra forma de hacer animaciones, es produciendo un gif animado. Para esto podemos usar el macro @gif antes del ciclo. Esto generará un archivo \"tmp.gif\" que tendrá la animación. Por ejemplo: "
   ]
  },
  {
   "cell_type": "code",
   "execution_count": null,
   "metadata": {},
   "outputs": [],
   "source": [
    "X = 0:0.01:2π\n",
    "@gif for i in 1:100\n",
    "    plot(X,sin.(X.+0.1*i), key = false, show = false)\n",
    "end"
   ]
  },
  {
   "cell_type": "markdown",
   "metadata": {},
   "source": [
    "Otra forma de hacer lo mismo, pero generando un archivo con un determinado nombre es utilizar el macro @animate. Este macro permite generar sólo las imágenes necesarias en un archivo. Después se puede con estas imágenes generar el gif animado con el nombre que se quiera y los fps que se desée. "
   ]
  },
  {
   "cell_type": "code",
   "execution_count": null,
   "metadata": {},
   "outputs": [],
   "source": [
    "X = 0:0.01:2π\n",
    "animacion = @animate for i in 1:100\n",
    "    plot(X,sin.(X.+0.1*i), key = false, show = :ijulia)\n",
    "end"
   ]
  },
  {
   "cell_type": "code",
   "execution_count": null,
   "metadata": {},
   "outputs": [],
   "source": [
    "gif(animacion, \"sin.gif\", fps = 15)"
   ]
  },
  {
   "cell_type": "markdown",
   "metadata": {},
   "source": [
    "También es posible que quieran hacer gráficas donde rellenen lo que hay \"bajo la curba\". Para esto se usa el argumento $fill$"
   ]
  },
  {
   "cell_type": "code",
   "execution_count": null,
   "metadata": {},
   "outputs": [],
   "source": [
    "X = 0:0.01:2π\n",
    "for i in 1:100\n",
    "    plot(X,sin.(X.+0.1*i), key = false, show = :ijulia, fill = true, linecolor= :red, color = :green, linewidth = 5, alpha = 0.3)\n",
    "end"
   ]
  },
  {
   "cell_type": "markdown",
   "metadata": {},
   "source": [
    "Si en cambio, lo que quieren es rellenar lo que \"encierre\" una curva (lo cual usaremos más frecuentemente), pueden utilizar el argumento: $seriestype = :shape$\n"
   ]
  },
  {
   "cell_type": "code",
   "execution_count": null,
   "metadata": {},
   "outputs": [],
   "source": [
    "X = [0,1,1,0,0]\n",
    "Y = [0,0,1,1,0]\n",
    "plot(X,Y, key = false, seriestype = :shape)"
   ]
  },
  {
   "cell_type": "markdown",
   "metadata": {},
   "source": [
    "Además de $plot()$, utilizaremos mucho la función $scatter()$ que se comporta similar, pero en vez de utilizar $linealgo$ se utilizan los argumentos $markeralgo$. $markercolor$, $markeralpha$,..., y los nuevos $markersize$ y $markershape$. Para $markershape$ existen varias posibilidades, entre otras definir sus propias formas, utilizando la función $shape()$: "
   ]
  },
  {
   "cell_type": "code",
   "execution_count": null,
   "metadata": {},
   "outputs": [],
   "source": [
    " verts = [(4.,0.)]\n",
    "verts2 = [(2.5,2.)]\n",
    "verts3 = [(-1.5,2.)]\n",
    "verts4 = [(.5,.5)]\n",
    "verts5 = [(.5,-1.0)]\n",
    "for t in 0:0.3:2π+.3\n",
    "    push!(verts,(4*cos(t),4*sin(t)))\n",
    "end\n",
    "for t in 0:0.9:2π+.3\n",
    "    push!(verts2,(.5*cos(t)+2,.5*sin(t)+2))\n",
    "    push!(verts3,(.5*cos(t)-2,.5*sin(t)+2))\n",
    "    push!(verts4,(.5*cos(t),.5*sin(t)+.5))\n",
    "    push!(verts5,(.5*cos(t),.5*sin(t)-1))\n",
    "end\n",
    "plot(verts)\n",
    "plot!(verts2)\n",
    "plot!(verts3)\n",
    "plot!(verts4)\n",
    "plot!(verts5, aspect_ratio = :equal, key = false)\n",
    "cabeza = Shape(verts)\n",
    "ojoi = Shape(verts2)\n",
    "ojod = Shape(verts3)\n",
    "nariz = Shape(verts4)\n",
    "boca = Shape(verts5)"
   ]
  },
  {
   "cell_type": "code",
   "execution_count": null,
   "metadata": {},
   "outputs": [],
   "source": [
    "pyplot()\n",
    "si = randn(20)\n",
    "x = 10*rand(20)\n",
    "y = 10*rand(20)\n",
    "z = rand(20)\n",
    "scatter(x,y, markersize = 30*si, marker = cabeza, markercolor = :white,  markeralpha=0.2)\n",
    "scatter!(x,y, markersize = 10*si, marker = (nariz,RGBA(1,.3,0,0.5)))\n",
    "scatter!(x,y, markersize = 20*si, marker = (ojod,RGBA(0,.5,.5,0.5)))\n",
    "scatter!(x,y, markersize = 20*si, marker = (ojoi,RGBA(0,.5,.5,0.5)))\n",
    "scatter!(x,y, markersize = 20*si, marker = (boca,RGBA(1,0,0,0.5)), key = false)"
   ]
  },
  {
   "cell_type": "code",
   "execution_count": null,
   "metadata": {},
   "outputs": [],
   "source": [
    "x = [1]\n",
    "y = [0]\n",
    "for i in 0:100\n",
    "    x = [1]\n",
    "    y = [0.1*i]\n",
    "    scatter(x,y, markersize = 30, marker = cabeza, markercolor = :white,  markeralpha=0.2, show = false)\n",
    "    scatter!(x,y, markersize = 10, marker = (nariz,RGBA(1,.3,0,0.5)))\n",
    "    scatter!(x,y, markersize = 20, marker = (ojod,RGBA(0,.5,.5,0.5)))\n",
    "    scatter!(x,y, markersize = 20, marker = (ojoi,RGBA(0,.5,.5,0.5)))\n",
    "    scatter!(x,y, markersize = 20, marker = (boca,RGBA(1,0,0,0.5)), key = false, xlim = (0,2), ylim=(0,10), show = :ijulia)\n",
    "end"
   ]
  },
  {
   "cell_type": "markdown",
   "metadata": {},
   "source": [
    "Otras funciones de plots que pueden interesar son : \n",
    "\n",
    "$histogram(Lista, nbins=entero)$, $heatmap(X,Y, M)$, $histogram2D(Lista1,Lista2,nbins =entero)$, $contour(X,Y,M)$, $quiver(vectores, quiver= functio)$, $surface(Mx,My,Mz)$, etc..  \n",
    "\n",
    "Por ahora no hablaremos de esas funciones. \n",
    "\n",
    "Para guardar una imágene de una gráfica, se usa la función savefig(\"nombre.extencion\"), en general se pude guardar como gif, pdf, jpg, png, etc... "
   ]
  },
  {
   "cell_type": "markdown",
   "metadata": {},
   "source": [
    "# Ajustes a curvas\n",
    "\n",
    "Para poder hacer ajustes a curvas y con ello obtener \"leyes\", \"ecuaciones de estado\" etc, necesitamos la paquetería LsqFit, que se instala simplemente usando Pkg.add(\"LsqFit\"). Esta paquetería permite ajustar los parámetros de una funcion que nosotros propongamos a un conjunto de datos. Funciona básicamente por mínimos cuadrados. Además de ajustar la mejor curva, también nos da la varianza de nuestros puntos con respecto a la curva que propongamos. "
   ]
  },
  {
   "cell_type": "code",
   "execution_count": null,
   "metadata": {},
   "outputs": [],
   "source": [
    "using LsqFit\n",
    "model(x, p) = p[1]*exp.(-x.*p[2])\n",
    "xdata = 0:20\n",
    "ydata = model(xdata, [1.0 2.0]) + 0.01*randn(length(xdata))\n",
    "p0 = [0., 0.1]\n",
    "fit = curve_fit(model, xdata, ydata, p0)  \n",
    "\n",
    "# esto también es un problema de la tarea, por lo que será necesario poner otra función en la tarea. \n",
    "# No es válida la función exponencial"
   ]
  },
  {
   "cell_type": "code",
   "execution_count": null,
   "metadata": {},
   "outputs": [],
   "source": [
    "P = fit.param\n",
    "plot(xdata, model(xdata,P), label = \"modelo\")\n",
    "scatter!(xdata,ydata,label = \"datos\")"
   ]
  },
  {
   "cell_type": "code",
   "execution_count": null,
   "metadata": {},
   "outputs": [],
   "source": []
  }
 ],
 "metadata": {
  "kernelspec": {
   "display_name": "Julia 1.0.2",
   "language": "julia",
   "name": "julia-1.0"
  },
  "language_info": {
   "file_extension": ".jl",
   "mimetype": "application/julia",
   "name": "julia",
   "version": "1.0.2"
  }
 },
 "nbformat": 4,
 "nbformat_minor": 2
}
