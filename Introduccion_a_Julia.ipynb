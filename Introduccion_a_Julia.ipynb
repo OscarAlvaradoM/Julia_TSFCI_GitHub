{
 "cells": [
  {
   "cell_type": "markdown",
   "metadata": {},
   "source": [
    "# Variables en Julia\n",
    "\n",
    "Lo primero que necesitamos aprender en el curso es qué tipo de variables maneja Julia.\n",
    "\n",
    "En Julia existen las típicas variables: **Enteros**, **Flotantes de presición doble**, **Cadenas**, etc. Por default, si uno pone números enteros, los reconocerá como tales, si pone un punto decimal, lo reconocerá como números de doble precisión, y si uno abre comillas lo reconocerá como una cadena. Por ejemplo: "
   ]
  },
  {
   "cell_type": "code",
   "execution_count": 6,
   "metadata": {},
   "outputs": [
    {
     "data": {
      "text/plain": [
       "(Int64, Float64, String)"
      ]
     },
     "execution_count": 6,
     "metadata": {},
     "output_type": "execute_result"
    }
   ],
   "source": [
    "a = 1\n",
    "b = 2.1\n",
    "c = \"hola\"\n",
    "typeof(a),typeof(b),typeof(c)"
   ]
  },
  {
   "cell_type": "code",
   "execution_count": 9,
   "metadata": {},
   "outputs": [
    {
     "data": {
      "text/plain": [
       "BigFloat"
      ]
     },
     "execution_count": 9,
     "metadata": {},
     "output_type": "execute_result"
    }
   ],
   "source": [
    "typeof(b)"
   ]
  },
  {
   "cell_type": "markdown",
   "metadata": {},
   "source": [
    "Si uno quiere incrementar el número de dígitos en los enteros puede utilizar la función *big()*, la cual también sirve para incrementar la presición en los flotantes. Por ejemplo: "
   ]
  },
  {
   "cell_type": "code",
   "execution_count": 7,
   "metadata": {},
   "outputs": [
    {
     "data": {
      "text/plain": [
       "(1234678987654321234567876543234567876543, 1.3000000000000000444089209850062616169452667236328125)"
      ]
     },
     "execution_count": 7,
     "metadata": {},
     "output_type": "execute_result"
    }
   ],
   "source": [
    "a,b = big(1234678987654321234567876543234567876543), big(1.3)"
   ]
  },
  {
   "cell_type": "markdown",
   "metadata": {},
   "source": [
    "Notarán que en el caso de *big(1.3)*, el valor que arroja es bastante distinto del esperado. Para corregir esto, se tienen que usar comillas y la función *BigFloat*. Si esta función se usa directamente dará una precisión de 256bits, para cambiar esto se puede usar la función *setprecision()* como se muestra a continuación: "
   ]
  },
  {
   "cell_type": "code",
   "execution_count": 10,
   "metadata": {},
   "outputs": [
    {
     "data": {
      "text/plain": [
       "1.34300000000000000000000000000000000000000000000000000000000000000000000000000000000000030000000000000000000000000000000000000000000000000000000000000000000000000000000000000000000000000000000000000000000000000000000000000000000000000000000000000000000000000000000000000000000000000000000000000000000009"
      ]
     },
     "execution_count": 10,
     "metadata": {},
     "output_type": "execute_result"
    }
   ],
   "source": [
    "setprecision(BigFloat,1000)\n",
    "BigFloat(\"1.3430000000000000000000000000000000000000000000000000000000000000000000000000000000000003\")"
   ]
  },
  {
   "cell_type": "markdown",
   "metadata": {},
   "source": [
    "Otra variable bastante común y útil son las listas. Estas se escriben dentro de corchetes []. Dentro puede haber cualquier tipo de variable, incluido listas. Cada elemento de la lista puede ir separado por un espacio o por una coma. Si lo que separa cada elemento de la lista es un espacio se interpreta como una lista horizontal (renglón), si lo que separa son comas (o ;), se interpreta como una lista vertical (columna). Por ejemplo: "
   ]
  },
  {
   "cell_type": "code",
   "execution_count": 13,
   "metadata": {},
   "outputs": [
    {
     "data": {
      "text/plain": [
       "5-element Array{Int64,1}:\n",
       " 1\n",
       " 2\n",
       " 3\n",
       " 4\n",
       " 5"
      ]
     },
     "execution_count": 13,
     "metadata": {},
     "output_type": "execute_result"
    }
   ],
   "source": [
    "x = [1,2,3,4,5]"
   ]
  },
  {
   "cell_type": "code",
   "execution_count": 17,
   "metadata": {},
   "outputs": [
    {
     "data": {
      "text/plain": [
       "1×5 Array{Int64,2}:\n",
       " 1  2  3  4  5"
      ]
     },
     "execution_count": 17,
     "metadata": {},
     "output_type": "execute_result"
    }
   ],
   "source": [
    "y = [1 2 3 4 5]"
   ]
  },
  {
   "cell_type": "markdown",
   "metadata": {},
   "source": [
    "También se pueden hacer matrices haciendo listas horizontales de listas verticales:"
   ]
  },
  {
   "cell_type": "code",
   "execution_count": 18,
   "metadata": {},
   "outputs": [
    {
     "data": {
      "text/plain": [
       "5×5 Array{Int64,2}:\n",
       " 1   2   3   4   5\n",
       " 2   4   6   8  10\n",
       " 3   6   9  12  15\n",
       " 4   8  12  16  20\n",
       " 5  10  15  20  25"
      ]
     },
     "execution_count": 18,
     "metadata": {},
     "output_type": "execute_result"
    }
   ],
   "source": [
    "A = [x 2x 3x 4x 5x]"
   ]
  },
  {
   "cell_type": "markdown",
   "metadata": {},
   "source": [
    "Sin embargo, no se pueden hacer matrices de listas verticales de listas horizontales"
   ]
  },
  {
   "cell_type": "code",
   "execution_count": 21,
   "metadata": {},
   "outputs": [
    {
     "data": {
      "text/plain": [
       "5-element Array{Array{Int64,2},1}:\n",
       " [1 2 … 4 5] \n",
       " [1 2 … 4 5] \n",
       " [1 2 … 4 5] \n",
       " [2 4 … 8 10]\n",
       " [1 2 … 4 5] "
      ]
     },
     "execution_count": 21,
     "metadata": {},
     "output_type": "execute_result"
    }
   ],
   "source": [
    "B = [y,y,y,2y,y]"
   ]
  },
  {
   "cell_type": "markdown",
   "metadata": {},
   "source": [
    "Para acceder a un elemento de una lista, vasta nombrar la lista, abrir un corchete y poner el índice de elemento que se quiere acceder. En el caso de las matrices se pone dos índices separados por una coma:"
   ]
  },
  {
   "cell_type": "code",
   "execution_count": 27,
   "metadata": {},
   "outputs": [
    {
     "data": {
      "text/plain": [
       "6"
      ]
     },
     "execution_count": 27,
     "metadata": {},
     "output_type": "execute_result"
    }
   ],
   "source": [
    "B[4][3]"
   ]
  },
  {
   "cell_type": "code",
   "execution_count": 25,
   "metadata": {},
   "outputs": [
    {
     "data": {
      "text/plain": [
       "5-element Array{Int64,1}:\n",
       "  3\n",
       "  6\n",
       "  9\n",
       " 12\n",
       " 15"
      ]
     },
     "execution_count": 25,
     "metadata": {},
     "output_type": "execute_result"
    }
   ],
   "source": [
    "A[3]"
   ]
  },
  {
   "cell_type": "markdown",
   "metadata": {},
   "source": [
    "Si se quieren ver todos los elementos de una columna o un renglón en una matriz, se puede sustituir uno de los indices por  \"**:**\""
   ]
  },
  {
   "cell_type": "code",
   "execution_count": 10,
   "metadata": {},
   "outputs": [
    {
     "data": {
      "text/plain": [
       "5-element Array{Int64,1}:\n",
       "  3\n",
       "  6\n",
       "  9\n",
       " 12\n",
       " 15"
      ]
     },
     "execution_count": 10,
     "metadata": {},
     "output_type": "execute_result"
    }
   ],
   "source": [
    "A[:,3]"
   ]
  },
  {
   "cell_type": "markdown",
   "metadata": {},
   "source": [
    "#### Otros tipos de variables: \n",
    "\n",
    "Hay una serie de tipos de variables extra en Julia y además uno puede crear sus propios tipos de variables usando \"struct\". No vamos a ver por el momento esto (que es parte de lo que vuelve a Julia un lenguaje orientado a objetos), pero sí mencionaré un par de variables más. \n",
    "\n",
    "Existen las fracciones, las cuales se pueden poner con \"//\", por ejemplo $\\frac{2}{3}$ se escribe como 2//3. \n",
    "\n",
    "También existen los números complejos, los cuales se escriben usando la parte imaginaria con el símbolo \"im\". Por ejemplo 2+3im.\n",
    "\n",
    "Un tipo de variable similar a las listas son los rangos, como serían los números entre 0 y 10, separados por 0.001. Esto se escribe 0:0.001:10 \n",
    "\n",
    "Por último, existen las variables boolianas: true, false. \n",
    "\n",
    "Cabe también mencionar que entre los flotantes están definidos los números NaN e Inf. \n"
   ]
  },
  {
   "cell_type": "code",
   "execution_count": 31,
   "metadata": {},
   "outputs": [
    {
     "data": {
      "text/plain": [
       "(Rational{Int64}, Complex{Int64}, Bool, StepRangeLen{Float64,Base.TwicePrecision{Float64},Base.TwicePrecision{Float64}})"
      ]
     },
     "execution_count": 31,
     "metadata": {},
     "output_type": "execute_result"
    }
   ],
   "source": [
    "typeof(2//3), typeof(2+3im), typeof(true), typeof(0:0.001:10)"
   ]
  },
  {
   "cell_type": "code",
   "execution_count": 38,
   "metadata": {},
   "outputs": [
    {
     "data": {
      "text/plain": [
       "0.0:0.001:10.0"
      ]
     },
     "execution_count": 38,
     "metadata": {},
     "output_type": "execute_result"
    }
   ],
   "source": [
    "a = 0:0.001:10\n"
   ]
  },
  {
   "cell_type": "code",
   "execution_count": 42,
   "metadata": {},
   "outputs": [
    {
     "data": {
      "text/plain": [
       "Inf"
      ]
     },
     "execution_count": 42,
     "metadata": {},
     "output_type": "execute_result"
    }
   ],
   "source": [
    "1/0."
   ]
  },
  {
   "cell_type": "markdown",
   "metadata": {},
   "source": [
    "## Operaciones\n",
    "\n",
    "Ya sabemos poner variables en Julia, ¿qué operaciones podemos realizar? Todas las típicas + algunas funciones un poco más raras: "
   ]
  },
  {
   "cell_type": "code",
   "execution_count": 45,
   "metadata": {},
   "outputs": [
    {
     "data": {
      "text/plain": [
       "13//51"
      ]
     },
     "execution_count": 45,
     "metadata": {},
     "output_type": "execute_result"
    }
   ],
   "source": [
    "2//3 - 7//17"
   ]
  },
  {
   "cell_type": "code",
   "execution_count": 52,
   "metadata": {},
   "outputs": [
    {
     "data": {
      "text/plain": [
       "(0.5191461142465229, 0.8760580505981934)"
      ]
     },
     "execution_count": 52,
     "metadata": {},
     "output_type": "execute_result"
    }
   ],
   "source": [
    "atan(1.2,2.1), atan(1.2)"
   ]
  },
  {
   "cell_type": "code",
   "execution_count": 56,
   "metadata": {},
   "outputs": [
    {
     "data": {
      "text/plain": [
       "(14.588899999999999, [-13.599, -9.056, 10.2], 6.434974747425199, [-2.4, 9.9, 7.0889], [8.0, 27.0, 151.419], 25)"
      ]
     },
     "execution_count": 56,
     "metadata": {},
     "output_type": "execute_result"
    }
   ],
   "source": [
    "using LinearAlgebra\n",
    "a = [2,3,5.33] \n",
    "b = [-1.2,3.3,1.33]\n",
    "a⋅b, a×b, norm(a), a.*b, a.^3, length(A)"
   ]
  },
  {
   "cell_type": "markdown",
   "metadata": {},
   "source": [
    "Notemos que tanto el producto \"\\*\", como la potencia \"^\", para el caso de listas, se requiere usar un punto antes de la operación. Esto significa que se aplicará esa operación a todos los elementos de la lista. Esto es general: "
   ]
  },
  {
   "cell_type": "code",
   "execution_count": 17,
   "metadata": {},
   "outputs": [
    {
     "data": {
      "text/plain": [
       "3-element Array{Float64,1}:\n",
       "  0.9092974268256817\n",
       "  0.1411200080598672\n",
       " -0.8152642144499634"
      ]
     },
     "execution_count": 17,
     "metadata": {},
     "output_type": "execute_result"
    }
   ],
   "source": [
    "sin.(a)"
   ]
  },
  {
   "cell_type": "markdown",
   "metadata": {},
   "source": [
    "También se pueden hacer las operaciones entre matrices:"
   ]
  },
  {
   "cell_type": "code",
   "execution_count": 59,
   "metadata": {},
   "outputs": [
    {
     "data": {
      "text/plain": [
       "(3, 3, 3)"
      ]
     },
     "execution_count": 59,
     "metadata": {},
     "output_type": "execute_result"
    }
   ],
   "source": [
    "A = rand(3,3)\n",
    "A*b, A*A, inv(A), transpose(A), size(A)"
   ]
  },
  {
   "cell_type": "markdown",
   "metadata": {},
   "source": [
    "Y básicamente todoas las operaciones de álgebra lineal. \n",
    "\n",
    "Existen algunas otras operaciones sobre listas que no son matemáticas, como agregar un elemento a una lista o quitarlo: "
   ]
  },
  {
   "cell_type": "code",
   "execution_count": 60,
   "metadata": {},
   "outputs": [
    {
     "data": {
      "text/plain": [
       "4-element Array{Float64,1}:\n",
       "  2.0 \n",
       "  3.0 \n",
       "  5.33\n",
       " 12.2 "
      ]
     },
     "execution_count": 60,
     "metadata": {},
     "output_type": "execute_result"
    }
   ],
   "source": [
    "push!(a,12.2)\n",
    "a"
   ]
  },
  {
   "cell_type": "code",
   "execution_count": 61,
   "metadata": {},
   "outputs": [
    {
     "data": {
      "text/plain": [
       "3-element Array{Float64,1}:\n",
       " 2.0 \n",
       " 3.0 \n",
       " 5.33"
      ]
     },
     "execution_count": 61,
     "metadata": {},
     "output_type": "execute_result"
    }
   ],
   "source": [
    "pop!(a)\n",
    "a"
   ]
  },
  {
   "cell_type": "markdown",
   "metadata": {},
   "source": [
    "Para borrar po agregar un elemento en una posición particular de una lista se pueden usar las siguientes operaciones: "
   ]
  },
  {
   "cell_type": "code",
   "execution_count": 63,
   "metadata": {},
   "outputs": [
    {
     "data": {
      "text/plain": [
       "5-element Array{Float64,1}:\n",
       " 2.0 \n",
       " 3.0 \n",
       " 8.0 \n",
       " 3.0 \n",
       " 5.33"
      ]
     },
     "execution_count": 63,
     "metadata": {},
     "output_type": "execute_result"
    }
   ],
   "source": [
    "insert!(a,3,8.)\n",
    "a"
   ]
  },
  {
   "cell_type": "code",
   "execution_count": 64,
   "metadata": {},
   "outputs": [
    {
     "data": {
      "text/plain": [
       "4-element Array{Float64,1}:\n",
       " 2.0 \n",
       " 8.0 \n",
       " 3.0 \n",
       " 5.33"
      ]
     },
     "execution_count": 64,
     "metadata": {},
     "output_type": "execute_result"
    }
   ],
   "source": [
    "deleteat!(a,2)"
   ]
  },
  {
   "cell_type": "markdown",
   "metadata": {},
   "source": [
    "Por supuesto también existen las operaciones típicas de teoría de números, round, ceil, floor. En cada una de ellas, se puede especificar si lo que se quiere es que la salida sea un número entero, flotante o de algún tipo. "
   ]
  },
  {
   "cell_type": "code",
   "execution_count": 69,
   "metadata": {},
   "outputs": [
    {
     "data": {
      "text/plain": [
       "(123.0, 124, 124)"
      ]
     },
     "execution_count": 69,
     "metadata": {},
     "output_type": "execute_result"
    }
   ],
   "source": [
    "floor(Int, 123.5), round(Int, 123.5), ceil(Int, 123.5)"
   ]
  },
  {
   "cell_type": "code",
   "execution_count": 73,
   "metadata": {},
   "outputs": [
    {
     "data": {
      "text/plain": [
       "false"
      ]
     },
     "execution_count": 73,
     "metadata": {},
     "output_type": "execute_result"
    }
   ],
   "source": [
    "a=3\n",
    "a == 4"
   ]
  },
  {
   "cell_type": "markdown",
   "metadata": {},
   "source": [
    "También hay operadores que arrojan valores booleanos, por ejemplo: "
   ]
  },
  {
   "cell_type": "code",
   "execution_count": 75,
   "metadata": {},
   "outputs": [
    {
     "data": {
      "text/plain": [
       "(false, true, true, false, true)"
      ]
     },
     "execution_count": 75,
     "metadata": {},
     "output_type": "execute_result"
    }
   ],
   "source": [
    "2 == 3, 2 < 3, 4 in 1:10, !(true), 2 ≠ 3"
   ]
  },
  {
   "cell_type": "markdown",
   "metadata": {},
   "source": [
    "Aunque no lo utilizaremos mucho en este curso, las operaciones con cadenas pueden ser útiles para facilitarnos un poco hacer código tedioso y repetitivo: "
   ]
  },
  {
   "cell_type": "code",
   "execution_count": 76,
   "metadata": {},
   "outputs": [
    {
     "data": {
      "text/plain": [
       "\"Hola, ¿cómo están?\""
      ]
     },
     "execution_count": 76,
     "metadata": {},
     "output_type": "execute_result"
    }
   ],
   "source": [
    "a = \"Hola\"\n",
    "b = \", ¿cómo están?\"\n",
    "a*b"
   ]
  },
  {
   "cell_type": "code",
   "execution_count": 78,
   "metadata": {},
   "outputs": [
    {
     "data": {
      "text/plain": [
       "18"
      ]
     },
     "execution_count": 78,
     "metadata": {},
     "output_type": "execute_result"
    }
   ],
   "source": [
    "length(a*b)"
   ]
  },
  {
   "cell_type": "code",
   "execution_count": 80,
   "metadata": {},
   "outputs": [
    {
     "data": {
      "text/plain": [
       "4"
      ]
     },
     "execution_count": 80,
     "metadata": {},
     "output_type": "execute_result"
    }
   ],
   "source": [
    "a = \"1+3\"\n",
    "expr = Meta.parse(a)\n",
    "eval(expr)"
   ]
  },
  {
   "cell_type": "markdown",
   "metadata": {},
   "source": [
    "Esta última operación puede ser de gran utilizada para la meta-programación, pero suele ser muy lento, así que no es recomendable. Para incertar variables dentro de un texto se puede usar el símbolo \\$: "
   ]
  },
  {
   "cell_type": "code",
   "execution_count": 82,
   "metadata": {},
   "outputs": [
    {
     "data": {
      "text/plain": [
       "\"hola Juana, cómo te va?\""
      ]
     },
     "execution_count": 82,
     "metadata": {},
     "output_type": "execute_result"
    }
   ],
   "source": [
    "nombre = \"Juana\"\n",
    "a = \"hola $(nombre), cómo te va?\""
   ]
  },
  {
   "cell_type": "markdown",
   "metadata": {},
   "source": [
    "## Ciclos\n",
    "\n",
    "Para terminar con las bases de Julia, necesitan conocer cómo generar ciclos. Hay básicamente 2 formas, con **For** y con **while**. A diferencia de fortran, en Julia NO existe un equivalente al goto. Si están acostumbrados a usarlo, les va a costar un poco de trabajo deshacerse de esa forma de pensar. \n",
    "\n",
    "For sirve para repetir sobre determinados valores una operación dada, while repite una operación hasta que se cumpla determinada condición. Con while hay que tener mucho cuidado, pues suele llevar a ciclos que no terminan!!!"
   ]
  },
  {
   "cell_type": "code",
   "execution_count": 85,
   "metadata": {},
   "outputs": [
    {
     "data": {
      "text/plain": [
       ":(for i3 = 1:2\n",
       "      #= none:1 =#\n",
       "      for i4 = 1:2\n",
       "          #= none:1 =#\n",
       "          for i9 = 1:2\n",
       "              #= none:1 =#\n",
       "              for ipedro = 1:2\n",
       "                  #= none:1 =#\n",
       "                  #= none:1 =# @show [i3, i4, i9, ipedro]\n",
       "              end\n",
       "          end\n",
       "      end\n",
       "  end)"
      ]
     },
     "execution_count": 85,
     "metadata": {},
     "output_type": "execute_result"
    }
   ],
   "source": [
    "b = \"\"\n",
    "for j in [3,4,9,\"pedro\"]\n",
    "    a = \"for i$(j) in 1:2 \"\n",
    "    b *= a\n",
    "end\n",
    "\n",
    "b = b*\"@show [i3,i4,i9,ipedro]  \"\n",
    "\n",
    "for j in [3,4,9,\"pedro\"]\n",
    "    a = \"end \"\n",
    "    b *= a\n",
    "end\n",
    "expr = Meta.parse(b)\n"
   ]
  },
  {
   "cell_type": "code",
   "execution_count": 49,
   "metadata": {},
   "outputs": [
    {
     "data": {
      "text/plain": [
       "9765625"
      ]
     },
     "execution_count": 49,
     "metadata": {},
     "output_type": "execute_result"
    }
   ],
   "source": [
    "5^10"
   ]
  },
  {
   "cell_type": "code",
   "execution_count": 29,
   "metadata": {},
   "outputs": [
    {
     "data": {
      "text/plain": [
       "197"
      ]
     },
     "execution_count": 29,
     "metadata": {},
     "output_type": "execute_result"
    }
   ],
   "source": [
    "a = 0\n",
    "for i in [2,3,5,6,44,45,92]\n",
    "    a += i\n",
    "end\n",
    "a"
   ]
  },
  {
   "cell_type": "code",
   "execution_count": 1,
   "metadata": {},
   "outputs": [
    {
     "name": "stdout",
     "output_type": "stream",
     "text": [
      "(x, contador) = (1.0, 1)\n",
      "(x, contador) = (1.5, 2)\n",
      "(x, contador) = (1.75, 3)\n",
      "(x, contador) = (1.875, 4)\n",
      "(x, contador) = (1.9375, 5)\n",
      "(x, contador) = (1.96875, 6)\n",
      "(x, contador) = (1.984375, 7)\n",
      "(x, contador) = (1.9921875, 8)\n",
      "(x, contador) = (1.99609375, 9)\n",
      "(x, contador) = (1.998046875, 10)\n",
      "(x, contador) = (1.9990234375, 11)\n",
      "(x, contador) = (1.99951171875, 12)\n",
      "(x, contador) = (1.999755859375, 13)\n",
      "(x, contador) = (1.9998779296875, 14)\n",
      "(x, contador) = (1.99993896484375, 15)\n",
      "(x, contador) = (1.999969482421875, 16)\n",
      "(x, contador) = (1.9999847412109375, 17)\n",
      "(x, contador) = (1.9999923706054688, 18)\n",
      "(x, contador) = (1.9999961853027344, 19)\n",
      "(x, contador) = (1.9999980926513672, 20)\n",
      "(x, contador) = (1.9999990463256836, 21)\n",
      "(x, contador) = (1.9999995231628418, 22)\n",
      "(x, contador) = (1.999999761581421, 23)\n",
      "(x, contador) = (1.9999998807907104, 24)\n",
      "(x, contador) = (1.9999999403953552, 25)\n",
      "(x, contador) = (1.9999999701976776, 26)\n",
      "(x, contador) = (1.9999999850988388, 27)\n",
      "(x, contador) = (1.9999999925494194, 28)\n",
      "(x, contador) = (1.9999999962747097, 29)\n",
      "(x, contador) = (1.9999999981373549, 30)\n",
      "(x, contador) = (1.9999999990686774, 31)\n",
      "(x, contador) = (1.9999999995343387, 32)\n",
      "(x, contador) = (1.9999999997671694, 33)\n",
      "(x, contador) = (1.9999999998835847, 34)\n",
      "(x, contador) = (1.9999999999417923, 35)\n",
      "(x, contador) = (1.9999999999708962, 36)\n",
      "(x, contador) = (1.999999999985448, 37)\n",
      "(x, contador) = (1.999999999992724, 38)\n",
      "(x, contador) = (1.999999999996362, 39)\n",
      "(x, contador) = (1.999999999998181, 40)\n",
      "(x, contador) = (1.9999999999990905, 41)\n",
      "(x, contador) = (1.9999999999995453, 42)\n",
      "(x, contador) = (1.9999999999997726, 43)\n",
      "(x, contador) = (1.9999999999998863, 44)\n",
      "(x, contador) = (1.9999999999999432, 45)\n",
      "(x, contador) = (1.9999999999999716, 46)\n",
      "(x, contador) = (1.9999999999999858, 47)\n",
      "(x, contador) = (1.999999999999993, 48)\n",
      "(x, contador) = (1.9999999999999964, 49)\n",
      "(x, contador) = (1.9999999999999982, 50)\n",
      "(x, contador) = (1.9999999999999991, 51)\n",
      "(x, contador) = (1.9999999999999996, 52)\n",
      "(x, contador) = (1.9999999999999998, 53)\n",
      "(x, contador) = (2.0, 54)\n",
      "(x, contador) = (2.0, 55)\n",
      "(x, contador) = (2.0, 56)\n",
      "(x, contador) = (2.0, 57)\n",
      "(x, contador) = (2.0, 58)\n",
      "(x, contador) = (2.0, 59)\n",
      "(x, contador) = (2.0, 60)\n",
      "(x, contador) = (2.0, 61)\n",
      "(x, contador) = (2.0, 62)\n",
      "(x, contador) = (2.0, 63)\n",
      "(x, contador) = (2.0, 64)\n",
      "(x, contador) = (2.0, 65)\n",
      "(x, contador) = (2.0, 66)\n",
      "(x, contador) = (2.0, 67)\n",
      "(x, contador) = (2.0, 68)\n",
      "(x, contador) = (2.0, 69)\n",
      "(x, contador) = (2.0, 70)\n",
      "(x, contador) = (2.0, 71)\n",
      "(x, contador) = (2.0, 72)\n",
      "(x, contador) = (2.0, 73)\n",
      "(x, contador) = (2.0, 74)\n",
      "(x, contador) = (2.0, 75)\n",
      "(x, contador) = (2.0, 76)\n",
      "(x, contador) = (2.0, 77)\n",
      "(x, contador) = (2.0, 78)\n",
      "(x, contador) = (2.0, 79)\n",
      "(x, contador) = (2.0, 80)\n",
      "(x, contador) = (2.0, 81)\n",
      "(x, contador) = (2.0, 82)\n",
      "(x, contador) = (2.0, 83)\n",
      "(x, contador) = (2.0, 84)\n",
      "(x, contador) = (2.0, 85)\n",
      "(x, contador) = (2.0, 86)\n",
      "(x, contador) = (2.0, 87)\n",
      "(x, contador) = (2.0, 88)\n",
      "(x, contador) = (2.0, 89)\n",
      "(x, contador) = (2.0, 90)\n",
      "(x, contador) = (2.0, 91)\n",
      "(x, contador) = (2.0, 92)\n",
      "(x, contador) = (2.0, 93)\n",
      "(x, contador) = (2.0, 94)\n",
      "(x, contador) = (2.0, 95)\n",
      "(x, contador) = (2.0, 96)\n",
      "(x, contador) = (2.0, 97)\n",
      "(x, contador) = (2.0, 98)\n",
      "(x, contador) = (2.0, 99)\n",
      "(x, contador) = (2.0, 100)\n"
     ]
    },
    {
     "data": {
      "text/plain": [
       "2.0"
      ]
     },
     "execution_count": 1,
     "metadata": {},
     "output_type": "execute_result"
    }
   ],
   "source": [
    "x = 0\n",
    "contador = 0\n",
    "while x < 100 && contador < 100 \n",
    "    contador += 1\n",
    "    x += 2\n",
    "    x = x/2\n",
    "    @show x, contador\n",
    "end\n",
    "x"
   ]
  },
  {
   "cell_type": "code",
   "execution_count": 3,
   "metadata": {},
   "outputs": [
    {
     "data": {
      "text/plain": [
       "51-element Array{Float64,1}:\n",
       " 0.79              \n",
       " 0.7861            \n",
       " 0.7824            \n",
       " 0.7788999999999999\n",
       " 0.7756000000000001\n",
       " 0.7725            \n",
       " 0.7696000000000001\n",
       " 0.7669            \n",
       " 0.7644            \n",
       " 0.7621            \n",
       " 0.76              \n",
       " 0.7581            \n",
       " 0.7564            \n",
       " ⋮                 \n",
       " 0.7861            \n",
       " 0.79              \n",
       " 0.7941            \n",
       " 0.7984            \n",
       " 0.8029            \n",
       " 0.8076            \n",
       " 0.8125            \n",
       " 0.8176            \n",
       " 0.8229            \n",
       " 0.8284            \n",
       " 0.8341000000000001\n",
       " 0.8400000000000001"
      ]
     },
     "execution_count": 3,
     "metadata": {},
     "output_type": "execute_result"
    }
   ],
   "source": [
    "X = [x^2-x+1 for x in 0.3:0.01:.8]"
   ]
  },
  {
   "cell_type": "markdown",
   "metadata": {},
   "source": [
    "## Condicional If\n",
    "\n",
    "El condicional If, aplica una operación si se cumple la condición dada. También existe elseif, que permite aplicar una nueva operación con una segunda condición si es que no se cumple la primera. Por último está la opción de usar else, que permite utilizar una nueva operación si no se cumplió ninguna de las condiciones previas: "
   ]
  },
  {
   "cell_type": "code",
   "execution_count": 6,
   "metadata": {},
   "outputs": [
    {
     "data": {
      "text/plain": [
       "\"Hola Paco\""
      ]
     },
     "execution_count": 6,
     "metadata": {},
     "output_type": "execute_result"
    }
   ],
   "source": [
    "x = 0\n",
    "if x == 0\n",
    "    nombre = \"Paco\"\n",
    "elseif x == 1\n",
    "    nombre = \"Luis\"\n",
    "else \n",
    "    nombre = \"María\"\n",
    "end\n",
    "saludo = \"Hola $(nombre)\""
   ]
  },
  {
   "cell_type": "markdown",
   "metadata": {},
   "source": [
    "## Funciones\n",
    "\n",
    "En Julia casi todas las operaciones son funciones. Por ejemplo, cuando ponemos 1+1, en realidad estamos escribiendo la función +(1,1)"
   ]
  },
  {
   "cell_type": "code",
   "execution_count": 1,
   "metadata": {},
   "outputs": [
    {
     "data": {
      "text/plain": [
       "2"
      ]
     },
     "execution_count": 1,
     "metadata": {},
     "output_type": "execute_result"
    }
   ],
   "source": [
    "+(1,1)"
   ]
  },
  {
   "cell_type": "code",
   "execution_count": 19,
   "metadata": {},
   "outputs": [
    {
     "data": {
      "text/plain": [
       "53.77251802688813"
      ]
     },
     "execution_count": 19,
     "metadata": {},
     "output_type": "execute_result"
    }
   ],
   "source": [
    "a = rand(100)\n",
    "sum(a)"
   ]
  },
  {
   "cell_type": "markdown",
   "metadata": {},
   "source": [
    "En general podemos definir funciones como lo hacemos en cálculo, poniendo el nombre de la función, seguido de paréntecis que dentro tienen los argumentos que se evaluarán, después un signo de igual y seguido de eso las instrucciones sobre cómo operar la función. Por ejemplo: "
   ]
  },
  {
   "cell_type": "code",
   "execution_count": 22,
   "metadata": {},
   "outputs": [
    {
     "data": {
      "text/plain": [
       "13851.156345971258"
      ]
     },
     "execution_count": 22,
     "metadata": {},
     "output_type": "execute_result"
    }
   ],
   "source": [
    "Area_circulo(r) = π*r^2\n",
    "Area_circulo(66.4)"
   ]
  },
  {
   "cell_type": "code",
   "execution_count": 23,
   "metadata": {},
   "outputs": [
    {
     "data": {
      "text/plain": [
       "3.1"
      ]
     },
     "execution_count": 23,
     "metadata": {},
     "output_type": "execute_result"
    }
   ],
   "source": [
    "Area_triangulo(base,altura) = 0.5*base*altura\n",
    "Area_triangulo(2,3.1)"
   ]
  },
  {
   "cell_type": "markdown",
   "metadata": {},
   "source": [
    "Sin embargo, hay algunas funciones lo suficientemente complejas que utilizan condicionales y ciclos para definirse. Estas funciones se pueden definir utilizando la palabra function:"
   ]
  },
  {
   "cell_type": "code",
   "execution_count": 29,
   "metadata": {},
   "outputs": [
    {
     "data": {
      "text/plain": [
       "\"estoy ocupado\""
      ]
     },
     "execution_count": 29,
     "metadata": {},
     "output_type": "execute_result"
    }
   ],
   "source": [
    "function Saludo(nombre, hora)\n",
    "    a = :string\n",
    "    if hora<12\n",
    "        a = \"buenos días, $(nombre), ¿cómo te va?\"\n",
    "    elseif 12<=hora<18\n",
    "        a = \"buenas tardes, $(nombre), ¿cómo te va?\"\n",
    "        return \"estoy ocupado\"\n",
    "    else\n",
    "        a = \"buenas noches, $(nombre), ¿cómo te va?\"\n",
    "    end\n",
    "    for i in 1:2\n",
    "        \n",
    "    end\n",
    "    a\n",
    "end\n",
    "\n",
    "Saludo(\"Ata\",15)"
   ]
  },
  {
   "cell_type": "markdown",
   "metadata": {},
   "source": [
    "# ¿Cómo medir el tiempo de cómputo?\n",
    "\n",
    "Existen 2 métodos, el primero es usar el macro @time, aunque si lo único que se desea medir es el tiempo de cómputo, es más práctico usar @elapsed. El segundo método es más preciso, pero requiere más tiempo de análisis y la paquetería BenchmarkTools. Usando esa paquetería, se puede hacer un mejor cálculo con el macro @btime. \n",
    "\n",
    "Debe notarse que Julia es un lenguaje compilado, lo que significa que la primera vez que se utiliza una función tardará más, pues la compila. Por eso, si se usa @time o @elapsed, es conveniente hacerlo por lo menos 2 veces, el primer tiempo tendrá un error debido a la compilación. "
   ]
  },
  {
   "cell_type": "code",
   "execution_count": 48,
   "metadata": {},
   "outputs": [
    {
     "data": {
      "text/plain": [
       "0.002840579"
      ]
     },
     "execution_count": 48,
     "metadata": {},
     "output_type": "execute_result"
    }
   ],
   "source": [
    "t = @elapsed 15678765432387654309090909782+115090900909676323456"
   ]
  },
  {
   "cell_type": "code",
   "execution_count": 33,
   "metadata": {},
   "outputs": [
    {
     "data": {
      "text/plain": [
       "9.27e-7"
      ]
     },
     "execution_count": 33,
     "metadata": {},
     "output_type": "execute_result"
    }
   ],
   "source": [
    ".482243951"
   ]
  },
  {
   "cell_type": "code",
   "execution_count": 40,
   "metadata": {},
   "outputs": [
    {
     "data": {
      "text/plain": [
       "0.335157642"
      ]
     },
     "execution_count": 40,
     "metadata": {},
     "output_type": "execute_result"
    }
   ],
   "source": [
    "T = []\n",
    "t = @elapsed for i in big.(100000000:12345679:10000000000000)\n",
    "    big(i)^2\n",
    "    #push!(T, t)\n",
    "end\n",
    "t"
   ]
  },
  {
   "cell_type": "code",
   "execution_count": 38,
   "metadata": {},
   "outputs": [
    {
     "name": "stdout",
     "output_type": "stream",
     "text": [
      "  509.075 ms (8099951 allocations: 135.96 MiB)\n"
     ]
    }
   ],
   "source": [
    "using BenchmarkTools\n",
    "@btime for i in big.(100000000:12345679:10000000000000)\n",
    "    big(i)^2\n",
    "end"
   ]
  },
  {
   "cell_type": "markdown",
   "metadata": {},
   "source": [
    "# Complejidad computacional\n",
    "\n",
    "¿Cuánto tiempo tardará mi código con la simulación sobre una mezcla de gases? Tengo la información de cuánto tarda con 100 o 1000 partículas de cada gas, pero me es muy insuficiente la estadística, tengo que usar por lo menos $10^6$ partículas, o sea, mil veces más que la simulación de prueba. \n",
    "\n",
    "Ingenuamente uno podría pensar que será 1000veces más tardada la simulación. Quizá para mil partículas tardaba 1s, así que esperamos que para $10^6$ partículas tarde cerca de 20minutos. Después de unas horas apago la compu y culpo a Julia de haberse trabado. \n",
    "\n",
    "Quizá no se trabó, sino que la complejidad de mi algoritmo no va como n, sino como n^2, en cuyo caso debería tardarse $10^6$s, lo que significa aproximadamante 12 días. \n",
    "\n",
    "Eso es lo que mide la complegidad computacional y para ello se usa el símbolo *O(n)*, que significa, de qué forma se escala el tiempo de cómputo al incrementar el número de elementos sobre los cuales haremos el cálculo. Así, *O(n) = n* significa una relación lineal, mientras que $O(n) = n^2$ significa una relación cuadrática en el tiempo de cómputo si incrementamos $n$. \n",
    "\n",
    "¿Cómo calculamos $O(n)$? El cálculo podría hacerse sobre el promedio, la peor de las situaciones. Esta $O$ se refiere a la peor de las situaciones. Cuando se refiere al promedio en general se usa una $o$ minúscula. "
   ]
  },
  {
   "cell_type": "markdown",
   "metadata": {},
   "source": [
    "#### ¿cuál es la complejidad de una suma de números? \n",
    "\n",
    "Al sumar a+b en la computadora, pasamos a un sistema binario. La primera dificultad es interpretar el número. Después se sigue un algoritmo muy parecido al que aprendimos en la primaria. \n",
    "\n",
    "En ese caso ¿Podrías calcular la complejidad de la suma? ¿Qué significa $n$ en este caso?\n",
    "\n",
    "¿Hay forma de mejorar el algoritmo de la suma? \n",
    "\n",
    "Esta y otras preguntas... la siguiente clase... también veremos algo de graficación la siguiente clase y se comenzará la primera tarea (la que es regalo). "
   ]
  },
  {
   "cell_type": "code",
   "execution_count": null,
   "metadata": {},
   "outputs": [],
   "source": []
  }
 ],
 "metadata": {
  "kernelspec": {
   "display_name": "Julia 1.0.2",
   "language": "julia",
   "name": "julia-1.0"
  },
  "language_info": {
   "file_extension": ".jl",
   "mimetype": "application/julia",
   "name": "julia",
   "version": "1.0.2"
  }
 },
 "nbformat": 4,
 "nbformat_minor": 2
}
